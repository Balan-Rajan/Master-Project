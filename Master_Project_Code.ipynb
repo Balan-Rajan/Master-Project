{
 "cells": [
  {
   "cell_type": "code",
   "execution_count": 1,
   "id": "370f7d36",
   "metadata": {},
   "outputs": [
    {
     "name": "stderr",
     "output_type": "stream",
     "text": [
      "C:\\Users\\Viji\\Anaconda3\\lib\\site-packages\\_distutils_hack\\__init__.py:30: UserWarning: Setuptools is replacing distutils.\n",
      "  warnings.warn(\"Setuptools is replacing distutils.\")\n"
     ]
    },
    {
     "name": "stdout",
     "output_type": "stream",
     "text": [
      "Requirement already satisfied: pandas in c:\\users\\viji\\anaconda3\\lib\\site-packages (1.4.2)\n",
      "Requirement already satisfied: pytz>=2020.1 in c:\\users\\viji\\anaconda3\\lib\\site-packages (from pandas) (2021.3)\n",
      "Requirement already satisfied: numpy>=1.18.5 in c:\\users\\viji\\anaconda3\\lib\\site-packages (from pandas) (1.22.4)\n",
      "Requirement already satisfied: python-dateutil>=2.8.1 in c:\\users\\viji\\anaconda3\\lib\\site-packages (from pandas) (2.8.2)\n",
      "Requirement already satisfied: six>=1.5 in c:\\users\\viji\\anaconda3\\lib\\site-packages (from python-dateutil>=2.8.1->pandas) (1.16.0)\n",
      "Requirement already satisfied: numpy in c:\\users\\viji\\anaconda3\\lib\\site-packages (1.22.4)\n",
      "Requirement already satisfied: matplotlib in c:\\users\\viji\\anaconda3\\lib\\site-packages (3.5.1)\n",
      "Requirement already satisfied: pyparsing>=2.2.1 in c:\\users\\viji\\anaconda3\\lib\\site-packages (from matplotlib) (3.0.4)\n",
      "Requirement already satisfied: packaging>=20.0 in c:\\users\\viji\\anaconda3\\lib\\site-packages (from matplotlib) (21.3)\n",
      "Requirement already satisfied: fonttools>=4.22.0 in c:\\users\\viji\\anaconda3\\lib\\site-packages (from matplotlib) (4.25.0)\n",
      "Requirement already satisfied: cycler>=0.10 in c:\\users\\viji\\anaconda3\\lib\\site-packages (from matplotlib) (0.11.0)\n",
      "Requirement already satisfied: kiwisolver>=1.0.1 in c:\\users\\viji\\anaconda3\\lib\\site-packages (from matplotlib) (1.3.2)\n",
      "Requirement already satisfied: python-dateutil>=2.7 in c:\\users\\viji\\anaconda3\\lib\\site-packages (from matplotlib) (2.8.2)\n",
      "Requirement already satisfied: pillow>=6.2.0 in c:\\users\\viji\\anaconda3\\lib\\site-packages (from matplotlib) (9.0.1)\n",
      "Requirement already satisfied: numpy>=1.17 in c:\\users\\viji\\anaconda3\\lib\\site-packages (from matplotlib) (1.22.4)\n",
      "Requirement already satisfied: six>=1.5 in c:\\users\\viji\\anaconda3\\lib\\site-packages (from python-dateutil>=2.7->matplotlib) (1.16.0)\n",
      "Requirement already satisfied: seaborn in c:\\users\\viji\\anaconda3\\lib\\site-packages (0.11.2)\n",
      "Requirement already satisfied: scipy>=1.0 in c:\\users\\viji\\anaconda3\\lib\\site-packages (from seaborn) (1.7.3)\n",
      "Requirement already satisfied: pandas>=0.23 in c:\\users\\viji\\anaconda3\\lib\\site-packages (from seaborn) (1.4.2)\n",
      "Requirement already satisfied: numpy>=1.15 in c:\\users\\viji\\anaconda3\\lib\\site-packages (from seaborn) (1.22.4)\n",
      "Requirement already satisfied: matplotlib>=2.2 in c:\\users\\viji\\anaconda3\\lib\\site-packages (from seaborn) (3.5.1)\n",
      "Requirement already satisfied: pillow>=6.2.0 in c:\\users\\viji\\anaconda3\\lib\\site-packages (from matplotlib>=2.2->seaborn) (9.0.1)\n",
      "Requirement already satisfied: python-dateutil>=2.7 in c:\\users\\viji\\anaconda3\\lib\\site-packages (from matplotlib>=2.2->seaborn) (2.8.2)\n",
      "Requirement already satisfied: fonttools>=4.22.0 in c:\\users\\viji\\anaconda3\\lib\\site-packages (from matplotlib>=2.2->seaborn) (4.25.0)\n",
      "Requirement already satisfied: pyparsing>=2.2.1 in c:\\users\\viji\\anaconda3\\lib\\site-packages (from matplotlib>=2.2->seaborn) (3.0.4)\n",
      "Requirement already satisfied: packaging>=20.0 in c:\\users\\viji\\anaconda3\\lib\\site-packages (from matplotlib>=2.2->seaborn) (21.3)\n",
      "Requirement already satisfied: kiwisolver>=1.0.1 in c:\\users\\viji\\anaconda3\\lib\\site-packages (from matplotlib>=2.2->seaborn) (1.3.2)\n",
      "Requirement already satisfied: cycler>=0.10 in c:\\users\\viji\\anaconda3\\lib\\site-packages (from matplotlib>=2.2->seaborn) (0.11.0)\n",
      "Requirement already satisfied: pytz>=2020.1 in c:\\users\\viji\\anaconda3\\lib\\site-packages (from pandas>=0.23->seaborn) (2021.3)\n",
      "Requirement already satisfied: six>=1.5 in c:\\users\\viji\\anaconda3\\lib\\site-packages (from python-dateutil>=2.7->matplotlib>=2.2->seaborn) (1.16.0)\n",
      "Requirement already satisfied: toad in c:\\users\\viji\\anaconda3\\lib\\site-packages (0.1.2)\n",
      "Requirement already satisfied: scikit-learn>=0.21 in c:\\users\\viji\\anaconda3\\lib\\site-packages (from toad) (1.0.2)\n",
      "Requirement already satisfied: setuptools in c:\\users\\viji\\anaconda3\\lib\\site-packages (from toad) (61.2.0)\n",
      "Requirement already satisfied: scipy in c:\\users\\viji\\anaconda3\\lib\\site-packages (from toad) (1.7.3)\n",
      "Requirement already satisfied: Cython>=0.29.15 in c:\\users\\viji\\anaconda3\\lib\\site-packages (from toad) (0.29.28)\n",
      "Requirement already satisfied: joblib>=0.12 in c:\\users\\viji\\anaconda3\\lib\\site-packages (from toad) (1.1.0)\n",
      "Requirement already satisfied: pandas in c:\\users\\viji\\anaconda3\\lib\\site-packages (from toad) (1.4.2)\n",
      "Requirement already satisfied: seaborn>=0.10.0 in c:\\users\\viji\\anaconda3\\lib\\site-packages (from toad) (0.11.2)\n",
      "Requirement already satisfied: numpy>=1.20 in c:\\users\\viji\\anaconda3\\lib\\site-packages (from toad) (1.22.4)\n",
      "Requirement already satisfied: threadpoolctl>=2.0.0 in c:\\users\\viji\\anaconda3\\lib\\site-packages (from scikit-learn>=0.21->toad) (2.2.0)\n",
      "Requirement already satisfied: matplotlib>=2.2 in c:\\users\\viji\\anaconda3\\lib\\site-packages (from seaborn>=0.10.0->toad) (3.5.1)\n",
      "Requirement already satisfied: pillow>=6.2.0 in c:\\users\\viji\\anaconda3\\lib\\site-packages (from matplotlib>=2.2->seaborn>=0.10.0->toad) (9.0.1)\n",
      "Requirement already satisfied: pyparsing>=2.2.1 in c:\\users\\viji\\anaconda3\\lib\\site-packages (from matplotlib>=2.2->seaborn>=0.10.0->toad) (3.0.4)\n",
      "Requirement already satisfied: fonttools>=4.22.0 in c:\\users\\viji\\anaconda3\\lib\\site-packages (from matplotlib>=2.2->seaborn>=0.10.0->toad) (4.25.0)\n",
      "Requirement already satisfied: python-dateutil>=2.7 in c:\\users\\viji\\anaconda3\\lib\\site-packages (from matplotlib>=2.2->seaborn>=0.10.0->toad) (2.8.2)\n",
      "Requirement already satisfied: kiwisolver>=1.0.1 in c:\\users\\viji\\anaconda3\\lib\\site-packages (from matplotlib>=2.2->seaborn>=0.10.0->toad) (1.3.2)\n",
      "Requirement already satisfied: cycler>=0.10 in c:\\users\\viji\\anaconda3\\lib\\site-packages (from matplotlib>=2.2->seaborn>=0.10.0->toad) (0.11.0)\n",
      "Requirement already satisfied: packaging>=20.0 in c:\\users\\viji\\anaconda3\\lib\\site-packages (from matplotlib>=2.2->seaborn>=0.10.0->toad) (21.3)\n",
      "Requirement already satisfied: pytz>=2020.1 in c:\\users\\viji\\anaconda3\\lib\\site-packages (from pandas->toad) (2021.3)\n",
      "Requirement already satisfied: six>=1.5 in c:\\users\\viji\\anaconda3\\lib\\site-packages (from python-dateutil>=2.7->matplotlib>=2.2->seaborn>=0.10.0->toad) (1.16.0)\n"
     ]
    },
    {
     "name": "stderr",
     "output_type": "stream",
     "text": [
      "ERROR: Could not find a version that satisfies the requirement pickle (from versions: none)\n",
      "ERROR: No matching distribution found for pickle\n"
     ]
    },
    {
     "name": "stdout",
     "output_type": "stream",
     "text": [
      "Requirement already satisfied: sklearn in c:\\users\\viji\\anaconda3\\lib\\site-packages (0.0)\n",
      "Requirement already satisfied: scikit-learn in c:\\users\\viji\\anaconda3\\lib\\site-packages (from sklearn) (1.0.2)\n",
      "Requirement already satisfied: scipy>=1.1.0 in c:\\users\\viji\\anaconda3\\lib\\site-packages (from scikit-learn->sklearn) (1.7.3)\n",
      "Requirement already satisfied: numpy>=1.14.6 in c:\\users\\viji\\anaconda3\\lib\\site-packages (from scikit-learn->sklearn) (1.22.4)\n",
      "Requirement already satisfied: joblib>=0.11 in c:\\users\\viji\\anaconda3\\lib\\site-packages (from scikit-learn->sklearn) (1.1.0)\n",
      "Requirement already satisfied: threadpoolctl>=2.0.0 in c:\\users\\viji\\anaconda3\\lib\\site-packages (from scikit-learn->sklearn) (2.2.0)\n"
     ]
    }
   ],
   "source": [
    "import numpy as np\n",
    "import pandas as pd\n",
    "import matplotlib.pyplot as plt\n",
    "import seaborn as sns\n",
    "%matplotlib inline\n",
    "import pkg_resources\n",
    "import pip\n",
    "installedPackages = {pkg.key for pkg in pkg_resources.working_set}\n",
    "required = { 'pandas','numpy', 'matplotlib', 'seaborn','toad','pickle','sklearn'}\n",
    "missing = required - installedPackages\n",
    "if missing:\n",
    "    !pip install pandas\n",
    "    !pip install numpy\n",
    "    !pip install matplotlib\n",
    "    !pip install seaborn\n",
    "    !pip install toad\n",
    "    !pip install pickle\n",
    "    !pip install sklearn"
   ]
  },
  {
   "cell_type": "code",
   "execution_count": 136,
   "id": "708bf7f7",
   "metadata": {},
   "outputs": [],
   "source": [
    "#import Libraries\n",
    "from sklearn.metrics import roc_auc_score,roc_curve,auc,precision_recall_curve\n",
    "from sklearn.model_selection import train_test_split\n",
    "from sklearn.metrics import confusion_matrix\n",
    "from sklearn.model_selection import cross_val_score\n",
    "from sklearn.metrics import accuracy_score,confusion_matrix,classification_report\n",
    "from sklearn import metrics \n",
    "import pandas as pd\n",
    "import numpy as np\n",
    "import glob\n",
    "import math\n",
    "import seaborn as sns \n",
    "import matplotlib.pyplot as plt\n",
    "import toad\n",
    "import pickle\n",
    "import time"
   ]
  },
  {
   "cell_type": "markdown",
   "id": "e3d90998",
   "metadata": {},
   "source": [
    "## Data Preprocessing:"
   ]
  },
  {
   "cell_type": "code",
   "execution_count": 3,
   "id": "18ab7add",
   "metadata": {},
   "outputs": [],
   "source": [
    "# Load the Date into the dataframe\n",
    "\n",
    "df=pd.read_csv('C://Users//Viji//OneDrive - UWE Bristol//Desktop//Balan_Dissertation//Final//Data Sets-sample//Data//UCI_Credit_Card.csv')"
   ]
  },
  {
   "cell_type": "code",
   "execution_count": 4,
   "id": "9dcdd744",
   "metadata": {},
   "outputs": [
    {
     "data": {
      "text/plain": [
       "(30000, 25)"
      ]
     },
     "execution_count": 4,
     "metadata": {},
     "output_type": "execute_result"
    }
   ],
   "source": [
    "# check the size of the data\n",
    "df.shape"
   ]
  },
  {
   "cell_type": "code",
   "execution_count": 5,
   "id": "882bac7b",
   "metadata": {},
   "outputs": [
    {
     "data": {
      "text/html": [
       "<div>\n",
       "<style scoped>\n",
       "    .dataframe tbody tr th:only-of-type {\n",
       "        vertical-align: middle;\n",
       "    }\n",
       "\n",
       "    .dataframe tbody tr th {\n",
       "        vertical-align: top;\n",
       "    }\n",
       "\n",
       "    .dataframe thead th {\n",
       "        text-align: right;\n",
       "    }\n",
       "</style>\n",
       "<table border=\"1\" class=\"dataframe\">\n",
       "  <thead>\n",
       "    <tr style=\"text-align: right;\">\n",
       "      <th></th>\n",
       "      <th>ID</th>\n",
       "      <th>LIMIT_BAL</th>\n",
       "      <th>SEX</th>\n",
       "      <th>EDUCATION</th>\n",
       "      <th>MARRIAGE</th>\n",
       "      <th>AGE</th>\n",
       "      <th>PAY_0</th>\n",
       "      <th>PAY_2</th>\n",
       "      <th>PAY_3</th>\n",
       "      <th>PAY_4</th>\n",
       "      <th>...</th>\n",
       "      <th>BILL_AMT4</th>\n",
       "      <th>BILL_AMT5</th>\n",
       "      <th>BILL_AMT6</th>\n",
       "      <th>PAY_AMT1</th>\n",
       "      <th>PAY_AMT2</th>\n",
       "      <th>PAY_AMT3</th>\n",
       "      <th>PAY_AMT4</th>\n",
       "      <th>PAY_AMT5</th>\n",
       "      <th>PAY_AMT6</th>\n",
       "      <th>default.payment.next.month</th>\n",
       "    </tr>\n",
       "  </thead>\n",
       "  <tbody>\n",
       "    <tr>\n",
       "      <th>0</th>\n",
       "      <td>1</td>\n",
       "      <td>20000.0</td>\n",
       "      <td>2</td>\n",
       "      <td>2</td>\n",
       "      <td>1</td>\n",
       "      <td>24</td>\n",
       "      <td>2</td>\n",
       "      <td>2</td>\n",
       "      <td>-1</td>\n",
       "      <td>-1</td>\n",
       "      <td>...</td>\n",
       "      <td>0.0</td>\n",
       "      <td>0.0</td>\n",
       "      <td>0.0</td>\n",
       "      <td>0.0</td>\n",
       "      <td>689.0</td>\n",
       "      <td>0.0</td>\n",
       "      <td>0.0</td>\n",
       "      <td>0.0</td>\n",
       "      <td>0.0</td>\n",
       "      <td>1</td>\n",
       "    </tr>\n",
       "    <tr>\n",
       "      <th>1</th>\n",
       "      <td>2</td>\n",
       "      <td>120000.0</td>\n",
       "      <td>2</td>\n",
       "      <td>2</td>\n",
       "      <td>2</td>\n",
       "      <td>26</td>\n",
       "      <td>-1</td>\n",
       "      <td>2</td>\n",
       "      <td>0</td>\n",
       "      <td>0</td>\n",
       "      <td>...</td>\n",
       "      <td>3272.0</td>\n",
       "      <td>3455.0</td>\n",
       "      <td>3261.0</td>\n",
       "      <td>0.0</td>\n",
       "      <td>1000.0</td>\n",
       "      <td>1000.0</td>\n",
       "      <td>1000.0</td>\n",
       "      <td>0.0</td>\n",
       "      <td>2000.0</td>\n",
       "      <td>1</td>\n",
       "    </tr>\n",
       "    <tr>\n",
       "      <th>2</th>\n",
       "      <td>3</td>\n",
       "      <td>90000.0</td>\n",
       "      <td>2</td>\n",
       "      <td>2</td>\n",
       "      <td>2</td>\n",
       "      <td>34</td>\n",
       "      <td>0</td>\n",
       "      <td>0</td>\n",
       "      <td>0</td>\n",
       "      <td>0</td>\n",
       "      <td>...</td>\n",
       "      <td>14331.0</td>\n",
       "      <td>14948.0</td>\n",
       "      <td>15549.0</td>\n",
       "      <td>1518.0</td>\n",
       "      <td>1500.0</td>\n",
       "      <td>1000.0</td>\n",
       "      <td>1000.0</td>\n",
       "      <td>1000.0</td>\n",
       "      <td>5000.0</td>\n",
       "      <td>0</td>\n",
       "    </tr>\n",
       "    <tr>\n",
       "      <th>3</th>\n",
       "      <td>4</td>\n",
       "      <td>50000.0</td>\n",
       "      <td>2</td>\n",
       "      <td>2</td>\n",
       "      <td>1</td>\n",
       "      <td>37</td>\n",
       "      <td>0</td>\n",
       "      <td>0</td>\n",
       "      <td>0</td>\n",
       "      <td>0</td>\n",
       "      <td>...</td>\n",
       "      <td>28314.0</td>\n",
       "      <td>28959.0</td>\n",
       "      <td>29547.0</td>\n",
       "      <td>2000.0</td>\n",
       "      <td>2019.0</td>\n",
       "      <td>1200.0</td>\n",
       "      <td>1100.0</td>\n",
       "      <td>1069.0</td>\n",
       "      <td>1000.0</td>\n",
       "      <td>0</td>\n",
       "    </tr>\n",
       "    <tr>\n",
       "      <th>4</th>\n",
       "      <td>5</td>\n",
       "      <td>50000.0</td>\n",
       "      <td>1</td>\n",
       "      <td>2</td>\n",
       "      <td>1</td>\n",
       "      <td>57</td>\n",
       "      <td>-1</td>\n",
       "      <td>0</td>\n",
       "      <td>-1</td>\n",
       "      <td>0</td>\n",
       "      <td>...</td>\n",
       "      <td>20940.0</td>\n",
       "      <td>19146.0</td>\n",
       "      <td>19131.0</td>\n",
       "      <td>2000.0</td>\n",
       "      <td>36681.0</td>\n",
       "      <td>10000.0</td>\n",
       "      <td>9000.0</td>\n",
       "      <td>689.0</td>\n",
       "      <td>679.0</td>\n",
       "      <td>0</td>\n",
       "    </tr>\n",
       "    <tr>\n",
       "      <th>5</th>\n",
       "      <td>6</td>\n",
       "      <td>50000.0</td>\n",
       "      <td>1</td>\n",
       "      <td>1</td>\n",
       "      <td>2</td>\n",
       "      <td>37</td>\n",
       "      <td>0</td>\n",
       "      <td>0</td>\n",
       "      <td>0</td>\n",
       "      <td>0</td>\n",
       "      <td>...</td>\n",
       "      <td>19394.0</td>\n",
       "      <td>19619.0</td>\n",
       "      <td>20024.0</td>\n",
       "      <td>2500.0</td>\n",
       "      <td>1815.0</td>\n",
       "      <td>657.0</td>\n",
       "      <td>1000.0</td>\n",
       "      <td>1000.0</td>\n",
       "      <td>800.0</td>\n",
       "      <td>0</td>\n",
       "    </tr>\n",
       "    <tr>\n",
       "      <th>6</th>\n",
       "      <td>7</td>\n",
       "      <td>500000.0</td>\n",
       "      <td>1</td>\n",
       "      <td>1</td>\n",
       "      <td>2</td>\n",
       "      <td>29</td>\n",
       "      <td>0</td>\n",
       "      <td>0</td>\n",
       "      <td>0</td>\n",
       "      <td>0</td>\n",
       "      <td>...</td>\n",
       "      <td>542653.0</td>\n",
       "      <td>483003.0</td>\n",
       "      <td>473944.0</td>\n",
       "      <td>55000.0</td>\n",
       "      <td>40000.0</td>\n",
       "      <td>38000.0</td>\n",
       "      <td>20239.0</td>\n",
       "      <td>13750.0</td>\n",
       "      <td>13770.0</td>\n",
       "      <td>0</td>\n",
       "    </tr>\n",
       "    <tr>\n",
       "      <th>7</th>\n",
       "      <td>8</td>\n",
       "      <td>100000.0</td>\n",
       "      <td>2</td>\n",
       "      <td>2</td>\n",
       "      <td>2</td>\n",
       "      <td>23</td>\n",
       "      <td>0</td>\n",
       "      <td>-1</td>\n",
       "      <td>-1</td>\n",
       "      <td>0</td>\n",
       "      <td>...</td>\n",
       "      <td>221.0</td>\n",
       "      <td>-159.0</td>\n",
       "      <td>567.0</td>\n",
       "      <td>380.0</td>\n",
       "      <td>601.0</td>\n",
       "      <td>0.0</td>\n",
       "      <td>581.0</td>\n",
       "      <td>1687.0</td>\n",
       "      <td>1542.0</td>\n",
       "      <td>0</td>\n",
       "    </tr>\n",
       "    <tr>\n",
       "      <th>8</th>\n",
       "      <td>9</td>\n",
       "      <td>140000.0</td>\n",
       "      <td>2</td>\n",
       "      <td>3</td>\n",
       "      <td>1</td>\n",
       "      <td>28</td>\n",
       "      <td>0</td>\n",
       "      <td>0</td>\n",
       "      <td>2</td>\n",
       "      <td>0</td>\n",
       "      <td>...</td>\n",
       "      <td>12211.0</td>\n",
       "      <td>11793.0</td>\n",
       "      <td>3719.0</td>\n",
       "      <td>3329.0</td>\n",
       "      <td>0.0</td>\n",
       "      <td>432.0</td>\n",
       "      <td>1000.0</td>\n",
       "      <td>1000.0</td>\n",
       "      <td>1000.0</td>\n",
       "      <td>0</td>\n",
       "    </tr>\n",
       "    <tr>\n",
       "      <th>9</th>\n",
       "      <td>10</td>\n",
       "      <td>20000.0</td>\n",
       "      <td>1</td>\n",
       "      <td>3</td>\n",
       "      <td>2</td>\n",
       "      <td>35</td>\n",
       "      <td>-2</td>\n",
       "      <td>-2</td>\n",
       "      <td>-2</td>\n",
       "      <td>-2</td>\n",
       "      <td>...</td>\n",
       "      <td>0.0</td>\n",
       "      <td>13007.0</td>\n",
       "      <td>13912.0</td>\n",
       "      <td>0.0</td>\n",
       "      <td>0.0</td>\n",
       "      <td>0.0</td>\n",
       "      <td>13007.0</td>\n",
       "      <td>1122.0</td>\n",
       "      <td>0.0</td>\n",
       "      <td>0</td>\n",
       "    </tr>\n",
       "  </tbody>\n",
       "</table>\n",
       "<p>10 rows × 25 columns</p>\n",
       "</div>"
      ],
      "text/plain": [
       "   ID  LIMIT_BAL  SEX  EDUCATION  MARRIAGE  AGE  PAY_0  PAY_2  PAY_3  PAY_4  \\\n",
       "0   1    20000.0    2          2         1   24      2      2     -1     -1   \n",
       "1   2   120000.0    2          2         2   26     -1      2      0      0   \n",
       "2   3    90000.0    2          2         2   34      0      0      0      0   \n",
       "3   4    50000.0    2          2         1   37      0      0      0      0   \n",
       "4   5    50000.0    1          2         1   57     -1      0     -1      0   \n",
       "5   6    50000.0    1          1         2   37      0      0      0      0   \n",
       "6   7   500000.0    1          1         2   29      0      0      0      0   \n",
       "7   8   100000.0    2          2         2   23      0     -1     -1      0   \n",
       "8   9   140000.0    2          3         1   28      0      0      2      0   \n",
       "9  10    20000.0    1          3         2   35     -2     -2     -2     -2   \n",
       "\n",
       "   ...  BILL_AMT4  BILL_AMT5  BILL_AMT6  PAY_AMT1  PAY_AMT2  PAY_AMT3  \\\n",
       "0  ...        0.0        0.0        0.0       0.0     689.0       0.0   \n",
       "1  ...     3272.0     3455.0     3261.0       0.0    1000.0    1000.0   \n",
       "2  ...    14331.0    14948.0    15549.0    1518.0    1500.0    1000.0   \n",
       "3  ...    28314.0    28959.0    29547.0    2000.0    2019.0    1200.0   \n",
       "4  ...    20940.0    19146.0    19131.0    2000.0   36681.0   10000.0   \n",
       "5  ...    19394.0    19619.0    20024.0    2500.0    1815.0     657.0   \n",
       "6  ...   542653.0   483003.0   473944.0   55000.0   40000.0   38000.0   \n",
       "7  ...      221.0     -159.0      567.0     380.0     601.0       0.0   \n",
       "8  ...    12211.0    11793.0     3719.0    3329.0       0.0     432.0   \n",
       "9  ...        0.0    13007.0    13912.0       0.0       0.0       0.0   \n",
       "\n",
       "   PAY_AMT4  PAY_AMT5  PAY_AMT6  default.payment.next.month  \n",
       "0       0.0       0.0       0.0                           1  \n",
       "1    1000.0       0.0    2000.0                           1  \n",
       "2    1000.0    1000.0    5000.0                           0  \n",
       "3    1100.0    1069.0    1000.0                           0  \n",
       "4    9000.0     689.0     679.0                           0  \n",
       "5    1000.0    1000.0     800.0                           0  \n",
       "6   20239.0   13750.0   13770.0                           0  \n",
       "7     581.0    1687.0    1542.0                           0  \n",
       "8    1000.0    1000.0    1000.0                           0  \n",
       "9   13007.0    1122.0       0.0                           0  \n",
       "\n",
       "[10 rows x 25 columns]"
      ]
     },
     "execution_count": 5,
     "metadata": {},
     "output_type": "execute_result"
    }
   ],
   "source": [
    "## check few lines\n",
    "df.head(10)"
   ]
  },
  {
   "cell_type": "code",
   "execution_count": 6,
   "id": "99bfdd1a",
   "metadata": {},
   "outputs": [
    {
     "data": {
      "text/plain": [
       "Index(['ID', 'LIMIT_BAL', 'SEX', 'EDUCATION', 'MARRIAGE', 'AGE', 'PAY_0',\n",
       "       'PAY_2', 'PAY_3', 'PAY_4', 'PAY_5', 'PAY_6', 'BILL_AMT1', 'BILL_AMT2',\n",
       "       'BILL_AMT3', 'BILL_AMT4', 'BILL_AMT5', 'BILL_AMT6', 'PAY_AMT1',\n",
       "       'PAY_AMT2', 'PAY_AMT3', 'PAY_AMT4', 'PAY_AMT5', 'PAY_AMT6',\n",
       "       'default.payment.next.month'],\n",
       "      dtype='object')"
      ]
     },
     "execution_count": 6,
     "metadata": {},
     "output_type": "execute_result"
    }
   ],
   "source": [
    "#check the column details\n",
    "df.columns"
   ]
  },
  {
   "cell_type": "code",
   "execution_count": 7,
   "id": "9413e12e",
   "metadata": {},
   "outputs": [
    {
     "data": {
      "text/plain": [
       "ID                            0\n",
       "LIMIT_BAL                     0\n",
       "SEX                           0\n",
       "EDUCATION                     0\n",
       "MARRIAGE                      0\n",
       "AGE                           0\n",
       "PAY_0                         0\n",
       "PAY_2                         0\n",
       "PAY_3                         0\n",
       "PAY_4                         0\n",
       "PAY_5                         0\n",
       "PAY_6                         0\n",
       "BILL_AMT1                     0\n",
       "BILL_AMT2                     0\n",
       "BILL_AMT3                     0\n",
       "BILL_AMT4                     0\n",
       "BILL_AMT5                     0\n",
       "BILL_AMT6                     0\n",
       "PAY_AMT1                      0\n",
       "PAY_AMT2                      0\n",
       "PAY_AMT3                      0\n",
       "PAY_AMT4                      0\n",
       "PAY_AMT5                      0\n",
       "PAY_AMT6                      0\n",
       "default.payment.next.month    0\n",
       "dtype: int64"
      ]
     },
     "execution_count": 7,
     "metadata": {},
     "output_type": "execute_result"
    }
   ],
   "source": [
    "#check is there any missing values or not:\n",
    "df.isnull().sum() "
   ]
  },
  {
   "cell_type": "code",
   "execution_count": 8,
   "id": "313e72ec",
   "metadata": {},
   "outputs": [
    {
     "name": "stdout",
     "output_type": "stream",
     "text": [
      "0 --- [    1     2     3 ... 29998 29999 30000]\n",
      "1 --- [  20000.  120000.   90000.   50000.  500000.  100000.  140000.  200000.\n",
      "  260000.  630000.   70000.  250000.  320000.  360000.  180000.  130000.\n",
      "  450000.   60000.  230000.  160000.  280000.   10000.   40000.  210000.\n",
      "  150000.  380000.  310000.  400000.   80000.  290000.  340000.  300000.\n",
      "   30000.  240000.  470000.  480000.  350000.  330000.  110000.  420000.\n",
      "  170000.  370000.  270000.  220000.  190000.  510000.  460000.  440000.\n",
      "  410000.  490000.  390000.  580000.  600000.  620000.  610000.  700000.\n",
      "  670000.  680000.  430000.  550000.  540000. 1000000.  530000.  710000.\n",
      "  560000.  520000.  750000.  640000.   16000.  570000.  590000.  660000.\n",
      "  720000.  327680.  740000.  800000.  760000.  690000.  650000.  780000.\n",
      "  730000.]\n",
      "2 --- [2 1]\n",
      "3 --- [2 1 3 5 4 6 0]\n",
      "4 --- [1 2 3 0]\n",
      "5 --- [24 26 34 37 57 29 23 28 35 51 41 30 49 39 40 27 47 33 32 54 58 22 25 31\n",
      " 46 42 43 45 56 44 53 38 63 36 52 48 55 60 50 75 61 73 59 21 67 66 62 70\n",
      " 72 64 65 71 69 68 79 74]\n",
      "6 --- [ 2 -1  0 -2  1  3  4  8  7  5  6]\n",
      "7 --- [ 2  0 -1 -2  3  5  7  4  1  6  8]\n",
      "8 --- [-1  0  2 -2  3  4  6  7  1  5  8]\n",
      "9 --- [-1  0 -2  2  3  4  5  7  6  1  8]\n",
      "10 --- [-2  0 -1  2  3  5  4  7  8  6]\n",
      "11 --- [-2  2  0 -1  3  6  4  7  8  5]\n",
      "12 --- [ 3913.  2682. 29239. ...  1683. -1645. 47929.]\n",
      "13 --- [ 3102.  1725. 14027. ...  3356. 78379. 48905.]\n",
      "14 --- [  689.  2682. 13559. ...  2758. 76304. 49764.]\n",
      "15 --- [    0.  3272. 14331. ... 20878. 52774. 36535.]\n",
      "16 --- [    0.  3455. 14948. ... 31237.  5190. 32428.]\n",
      "17 --- [    0.  3261. 15549. ... 19357. 48944. 15313.]\n",
      "18 --- [    0.  1518.  2000. ... 10029.  9054. 85900.]\n",
      "19 --- [   689.   1000.   1500. ...   2977. 111784.   3526.]\n",
      "20 --- [     0.   1000.   1200. ... 349395.   8907.  25128.]\n",
      "21 --- [    0.  1000.  1100. ...  2556. 10115.  8049.]\n",
      "22 --- [    0.  1000.  1069. ...  8040.  3319. 52964.]\n",
      "23 --- [     0.   2000.   5000. ...  70052. 220076.  16080.]\n",
      "24 --- [1 0]\n"
     ]
    }
   ],
   "source": [
    "#chefck unique values in each column\n",
    "for index, each in enumerate(df.columns):\n",
    "  print (index,  \"---\" ,df[each].unique())"
   ]
  },
  {
   "cell_type": "code",
   "execution_count": 9,
   "id": "2dce855f",
   "metadata": {},
   "outputs": [
    {
     "data": {
      "text/plain": [
       "array([2, 1, 3, 4], dtype=int64)"
      ]
     },
     "execution_count": 9,
     "metadata": {},
     "output_type": "execute_result"
    }
   ],
   "source": [
    "#Education:\n",
    "\n",
    "#in education the data description we have only option \"Education (1 = graduate school; 2 = university; 3 = high school; \n",
    "#4 = others)\", but 5 & 6 we dont the option description, so merge 5 & 6 option with 4 others option.\n",
    "#df.replace({'EDUCATION': r'^5.$'}, {'EDUCATION': '4'}, regex=True)\n",
    "replace = (df.EDUCATION == 5) | (df.EDUCATION == 6) | (df.EDUCATION == 0)\n",
    "df.loc[replace, 'EDUCATION'] = 4\n",
    "df['EDUCATION'].unique()"
   ]
  },
  {
   "cell_type": "code",
   "execution_count": 10,
   "id": "9d256574",
   "metadata": {},
   "outputs": [
    {
     "data": {
      "text/plain": [
       "array([1, 2, 3], dtype=int64)"
      ]
     },
     "execution_count": 10,
     "metadata": {},
     "output_type": "execute_result"
    }
   ],
   "source": [
    "#Marriage:\n",
    "# Marriage has the unknown option \"0\", which we can merge it with \"3\"\n",
    "df.loc[df.MARRIAGE == 0, 'MARRIAGE'] = 3\n",
    "df['MARRIAGE'].unique()"
   ]
  },
  {
   "cell_type": "code",
   "execution_count": 11,
   "id": "d4f6c9bb",
   "metadata": {},
   "outputs": [
    {
     "data": {
      "text/plain": [
       "array([0, 2, 3, 6, 4, 7, 8, 5], dtype=int64)"
      ]
     },
     "execution_count": 11,
     "metadata": {},
     "output_type": "execute_result"
    }
   ],
   "source": [
    "# History of past payment columns from \"PAY_0\tPAY_2\tPAY_3\tPAY_4\tPAY_5\tPAY_6\", it has the minius value which is lesser\n",
    "# than \"0\", so there is no point of keeping it, so i replace the minus values into 0.\n",
    "\n",
    "replace = (df.PAY_0 == -2) | (df.PAY_0 == -1) \n",
    "df.loc[replace, 'PAY_0'] = 0\n",
    "replace = (df.PAY_2 == -2) | (df.PAY_2 == -1) \n",
    "df.loc[replace, 'PAY_2'] = 0\n",
    "replace = (df.PAY_3 == -2) | (df.PAY_3 == -1) \n",
    "df.loc[replace, 'PAY_3'] = 0\n",
    "replace = (df.PAY_4 == -2) | (df.PAY_4 == -1) \n",
    "df.loc[replace, 'PAY_4'] = 0\n",
    "replace = (df.PAY_5 == -2) | (df.PAY_5 == -1) \n",
    "df.loc[replace, 'PAY_5'] = 0\n",
    "replace = (df.PAY_6 == -2) | (df.PAY_6 == -1)\n",
    "df.loc[replace, 'PAY_6'] = 0\n",
    "#checking the above values:\n",
    "df['PAY_6'].unique()"
   ]
  },
  {
   "cell_type": "code",
   "execution_count": 12,
   "id": "dad0ed83",
   "metadata": {},
   "outputs": [],
   "source": [
    "# #Grouping the age\n",
    "# df['Agegroup'] = 0 #creates a column of 0\n",
    "# df.loc[((df['AGE'] > 20) & (df['AGE'] < 30)) , 'Agegroup'] = 1\n",
    "# df.loc[((df['AGE'] >= 30) & (df['AGE'] < 40)) , 'Agegroup'] = 2\n",
    "# df.loc[((df['AGE'] >= 40) & (df['AGE'] < 50)) , 'Agegroup'] = 3\n",
    "# df.loc[((df['AGE'] >= 50) & (df['AGE'] < 60)) , 'Agegroup'] = 4\n",
    "# df.loc[((df['AGE'] >= 60) & (df['AGE'] < 70)) , 'Agegroup'] = 5\n",
    "# df.loc[((df['AGE'] >= 70) & (df['AGE'] < 81)) , 'Agegroup'] = 6"
   ]
  },
  {
   "cell_type": "code",
   "execution_count": 13,
   "id": "abdeab24",
   "metadata": {},
   "outputs": [],
   "source": [
    "# del df[\"AGE\"]"
   ]
  },
  {
   "cell_type": "code",
   "execution_count": 14,
   "id": "0dfd5bda",
   "metadata": {},
   "outputs": [
    {
     "data": {
      "text/html": [
       "<div>\n",
       "<style scoped>\n",
       "    .dataframe tbody tr th:only-of-type {\n",
       "        vertical-align: middle;\n",
       "    }\n",
       "\n",
       "    .dataframe tbody tr th {\n",
       "        vertical-align: top;\n",
       "    }\n",
       "\n",
       "    .dataframe thead th {\n",
       "        text-align: right;\n",
       "    }\n",
       "</style>\n",
       "<table border=\"1\" class=\"dataframe\">\n",
       "  <thead>\n",
       "    <tr style=\"text-align: right;\">\n",
       "      <th></th>\n",
       "      <th>ID</th>\n",
       "      <th>LIMIT_BAL</th>\n",
       "      <th>SEX</th>\n",
       "      <th>EDUCATION</th>\n",
       "      <th>MARRIAGE</th>\n",
       "      <th>AGE</th>\n",
       "      <th>PAY_0</th>\n",
       "      <th>PAY_2</th>\n",
       "      <th>PAY_3</th>\n",
       "      <th>PAY_4</th>\n",
       "      <th>...</th>\n",
       "      <th>BILL_AMT4</th>\n",
       "      <th>BILL_AMT5</th>\n",
       "      <th>BILL_AMT6</th>\n",
       "      <th>PAY_AMT1</th>\n",
       "      <th>PAY_AMT2</th>\n",
       "      <th>PAY_AMT3</th>\n",
       "      <th>PAY_AMT4</th>\n",
       "      <th>PAY_AMT5</th>\n",
       "      <th>PAY_AMT6</th>\n",
       "      <th>default.payment.next.month</th>\n",
       "    </tr>\n",
       "  </thead>\n",
       "  <tbody>\n",
       "    <tr>\n",
       "      <th>count</th>\n",
       "      <td>30000.000000</td>\n",
       "      <td>30000.000000</td>\n",
       "      <td>30000.000000</td>\n",
       "      <td>30000.000000</td>\n",
       "      <td>30000.000000</td>\n",
       "      <td>30000.000000</td>\n",
       "      <td>30000.000000</td>\n",
       "      <td>30000.000000</td>\n",
       "      <td>30000.000000</td>\n",
       "      <td>30000.000000</td>\n",
       "      <td>...</td>\n",
       "      <td>30000.000000</td>\n",
       "      <td>30000.000000</td>\n",
       "      <td>30000.000000</td>\n",
       "      <td>30000.000000</td>\n",
       "      <td>3.000000e+04</td>\n",
       "      <td>30000.00000</td>\n",
       "      <td>30000.000000</td>\n",
       "      <td>30000.000000</td>\n",
       "      <td>30000.000000</td>\n",
       "      <td>30000.000000</td>\n",
       "    </tr>\n",
       "    <tr>\n",
       "      <th>mean</th>\n",
       "      <td>15000.500000</td>\n",
       "      <td>167484.322667</td>\n",
       "      <td>1.603733</td>\n",
       "      <td>1.842267</td>\n",
       "      <td>1.557267</td>\n",
       "      <td>35.485500</td>\n",
       "      <td>0.356767</td>\n",
       "      <td>0.320033</td>\n",
       "      <td>0.304067</td>\n",
       "      <td>0.258767</td>\n",
       "      <td>...</td>\n",
       "      <td>43262.948967</td>\n",
       "      <td>40311.400967</td>\n",
       "      <td>38871.760400</td>\n",
       "      <td>5663.580500</td>\n",
       "      <td>5.921163e+03</td>\n",
       "      <td>5225.68150</td>\n",
       "      <td>4826.076867</td>\n",
       "      <td>4799.387633</td>\n",
       "      <td>5215.502567</td>\n",
       "      <td>0.221200</td>\n",
       "    </tr>\n",
       "    <tr>\n",
       "      <th>std</th>\n",
       "      <td>8660.398374</td>\n",
       "      <td>129747.661567</td>\n",
       "      <td>0.489129</td>\n",
       "      <td>0.744494</td>\n",
       "      <td>0.521405</td>\n",
       "      <td>9.217904</td>\n",
       "      <td>0.760594</td>\n",
       "      <td>0.801727</td>\n",
       "      <td>0.790589</td>\n",
       "      <td>0.761113</td>\n",
       "      <td>...</td>\n",
       "      <td>64332.856134</td>\n",
       "      <td>60797.155770</td>\n",
       "      <td>59554.107537</td>\n",
       "      <td>16563.280354</td>\n",
       "      <td>2.304087e+04</td>\n",
       "      <td>17606.96147</td>\n",
       "      <td>15666.159744</td>\n",
       "      <td>15278.305679</td>\n",
       "      <td>17777.465775</td>\n",
       "      <td>0.415062</td>\n",
       "    </tr>\n",
       "    <tr>\n",
       "      <th>min</th>\n",
       "      <td>1.000000</td>\n",
       "      <td>10000.000000</td>\n",
       "      <td>1.000000</td>\n",
       "      <td>1.000000</td>\n",
       "      <td>1.000000</td>\n",
       "      <td>21.000000</td>\n",
       "      <td>0.000000</td>\n",
       "      <td>0.000000</td>\n",
       "      <td>0.000000</td>\n",
       "      <td>0.000000</td>\n",
       "      <td>...</td>\n",
       "      <td>-170000.000000</td>\n",
       "      <td>-81334.000000</td>\n",
       "      <td>-339603.000000</td>\n",
       "      <td>0.000000</td>\n",
       "      <td>0.000000e+00</td>\n",
       "      <td>0.00000</td>\n",
       "      <td>0.000000</td>\n",
       "      <td>0.000000</td>\n",
       "      <td>0.000000</td>\n",
       "      <td>0.000000</td>\n",
       "    </tr>\n",
       "    <tr>\n",
       "      <th>25%</th>\n",
       "      <td>7500.750000</td>\n",
       "      <td>50000.000000</td>\n",
       "      <td>1.000000</td>\n",
       "      <td>1.000000</td>\n",
       "      <td>1.000000</td>\n",
       "      <td>28.000000</td>\n",
       "      <td>0.000000</td>\n",
       "      <td>0.000000</td>\n",
       "      <td>0.000000</td>\n",
       "      <td>0.000000</td>\n",
       "      <td>...</td>\n",
       "      <td>2326.750000</td>\n",
       "      <td>1763.000000</td>\n",
       "      <td>1256.000000</td>\n",
       "      <td>1000.000000</td>\n",
       "      <td>8.330000e+02</td>\n",
       "      <td>390.00000</td>\n",
       "      <td>296.000000</td>\n",
       "      <td>252.500000</td>\n",
       "      <td>117.750000</td>\n",
       "      <td>0.000000</td>\n",
       "    </tr>\n",
       "    <tr>\n",
       "      <th>50%</th>\n",
       "      <td>15000.500000</td>\n",
       "      <td>140000.000000</td>\n",
       "      <td>2.000000</td>\n",
       "      <td>2.000000</td>\n",
       "      <td>2.000000</td>\n",
       "      <td>34.000000</td>\n",
       "      <td>0.000000</td>\n",
       "      <td>0.000000</td>\n",
       "      <td>0.000000</td>\n",
       "      <td>0.000000</td>\n",
       "      <td>...</td>\n",
       "      <td>19052.000000</td>\n",
       "      <td>18104.500000</td>\n",
       "      <td>17071.000000</td>\n",
       "      <td>2100.000000</td>\n",
       "      <td>2.009000e+03</td>\n",
       "      <td>1800.00000</td>\n",
       "      <td>1500.000000</td>\n",
       "      <td>1500.000000</td>\n",
       "      <td>1500.000000</td>\n",
       "      <td>0.000000</td>\n",
       "    </tr>\n",
       "    <tr>\n",
       "      <th>75%</th>\n",
       "      <td>22500.250000</td>\n",
       "      <td>240000.000000</td>\n",
       "      <td>2.000000</td>\n",
       "      <td>2.000000</td>\n",
       "      <td>2.000000</td>\n",
       "      <td>41.000000</td>\n",
       "      <td>0.000000</td>\n",
       "      <td>0.000000</td>\n",
       "      <td>0.000000</td>\n",
       "      <td>0.000000</td>\n",
       "      <td>...</td>\n",
       "      <td>54506.000000</td>\n",
       "      <td>50190.500000</td>\n",
       "      <td>49198.250000</td>\n",
       "      <td>5006.000000</td>\n",
       "      <td>5.000000e+03</td>\n",
       "      <td>4505.00000</td>\n",
       "      <td>4013.250000</td>\n",
       "      <td>4031.500000</td>\n",
       "      <td>4000.000000</td>\n",
       "      <td>0.000000</td>\n",
       "    </tr>\n",
       "    <tr>\n",
       "      <th>max</th>\n",
       "      <td>30000.000000</td>\n",
       "      <td>1000000.000000</td>\n",
       "      <td>2.000000</td>\n",
       "      <td>4.000000</td>\n",
       "      <td>3.000000</td>\n",
       "      <td>79.000000</td>\n",
       "      <td>8.000000</td>\n",
       "      <td>8.000000</td>\n",
       "      <td>8.000000</td>\n",
       "      <td>8.000000</td>\n",
       "      <td>...</td>\n",
       "      <td>891586.000000</td>\n",
       "      <td>927171.000000</td>\n",
       "      <td>961664.000000</td>\n",
       "      <td>873552.000000</td>\n",
       "      <td>1.684259e+06</td>\n",
       "      <td>896040.00000</td>\n",
       "      <td>621000.000000</td>\n",
       "      <td>426529.000000</td>\n",
       "      <td>528666.000000</td>\n",
       "      <td>1.000000</td>\n",
       "    </tr>\n",
       "  </tbody>\n",
       "</table>\n",
       "<p>8 rows × 25 columns</p>\n",
       "</div>"
      ],
      "text/plain": [
       "                 ID       LIMIT_BAL           SEX     EDUCATION      MARRIAGE  \\\n",
       "count  30000.000000    30000.000000  30000.000000  30000.000000  30000.000000   \n",
       "mean   15000.500000   167484.322667      1.603733      1.842267      1.557267   \n",
       "std     8660.398374   129747.661567      0.489129      0.744494      0.521405   \n",
       "min        1.000000    10000.000000      1.000000      1.000000      1.000000   \n",
       "25%     7500.750000    50000.000000      1.000000      1.000000      1.000000   \n",
       "50%    15000.500000   140000.000000      2.000000      2.000000      2.000000   \n",
       "75%    22500.250000   240000.000000      2.000000      2.000000      2.000000   \n",
       "max    30000.000000  1000000.000000      2.000000      4.000000      3.000000   \n",
       "\n",
       "                AGE         PAY_0         PAY_2         PAY_3         PAY_4  \\\n",
       "count  30000.000000  30000.000000  30000.000000  30000.000000  30000.000000   \n",
       "mean      35.485500      0.356767      0.320033      0.304067      0.258767   \n",
       "std        9.217904      0.760594      0.801727      0.790589      0.761113   \n",
       "min       21.000000      0.000000      0.000000      0.000000      0.000000   \n",
       "25%       28.000000      0.000000      0.000000      0.000000      0.000000   \n",
       "50%       34.000000      0.000000      0.000000      0.000000      0.000000   \n",
       "75%       41.000000      0.000000      0.000000      0.000000      0.000000   \n",
       "max       79.000000      8.000000      8.000000      8.000000      8.000000   \n",
       "\n",
       "       ...      BILL_AMT4      BILL_AMT5      BILL_AMT6       PAY_AMT1  \\\n",
       "count  ...   30000.000000   30000.000000   30000.000000   30000.000000   \n",
       "mean   ...   43262.948967   40311.400967   38871.760400    5663.580500   \n",
       "std    ...   64332.856134   60797.155770   59554.107537   16563.280354   \n",
       "min    ... -170000.000000  -81334.000000 -339603.000000       0.000000   \n",
       "25%    ...    2326.750000    1763.000000    1256.000000    1000.000000   \n",
       "50%    ...   19052.000000   18104.500000   17071.000000    2100.000000   \n",
       "75%    ...   54506.000000   50190.500000   49198.250000    5006.000000   \n",
       "max    ...  891586.000000  927171.000000  961664.000000  873552.000000   \n",
       "\n",
       "           PAY_AMT2      PAY_AMT3       PAY_AMT4       PAY_AMT5  \\\n",
       "count  3.000000e+04   30000.00000   30000.000000   30000.000000   \n",
       "mean   5.921163e+03    5225.68150    4826.076867    4799.387633   \n",
       "std    2.304087e+04   17606.96147   15666.159744   15278.305679   \n",
       "min    0.000000e+00       0.00000       0.000000       0.000000   \n",
       "25%    8.330000e+02     390.00000     296.000000     252.500000   \n",
       "50%    2.009000e+03    1800.00000    1500.000000    1500.000000   \n",
       "75%    5.000000e+03    4505.00000    4013.250000    4031.500000   \n",
       "max    1.684259e+06  896040.00000  621000.000000  426529.000000   \n",
       "\n",
       "            PAY_AMT6  default.payment.next.month  \n",
       "count   30000.000000                30000.000000  \n",
       "mean     5215.502567                    0.221200  \n",
       "std     17777.465775                    0.415062  \n",
       "min         0.000000                    0.000000  \n",
       "25%       117.750000                    0.000000  \n",
       "50%      1500.000000                    0.000000  \n",
       "75%      4000.000000                    0.000000  \n",
       "max    528666.000000                    1.000000  \n",
       "\n",
       "[8 rows x 25 columns]"
      ]
     },
     "execution_count": 14,
     "metadata": {},
     "output_type": "execute_result"
    }
   ],
   "source": [
    "#Check the dataframe:\n",
    "df.describe()"
   ]
  },
  {
   "cell_type": "code",
   "execution_count": 15,
   "id": "a951c7f1",
   "metadata": {},
   "outputs": [],
   "source": [
    "# x.describe"
   ]
  },
  {
   "cell_type": "code",
   "execution_count": 16,
   "id": "08df0018",
   "metadata": {},
   "outputs": [],
   "source": [
    "# check the target variable by spliting the fraud and non_fraud customer:\n",
    "\n",
    "def target_info(df_target_column):\n",
    "    '''\n",
    "    Print target column information -- count for each unique values in target column\n",
    "    Input: target column in dataframe\n",
    "    '''\n",
    "    proportion_true=str(round(sum(df_target_column == True) / len(df_target_column), 2) * 100)\n",
    "    \n",
    "    proportion_false=str(round(sum(df_target_column == False) / len(df_target_column), 3) * 100)\n",
    "    \n",
    "    print('There are total {} records in our data.'.format(len(df_target_column)))\n",
    "    print('Is Fraud:')\n",
    "    print('Count: {}'.format(sum(df_target_column == True)))\n",
    "    print('Proportion (Fraud): {}'.format(proportion_true\n",
    "                                  + '%'))\n",
    "    print('Not Fraud:')\n",
    "    print('Count: {}'.format(sum(df_target_column == False)))\n",
    "    print('Proportion (Not Fraud): {}'.format(proportion_false\n",
    "                                  + '%'))\n",
    "    plt.figure(figsize=(5, 5))\n",
    "    sns.barplot(x=df_target_column.value_counts().index, y=df_target_column.value_counts())\n",
    "    plt.title('Not Fraud vs Fraud Counts')\n",
    "    plt.ylabel('Count')\n",
    "    return proportion_true"
   ]
  },
  {
   "cell_type": "markdown",
   "id": "fc6c8b3e",
   "metadata": {},
   "source": [
    "###one method of spliting:"
   ]
  },
  {
   "cell_type": "code",
   "execution_count": 17,
   "id": "5f34c655",
   "metadata": {},
   "outputs": [],
   "source": [
    "#split the train and test data\n",
    "def data_split(df, start, end, date_col):\n",
    "    \"\"\"\n",
    "    split the dataset into training or testing using date\n",
    "    :param data: (df) pandas dataframe, start, end\n",
    "    :return: (df) pandas dataframe\n",
    "    \"\"\"\n",
    "    df = df[(df[date_col] >= start) & (df[date_col] < end)]\n",
    "    #data = df[(df.order_date >= start) & (df.order_date < end)]\n",
    "    df = df.reset_index(drop=True)\n",
    "    #data = data.sort_values([\"date\", \"tic\"], ignore_index=True)\n",
    "    #data.index = data.date.factorize()[0]\n",
    "    return df"
   ]
  },
  {
   "cell_type": "code",
   "execution_count": 18,
   "id": "fae2bb95",
   "metadata": {},
   "outputs": [],
   "source": [
    "# use the ID column to split the train-test data\n",
    "# x_train = data_split(df,start = 0, end=22500,date_col='ID')\n",
    "# x_test = data_split(df,start = 22500, end=172792,date_col='ID')"
   ]
  },
  {
   "cell_type": "code",
   "execution_count": 19,
   "id": "ae8d216a",
   "metadata": {},
   "outputs": [],
   "source": [
    "# df.describe\n",
    "df['label']=df['default.payment.next.month']\n",
    "df=df.drop(columns=['default.payment.next.month'])"
   ]
  },
  {
   "cell_type": "code",
   "execution_count": 1,
   "id": "144abf57",
   "metadata": {},
   "outputs": [
    {
     "ename": "NameError",
     "evalue": "name 'data_split' is not defined",
     "output_type": "error",
     "traceback": [
      "\u001b[1;31m---------------------------------------------------------------------------\u001b[0m",
      "\u001b[1;31mNameError\u001b[0m                                 Traceback (most recent call last)",
      "Cell \u001b[1;32mIn[1], line 2\u001b[0m\n\u001b[0;32m      1\u001b[0m \u001b[38;5;66;03m# use the ID column to split the train-test data\u001b[39;00m\n\u001b[1;32m----> 2\u001b[0m train \u001b[38;5;241m=\u001b[39m data_split(df,start \u001b[38;5;241m=\u001b[39m \u001b[38;5;241m0\u001b[39m, end\u001b[38;5;241m=\u001b[39m\u001b[38;5;241m22500\u001b[39m,date_col\u001b[38;5;241m=\u001b[39m\u001b[38;5;124m'\u001b[39m\u001b[38;5;124mID\u001b[39m\u001b[38;5;124m'\u001b[39m)\n\u001b[0;32m      3\u001b[0m test \u001b[38;5;241m=\u001b[39m data_split(df,start \u001b[38;5;241m=\u001b[39m \u001b[38;5;241m22500\u001b[39m, end\u001b[38;5;241m=\u001b[39m\u001b[38;5;241m172792\u001b[39m,date_col\u001b[38;5;241m=\u001b[39m\u001b[38;5;124m'\u001b[39m\u001b[38;5;124mID\u001b[39m\u001b[38;5;124m'\u001b[39m)\n",
      "\u001b[1;31mNameError\u001b[0m: name 'data_split' is not defined"
     ]
    }
   ],
   "source": [
    "# use the ID column to split the train-test data\n",
    "train = data_split(df,start = 0, end=22500,date_col='ID')\n",
    "test = data_split(df,start = 22500, end=172792,date_col='ID')"
   ]
  },
  {
   "cell_type": "code",
   "execution_count": 21,
   "id": "9db3aa0d",
   "metadata": {},
   "outputs": [
    {
     "name": "stdout",
     "output_type": "stream",
     "text": [
      "There are total 30000 records in our data.\n",
      "Is Fraud:\n",
      "Count: 6636\n",
      "Proportion (Fraud): 22.0%\n",
      "Not Fraud:\n",
      "Count: 23364\n",
      "Proportion (Not Fraud): 77.9%\n"
     ]
    },
    {
     "data": {
      "text/plain": [
       "'22.0'"
      ]
     },
     "execution_count": 21,
     "metadata": {},
     "output_type": "execute_result"
    },
    {
     "data": {
      "image/png": "[encoded data removed]",
      "text/plain": [
       "<Figure size 360x360 with 1 Axes>"
      ]
     },
     "metadata": {
      "needs_background": "light"
     },
     "output_type": "display_data"
    }
   ],
   "source": [
    "#check the fraud proportion of the Target column\n",
    "# y=df['default.payment.next.month']\n",
    "# x=df.drop(['default.payment.next.month'],axis=1)\n",
    "target_info(df['label'])"
   ]
  },
  {
   "cell_type": "code",
   "execution_count": 22,
   "id": "7b43c1d8",
   "metadata": {},
   "outputs": [
    {
     "data": {
      "text/plain": [
       "0    17411\n",
       "1     5088\n",
       "Name: label, dtype: int64"
      ]
     },
     "execution_count": 22,
     "metadata": {},
     "output_type": "execute_result"
    }
   ],
   "source": [
    "train.label.value_counts()"
   ]
  },
  {
   "cell_type": "code",
   "execution_count": 23,
   "id": "394c6866",
   "metadata": {},
   "outputs": [
    {
     "data": {
      "text/plain": [
       "0    5953\n",
       "1    1548\n",
       "Name: label, dtype: int64"
      ]
     },
     "execution_count": 23,
     "metadata": {},
     "output_type": "execute_result"
    }
   ],
   "source": [
    "test.label.value_counts()"
   ]
  },
  {
   "cell_type": "code",
   "execution_count": 24,
   "id": "f7f9642c",
   "metadata": {},
   "outputs": [],
   "source": [
    "#use the world 'target' and seperate the target variable from the df\n",
    "# df['label']=df['default.payment.next.month']\n",
    "# df=df.drop(columns=['default.payment.next.month'])\n",
    "# y=df['default.payment.next.month']\n",
    "# x=df.drop(['default.payment.next.month'],axis=1)"
   ]
  },
  {
   "cell_type": "markdown",
   "id": "08d49b64",
   "metadata": {},
   "source": [
    "### second method of spliting:"
   ]
  },
  {
   "cell_type": "code",
   "execution_count": 25,
   "id": "3e476479",
   "metadata": {},
   "outputs": [],
   "source": [
    "\n",
    "y=df['label']\n",
    "x=df.drop(['label'],axis=1)"
   ]
  },
  {
   "cell_type": "code",
   "execution_count": 26,
   "id": "fa78b43f",
   "metadata": {},
   "outputs": [],
   "source": [
    "#Train and test split\n",
    "from sklearn.model_selection import train_test_split\n",
    "x_train, x_test, y_train, y_test = train_test_split(x, y, test_size=0.25, random_state=42)"
   ]
  },
  {
   "cell_type": "code",
   "execution_count": 27,
   "id": "ba5848ac",
   "metadata": {},
   "outputs": [
    {
     "data": {
      "text/plain": [
       "0    17491\n",
       "1     5009\n",
       "Name: label, dtype: int64"
      ]
     },
     "execution_count": 27,
     "metadata": {},
     "output_type": "execute_result"
    }
   ],
   "source": [
    "y_train.value_counts()"
   ]
  },
  {
   "cell_type": "code",
   "execution_count": 28,
   "id": "1a7f2d17",
   "metadata": {},
   "outputs": [
    {
     "data": {
      "text/plain": [
       "0    5873\n",
       "1    1627\n",
       "Name: label, dtype: int64"
      ]
     },
     "execution_count": 28,
     "metadata": {},
     "output_type": "execute_result"
    }
   ],
   "source": [
    "y_test.value_counts()"
   ]
  },
  {
   "cell_type": "code",
   "execution_count": 29,
   "id": "0a8e5f68",
   "metadata": {},
   "outputs": [
    {
     "data": {
      "text/plain": [
       "(22500, 24)"
      ]
     },
     "execution_count": 29,
     "metadata": {},
     "output_type": "execute_result"
    }
   ],
   "source": [
    "x_train.shape"
   ]
  },
  {
   "cell_type": "markdown",
   "id": "5db15e58",
   "metadata": {},
   "source": [
    "### 2.  Feature Filtering:"
   ]
  },
  {
   "cell_type": "code",
   "execution_count": 30,
   "id": "37194a36",
   "metadata": {},
   "outputs": [
    {
     "name": "stdout",
     "output_type": "stream",
     "text": [
      "keep: 23 drop empty: 0 drop iv: 2 drop corr: 0\n"
     ]
    }
   ],
   "source": [
    "###feature filtering by missing value, IV & corrrelation：\n",
    "##If the missing value rate is greater than the threshold, delete the feature\n",
    "##If the correlation coefficient is greater than the threshold, delete the feature\n",
    "##If the IV is smaller than the threshold, delete the features\n",
    "# set an exclude list for the scorecard package Toad\n",
    "exclude_list = ['ID','label']\n",
    "\n",
    "train_selected, drop_lst= toad.selection.select(frame = train,\n",
    "                                                target=train['label'], \n",
    "                                                empty = 0.7, \n",
    "                                                iv = 0.02, corr = 1, \n",
    "                                                return_drop=True, \n",
    "                                               exclude=exclude_list)\n",
    "print(\"keep:\",train_selected.shape[1],\n",
    "      \"drop empty:\",len(drop_lst['empty']),\n",
    "      \"drop iv:\",len(drop_lst['iv']),\n",
    "      \"drop corr:\",len(drop_lst['corr']))"
   ]
  },
  {
   "cell_type": "code",
   "execution_count": 31,
   "id": "dee1359b",
   "metadata": {},
   "outputs": [
    {
     "data": {
      "text/plain": [
       "{'empty': array([], dtype=float64),\n",
       " 'iv': array(['SEX', 'MARRIAGE'], dtype=object),\n",
       " 'corr': array([], dtype=object)}"
      ]
     },
     "execution_count": 31,
     "metadata": {},
     "output_type": "execute_result"
    }
   ],
   "source": [
    "drop_lst"
   ]
  },
  {
   "cell_type": "code",
   "execution_count": 32,
   "id": "f8001a73",
   "metadata": {},
   "outputs": [],
   "source": [
    "# output the iv table to a dataframe\n",
    "def output_iv_importance(train_selected,label_col):\n",
    "    feat_import_iv = toad.quality(train_selected,label_col,iv_only=True)\n",
    "    feat_import_iv=feat_import_iv['iv']\n",
    "    feat_import_iv = feat_import_iv.reset_index()\n",
    "    feat_import_iv.columns = ['name','iv']\n",
    "    return feat_import_iv\n",
    "df_iv=output_iv_importance(train_selected,'label')\n"
   ]
  },
  {
   "cell_type": "code",
   "execution_count": 33,
   "id": "9c013c75",
   "metadata": {},
   "outputs": [
    {
     "data": {
      "text/plain": [
       "(22, 2)"
      ]
     },
     "execution_count": 33,
     "metadata": {},
     "output_type": "execute_result"
    }
   ],
   "source": [
    "df_iv.shape"
   ]
  },
  {
   "cell_type": "code",
   "execution_count": 34,
   "id": "2f012233",
   "metadata": {},
   "outputs": [],
   "source": [
    "# df_iv.describe"
   ]
  },
  {
   "cell_type": "code",
   "execution_count": 35,
   "id": "42da4657",
   "metadata": {},
   "outputs": [
    {
     "data": {
      "text/html": [
       "<div>\n",
       "<style scoped>\n",
       "    .dataframe tbody tr th:only-of-type {\n",
       "        vertical-align: middle;\n",
       "    }\n",
       "\n",
       "    .dataframe tbody tr th {\n",
       "        vertical-align: top;\n",
       "    }\n",
       "\n",
       "    .dataframe thead th {\n",
       "        text-align: right;\n",
       "    }\n",
       "</style>\n",
       "<table border=\"1\" class=\"dataframe\">\n",
       "  <thead>\n",
       "    <tr style=\"text-align: right;\">\n",
       "      <th></th>\n",
       "      <th>name</th>\n",
       "      <th>iv</th>\n",
       "    </tr>\n",
       "  </thead>\n",
       "  <tbody>\n",
       "    <tr>\n",
       "      <th>0</th>\n",
       "      <td>PAY_0</td>\n",
       "      <td>0.846792</td>\n",
       "    </tr>\n",
       "    <tr>\n",
       "      <th>1</th>\n",
       "      <td>PAY_2</td>\n",
       "      <td>0.532123</td>\n",
       "    </tr>\n",
       "    <tr>\n",
       "      <th>2</th>\n",
       "      <td>PAY_3</td>\n",
       "      <td>0.398299</td>\n",
       "    </tr>\n",
       "    <tr>\n",
       "      <th>3</th>\n",
       "      <td>PAY_4</td>\n",
       "      <td>0.345959</td>\n",
       "    </tr>\n",
       "    <tr>\n",
       "      <th>4</th>\n",
       "      <td>PAY_5</td>\n",
       "      <td>0.334070</td>\n",
       "    </tr>\n",
       "    <tr>\n",
       "      <th>5</th>\n",
       "      <td>PAY_6</td>\n",
       "      <td>0.278567</td>\n",
       "    </tr>\n",
       "    <tr>\n",
       "      <th>6</th>\n",
       "      <td>PAY_AMT1</td>\n",
       "      <td>0.189334</td>\n",
       "    </tr>\n",
       "    <tr>\n",
       "      <th>7</th>\n",
       "      <td>LIMIT_BAL</td>\n",
       "      <td>0.170973</td>\n",
       "    </tr>\n",
       "    <tr>\n",
       "      <th>8</th>\n",
       "      <td>PAY_AMT2</td>\n",
       "      <td>0.168256</td>\n",
       "    </tr>\n",
       "    <tr>\n",
       "      <th>9</th>\n",
       "      <td>PAY_AMT3</td>\n",
       "      <td>0.128827</td>\n",
       "    </tr>\n",
       "    <tr>\n",
       "      <th>10</th>\n",
       "      <td>PAY_AMT4</td>\n",
       "      <td>0.121719</td>\n",
       "    </tr>\n",
       "    <tr>\n",
       "      <th>11</th>\n",
       "      <td>PAY_AMT6</td>\n",
       "      <td>0.106017</td>\n",
       "    </tr>\n",
       "    <tr>\n",
       "      <th>12</th>\n",
       "      <td>PAY_AMT5</td>\n",
       "      <td>0.103353</td>\n",
       "    </tr>\n",
       "    <tr>\n",
       "      <th>13</th>\n",
       "      <td>BILL_AMT4</td>\n",
       "      <td>0.047998</td>\n",
       "    </tr>\n",
       "    <tr>\n",
       "      <th>14</th>\n",
       "      <td>BILL_AMT5</td>\n",
       "      <td>0.046490</td>\n",
       "    </tr>\n",
       "    <tr>\n",
       "      <th>15</th>\n",
       "      <td>BILL_AMT3</td>\n",
       "      <td>0.044047</td>\n",
       "    </tr>\n",
       "    <tr>\n",
       "      <th>16</th>\n",
       "      <td>EDUCATION</td>\n",
       "      <td>0.036381</td>\n",
       "    </tr>\n",
       "    <tr>\n",
       "      <th>17</th>\n",
       "      <td>ID</td>\n",
       "      <td>0.032184</td>\n",
       "    </tr>\n",
       "    <tr>\n",
       "      <th>18</th>\n",
       "      <td>AGE</td>\n",
       "      <td>0.027512</td>\n",
       "    </tr>\n",
       "    <tr>\n",
       "      <th>19</th>\n",
       "      <td>BILL_AMT6</td>\n",
       "      <td>0.027461</td>\n",
       "    </tr>\n",
       "    <tr>\n",
       "      <th>20</th>\n",
       "      <td>BILL_AMT1</td>\n",
       "      <td>0.026191</td>\n",
       "    </tr>\n",
       "    <tr>\n",
       "      <th>21</th>\n",
       "      <td>BILL_AMT2</td>\n",
       "      <td>0.022539</td>\n",
       "    </tr>\n",
       "  </tbody>\n",
       "</table>\n",
       "</div>"
      ],
      "text/plain": [
       "         name        iv\n",
       "0       PAY_0  0.846792\n",
       "1       PAY_2  0.532123\n",
       "2       PAY_3  0.398299\n",
       "3       PAY_4  0.345959\n",
       "4       PAY_5  0.334070\n",
       "5       PAY_6  0.278567\n",
       "6    PAY_AMT1  0.189334\n",
       "7   LIMIT_BAL  0.170973\n",
       "8    PAY_AMT2  0.168256\n",
       "9    PAY_AMT3  0.128827\n",
       "10   PAY_AMT4  0.121719\n",
       "11   PAY_AMT6  0.106017\n",
       "12   PAY_AMT5  0.103353\n",
       "13  BILL_AMT4  0.047998\n",
       "14  BILL_AMT5  0.046490\n",
       "15  BILL_AMT3  0.044047\n",
       "16  EDUCATION  0.036381\n",
       "17         ID  0.032184\n",
       "18        AGE  0.027512\n",
       "19  BILL_AMT6  0.027461\n",
       "20  BILL_AMT1  0.026191\n",
       "21  BILL_AMT2  0.022539"
      ]
     },
     "execution_count": 35,
     "metadata": {},
     "output_type": "execute_result"
    }
   ],
   "source": [
    "df_iv.head(30)"
   ]
  },
  {
   "cell_type": "code",
   "execution_count": 36,
   "id": "19455ce9",
   "metadata": {},
   "outputs": [
    {
     "data": {
      "text/plain": [
       "(22499, 23)"
      ]
     },
     "execution_count": 36,
     "metadata": {},
     "output_type": "execute_result"
    }
   ],
   "source": [
    "train_selected.shape"
   ]
  },
  {
   "cell_type": "markdown",
   "id": "ba6f7e37",
   "metadata": {},
   "source": [
    "###Steps for feature binning: Step 1. Initialization: c = toad.transform.Combiner() Step 2. Training binning: c.fit(dataframe, y = 'target', method = 'chi', min_samples = 0.05, n_bins = None, empty_separate = False)\n",
    "\n",
    "y: target column method: binning method, supports chi (chi-square binning), dt (decision tree binning), kmean, quantile, step (equal step size binning) min_samples: Each box contains the least number of samples, which can be a number or a proportion n_bins: the number of bins; If it is not possible to divide so many boxes the maximum number of bins will be divided. empty_separate: Whether to separate empty boxes separately Step 3. check binning nodes: c.export() Step 4. Manually adjust binning: c.load(dict) Step 5. Apply binning results: c.transform(dataframe, labels=False) labels: Whether to convert the binning results into box labels. If False, output 0, 1, 2… (discrete variables are sorted according to the proportion), and if True output (-inf, 0], (0,10], (10, inf)."
   ]
  },
  {
   "cell_type": "code",
   "execution_count": 37,
   "id": "8e4c1b25",
   "metadata": {},
   "outputs": [
    {
     "name": "stdout",
     "output_type": "stream",
     "text": [
      "2.298473525047302\n"
     ]
    }
   ],
   "source": [
    "import time\n",
    "start = time.time()\n",
    "combiner = toad.transform.Combiner()\n",
    "# use the filtered features for training\n",
    "# Use the stable chi-square binning, \n",
    "# specifying that each bin has at least 5% data to ensure stability\n",
    "# empty values will be automatically assigned to the best bin\n",
    "combiner.fit(X=train_selected,\n",
    "             y=train_selected['label'],\n",
    "             method='chi',\n",
    "             min_samples = 0.05,\n",
    "             exclude=exclude_list)\n",
    "end = time.time()\n",
    "print((end-start)/60)"
   ]
  },
  {
   "cell_type": "code",
   "execution_count": 38,
   "id": "c7ba73e0",
   "metadata": {},
   "outputs": [
    {
     "data": {
      "text/plain": [
       "<toad.transform.Combiner at 0x22d34047ca0>"
      ]
     },
     "execution_count": 38,
     "metadata": {},
     "output_type": "execute_result"
    }
   ],
   "source": [
    "combiner"
   ]
  },
  {
   "cell_type": "code",
   "execution_count": 137,
   "id": "3ae3100c",
   "metadata": {},
   "outputs": [],
   "source": [
    "# save 1: pickle combiner\n",
    "filename = 'CreditScore_save1_combiner.pkl'\n",
    "pickle.dump(combiner, open(filename, 'wb'))"
   ]
  },
  {
   "cell_type": "code",
   "execution_count": 138,
   "id": "55479e7f",
   "metadata": {},
   "outputs": [
    {
     "data": {
      "text/plain": [
       "'CreditScore_save1_combiner.pkl'"
      ]
     },
     "execution_count": 138,
     "metadata": {},
     "output_type": "execute_result"
    }
   ],
   "source": [
    "filename"
   ]
  },
  {
   "cell_type": "code",
   "execution_count": 39,
   "id": "456488a4",
   "metadata": {},
   "outputs": [],
   "source": [
    "#output binning\n",
    "bins = combiner.export()"
   ]
  },
  {
   "cell_type": "code",
   "execution_count": 40,
   "id": "76324345",
   "metadata": {},
   "outputs": [
    {
     "data": {
      "text/plain": [
       "21"
      ]
     },
     "execution_count": 40,
     "metadata": {},
     "output_type": "execute_result"
    }
   ],
   "source": [
    "len(bins)"
   ]
  },
  {
   "cell_type": "code",
   "execution_count": 41,
   "id": "7bedb2f7",
   "metadata": {},
   "outputs": [
    {
     "data": {
      "text/plain": [
       "{'LIMIT_BAL': [50000.0,\n",
       "  60000.0,\n",
       "  80000.0,\n",
       "  110000.0,\n",
       "  150000.0,\n",
       "  230000.0,\n",
       "  370000.0],\n",
       " 'EDUCATION': [2],\n",
       " 'AGE': [26, 29, 34, 46],\n",
       " 'PAY_0': [1, 2],\n",
       " 'PAY_2': [2],\n",
       " 'PAY_3': [2],\n",
       " 'PAY_4': [1],\n",
       " 'PAY_5': [2],\n",
       " 'PAY_6': [2],\n",
       " 'BILL_AMT1': [2501.0],\n",
       " 'BILL_AMT2': [2400.0, 8287.0, 35213.0],\n",
       " 'BILL_AMT3': [2400.0, 7458.0, 81890.0],\n",
       " 'BILL_AMT4': [2501.0],\n",
       " 'BILL_AMT5': [2395.0, 8110.0, 35288.0],\n",
       " 'BILL_AMT6': [19195.0, 50442.0],\n",
       " 'PAY_AMT1': [6.0, 4902.0],\n",
       " 'PAY_AMT2': [92.0, 1603.0, 4520.0, 15002.0],\n",
       " 'PAY_AMT3': [1.0, 2921.0],\n",
       " 'PAY_AMT4': [1.0, 1506.0, 3946.0],\n",
       " 'PAY_AMT5': [1.0, 1880.0, 10000.0],\n",
       " 'PAY_AMT6': [28.0, 480.0, 926.0, 1078.0, 1501.0, 4060.0, 9567.0]}"
      ]
     },
     "execution_count": 41,
     "metadata": {},
     "output_type": "execute_result"
    }
   ],
   "source": [
    "bins"
   ]
  },
  {
   "cell_type": "code",
   "execution_count": 42,
   "id": "db729684",
   "metadata": {},
   "outputs": [],
   "source": [
    "#apply binning\n",
    "train_bin = combiner.transform(train_selected)\n",
    "test_bin = combiner.transform(test[train_bin.columns])"
   ]
  },
  {
   "cell_type": "code",
   "execution_count": 43,
   "id": "22528693",
   "metadata": {},
   "outputs": [
    {
     "data": {
      "text/plain": [
       "(22499, 23)"
      ]
     },
     "execution_count": 43,
     "metadata": {},
     "output_type": "execute_result"
    }
   ],
   "source": [
    "train_bin.head()\n",
    "train_bin.shape"
   ]
  },
  {
   "cell_type": "code",
   "execution_count": 44,
   "id": "e987a252",
   "metadata": {},
   "outputs": [
    {
     "data": {
      "text/plain": [
       "(7501, 23)"
      ]
     },
     "execution_count": 44,
     "metadata": {},
     "output_type": "execute_result"
    }
   ],
   "source": [
    "test_bin.head()\n",
    "test_bin.shape"
   ]
  },
  {
   "cell_type": "code",
   "execution_count": 45,
   "id": "fe907691",
   "metadata": {},
   "outputs": [
    {
     "data": {
      "text/plain": [
       "<AxesSubplot:xlabel='PAY_AMT1', ylabel='prop'>"
      ]
     },
     "execution_count": 45,
     "metadata": {},
     "output_type": "execute_result"
    },
    {
     "data": {
      "image/png": "[encoded data removed]",
      "text/plain": [
       "<Figure size 864x432 with 2 Axes>"
      ]
     },
     "metadata": {},
     "output_type": "display_data"
    },
    {
     "data": {
      "image/png": "[encoded data removed]",
      "text/plain": [
       "<Figure size 864x432 with 2 Axes>"
      ]
     },
     "metadata": {},
     "output_type": "display_data"
    }
   ],
   "source": [
    "#double checking the propotion of the data binning with the train and test\n",
    "#Fine tune bins\n",
    "from toad.plot import  bin_plot,badrate_plot\n",
    "bin_plot(train_bin,x='PAY_AMT1',target='label')\n",
    "bin_plot(test_bin,x='PAY_AMT1',target='label')"
   ]
  },
  {
   "cell_type": "markdown",
   "id": "7560add8",
   "metadata": {},
   "source": [
    "###In this plot, the bar plot represents the proportion of the data in the corresponding bin; the red line represents the proportion of default customers.\n",
    "\n",
    "We need to make sure that the binning has monotonicity, which means the line is trending in the same direction with no sudden jump or drop.\n",
    "\n",
    "This plot looks ok, if there is a sudden jump or drop, we need to use c.set_rules(dict) to combine the binning."
   ]
  },
  {
   "cell_type": "markdown",
   "id": "318e21c6",
   "metadata": {},
   "source": [
    "###4. Transform to WOE and Calculate PSI\n",
    "WOE transformation is performed after the binning is Done.\n",
    "\n",
    "The steps are as follows:\n",
    "\n",
    "Use the above-adjusted Combiner c to transform the data\n",
    "Initialize woe transform t: t= toad.transform.WOETransformer()\n",
    "Training the t: t.fit_transform trains and outputs woe transformed data for the trainset\n",
    "target: target column data (not column name)\n",
    "exclude: columns that do not need to be transformed by WOE. Note: All columns will be transformed, including the columns that have not been binning, and the columns that do not need to be converted by WOE will be deleted through exclude, especially the target column.\n",
    "Transform the test/OOT data: transer.transform"
   ]
  },
  {
   "cell_type": "code",
   "execution_count": 46,
   "id": "adeeb25f",
   "metadata": {},
   "outputs": [],
   "source": [
    "##transform to WOE\n",
    "t=toad.transform.WOETransformer()\n",
    "#transform training set\n",
    "train_woe = t.fit_transform(X=train_bin,\n",
    "                            y=train_bin['label'], \n",
    "                            exclude=exclude_list)\n",
    "#transform testing set\n",
    "test_woe = t.transform(test_bin)\n",
    "\n",
    "#for saving the csv purpose we are concating \n",
    "final_data_woe = pd.concat([train_woe,test_woe])"
   ]
  },
  {
   "cell_type": "code",
   "execution_count": 139,
   "id": "27930261",
   "metadata": {},
   "outputs": [],
   "source": [
    "#save 2: pickle woe_transform\n",
    "filename = 'CreditScore_save2_woe_transform.pkl'\n",
    "pickle.dump(t, open(filename, 'wb'))"
   ]
  },
  {
   "cell_type": "code",
   "execution_count": 140,
   "id": "27350382",
   "metadata": {},
   "outputs": [
    {
     "data": {
      "text/plain": [
       "'CreditScore_save2_woe_transform.pkl'"
      ]
     },
     "execution_count": 140,
     "metadata": {},
     "output_type": "execute_result"
    }
   ],
   "source": [
    "filename"
   ]
  },
  {
   "cell_type": "code",
   "execution_count": 47,
   "id": "3a71881b",
   "metadata": {},
   "outputs": [
    {
     "data": {
      "text/html": [
       "<div>\n",
       "<style scoped>\n",
       "    .dataframe tbody tr th:only-of-type {\n",
       "        vertical-align: middle;\n",
       "    }\n",
       "\n",
       "    .dataframe tbody tr th {\n",
       "        vertical-align: top;\n",
       "    }\n",
       "\n",
       "    .dataframe thead th {\n",
       "        text-align: right;\n",
       "    }\n",
       "</style>\n",
       "<table border=\"1\" class=\"dataframe\">\n",
       "  <thead>\n",
       "    <tr style=\"text-align: right;\">\n",
       "      <th></th>\n",
       "      <th>ID</th>\n",
       "      <th>LIMIT_BAL</th>\n",
       "      <th>EDUCATION</th>\n",
       "      <th>AGE</th>\n",
       "      <th>PAY_0</th>\n",
       "      <th>PAY_2</th>\n",
       "      <th>PAY_3</th>\n",
       "      <th>PAY_4</th>\n",
       "      <th>PAY_5</th>\n",
       "      <th>PAY_6</th>\n",
       "      <th>...</th>\n",
       "      <th>BILL_AMT4</th>\n",
       "      <th>BILL_AMT5</th>\n",
       "      <th>BILL_AMT6</th>\n",
       "      <th>PAY_AMT1</th>\n",
       "      <th>PAY_AMT2</th>\n",
       "      <th>PAY_AMT3</th>\n",
       "      <th>PAY_AMT4</th>\n",
       "      <th>PAY_AMT5</th>\n",
       "      <th>PAY_AMT6</th>\n",
       "      <th>label</th>\n",
       "    </tr>\n",
       "  </thead>\n",
       "  <tbody>\n",
       "    <tr>\n",
       "      <th>0</th>\n",
       "      <td>1</td>\n",
       "      <td>0.666522</td>\n",
       "      <td>0.088429</td>\n",
       "      <td>0.260065</td>\n",
       "      <td>2.019269</td>\n",
       "      <td>1.459809</td>\n",
       "      <td>-0.311239</td>\n",
       "      <td>-0.253727</td>\n",
       "      <td>-0.232378</td>\n",
       "      <td>-0.215037</td>\n",
       "      <td>...</td>\n",
       "      <td>0.028510</td>\n",
       "      <td>-0.006521</td>\n",
       "      <td>-0.034304</td>\n",
       "      <td>0.662394</td>\n",
       "      <td>0.124160</td>\n",
       "      <td>0.488183</td>\n",
       "      <td>0.454327</td>\n",
       "      <td>0.370272</td>\n",
       "      <td>0.343887</td>\n",
       "      <td>1</td>\n",
       "    </tr>\n",
       "    <tr>\n",
       "      <th>1</th>\n",
       "      <td>2</td>\n",
       "      <td>-0.034630</td>\n",
       "      <td>0.088429</td>\n",
       "      <td>-0.100163</td>\n",
       "      <td>-0.575364</td>\n",
       "      <td>1.459809</td>\n",
       "      <td>-0.311239</td>\n",
       "      <td>-0.253727</td>\n",
       "      <td>-0.232378</td>\n",
       "      <td>1.282840</td>\n",
       "      <td>...</td>\n",
       "      <td>-0.009858</td>\n",
       "      <td>-0.239312</td>\n",
       "      <td>-0.034304</td>\n",
       "      <td>0.662394</td>\n",
       "      <td>0.124160</td>\n",
       "      <td>0.016060</td>\n",
       "      <td>0.056501</td>\n",
       "      <td>0.370272</td>\n",
       "      <td>-0.082401</td>\n",
       "      <td>1</td>\n",
       "    </tr>\n",
       "    <tr>\n",
       "      <th>2</th>\n",
       "      <td>3</td>\n",
       "      <td>0.108342</td>\n",
       "      <td>0.088429</td>\n",
       "      <td>-0.028816</td>\n",
       "      <td>-0.575364</td>\n",
       "      <td>-0.378340</td>\n",
       "      <td>-0.311239</td>\n",
       "      <td>-0.253727</td>\n",
       "      <td>-0.232378</td>\n",
       "      <td>-0.215037</td>\n",
       "      <td>...</td>\n",
       "      <td>-0.009858</td>\n",
       "      <td>0.140562</td>\n",
       "      <td>-0.034304</td>\n",
       "      <td>-0.009085</td>\n",
       "      <td>0.124160</td>\n",
       "      <td>0.016060</td>\n",
       "      <td>0.056501</td>\n",
       "      <td>0.084926</td>\n",
       "      <td>-0.391360</td>\n",
       "      <td>0</td>\n",
       "    </tr>\n",
       "    <tr>\n",
       "      <th>3</th>\n",
       "      <td>4</td>\n",
       "      <td>0.200392</td>\n",
       "      <td>0.088429</td>\n",
       "      <td>-0.028816</td>\n",
       "      <td>-0.575364</td>\n",
       "      <td>-0.378340</td>\n",
       "      <td>-0.311239</td>\n",
       "      <td>-0.253727</td>\n",
       "      <td>-0.232378</td>\n",
       "      <td>-0.215037</td>\n",
       "      <td>...</td>\n",
       "      <td>-0.009858</td>\n",
       "      <td>0.140562</td>\n",
       "      <td>0.162615</td>\n",
       "      <td>-0.009085</td>\n",
       "      <td>-0.076846</td>\n",
       "      <td>0.016060</td>\n",
       "      <td>0.056501</td>\n",
       "      <td>0.084926</td>\n",
       "      <td>-0.119586</td>\n",
       "      <td>0</td>\n",
       "    </tr>\n",
       "    <tr>\n",
       "      <th>4</th>\n",
       "      <td>5</td>\n",
       "      <td>0.200392</td>\n",
       "      <td>0.088429</td>\n",
       "      <td>0.156679</td>\n",
       "      <td>-0.575364</td>\n",
       "      <td>-0.378340</td>\n",
       "      <td>-0.311239</td>\n",
       "      <td>-0.253727</td>\n",
       "      <td>-0.232378</td>\n",
       "      <td>-0.215037</td>\n",
       "      <td>...</td>\n",
       "      <td>-0.009858</td>\n",
       "      <td>0.140562</td>\n",
       "      <td>-0.034304</td>\n",
       "      <td>-0.009085</td>\n",
       "      <td>-1.078550</td>\n",
       "      <td>-0.372758</td>\n",
       "      <td>-0.457199</td>\n",
       "      <td>0.084926</td>\n",
       "      <td>0.257636</td>\n",
       "      <td>0</td>\n",
       "    </tr>\n",
       "  </tbody>\n",
       "</table>\n",
       "<p>5 rows × 23 columns</p>\n",
       "</div>"
      ],
      "text/plain": [
       "   ID  LIMIT_BAL  EDUCATION       AGE     PAY_0     PAY_2     PAY_3     PAY_4  \\\n",
       "0   1   0.666522   0.088429  0.260065  2.019269  1.459809 -0.311239 -0.253727   \n",
       "1   2  -0.034630   0.088429 -0.100163 -0.575364  1.459809 -0.311239 -0.253727   \n",
       "2   3   0.108342   0.088429 -0.028816 -0.575364 -0.378340 -0.311239 -0.253727   \n",
       "3   4   0.200392   0.088429 -0.028816 -0.575364 -0.378340 -0.311239 -0.253727   \n",
       "4   5   0.200392   0.088429  0.156679 -0.575364 -0.378340 -0.311239 -0.253727   \n",
       "\n",
       "      PAY_5     PAY_6  ...  BILL_AMT4  BILL_AMT5  BILL_AMT6  PAY_AMT1  \\\n",
       "0 -0.232378 -0.215037  ...   0.028510  -0.006521  -0.034304  0.662394   \n",
       "1 -0.232378  1.282840  ...  -0.009858  -0.239312  -0.034304  0.662394   \n",
       "2 -0.232378 -0.215037  ...  -0.009858   0.140562  -0.034304 -0.009085   \n",
       "3 -0.232378 -0.215037  ...  -0.009858   0.140562   0.162615 -0.009085   \n",
       "4 -0.232378 -0.215037  ...  -0.009858   0.140562  -0.034304 -0.009085   \n",
       "\n",
       "   PAY_AMT2  PAY_AMT3  PAY_AMT4  PAY_AMT5  PAY_AMT6  label  \n",
       "0  0.124160  0.488183  0.454327  0.370272  0.343887      1  \n",
       "1  0.124160  0.016060  0.056501  0.370272 -0.082401      1  \n",
       "2  0.124160  0.016060  0.056501  0.084926 -0.391360      0  \n",
       "3 -0.076846  0.016060  0.056501  0.084926 -0.119586      0  \n",
       "4 -1.078550 -0.372758 -0.457199  0.084926  0.257636      0  \n",
       "\n",
       "[5 rows x 23 columns]"
      ]
     },
     "execution_count": 47,
     "metadata": {},
     "output_type": "execute_result"
    }
   ],
   "source": [
    "train_woe.head()\n"
   ]
  },
  {
   "cell_type": "code",
   "execution_count": 48,
   "id": "79ef80bd",
   "metadata": {},
   "outputs": [
    {
     "data": {
      "text/plain": [
       "(22499, 23)"
      ]
     },
     "execution_count": 48,
     "metadata": {},
     "output_type": "execute_result"
    }
   ],
   "source": [
    "train_woe.shape"
   ]
  },
  {
   "cell_type": "code",
   "execution_count": 49,
   "id": "3249e0e2",
   "metadata": {},
   "outputs": [
    {
     "data": {
      "text/plain": [
       "(7501, 23)"
      ]
     },
     "execution_count": 49,
     "metadata": {},
     "output_type": "execute_result"
    }
   ],
   "source": [
    "test_woe.shape"
   ]
  },
  {
   "cell_type": "code",
   "execution_count": 50,
   "id": "8cf28e84",
   "metadata": {},
   "outputs": [
    {
     "data": {
      "text/plain": [
       "(30000, 23)"
      ]
     },
     "execution_count": 50,
     "metadata": {},
     "output_type": "execute_result"
    }
   ],
   "source": [
    "final_data_woe.shape"
   ]
  },
  {
   "cell_type": "code",
   "execution_count": 51,
   "id": "f32b0b56",
   "metadata": {},
   "outputs": [
    {
     "data": {
      "text/plain": [
       "21"
      ]
     },
     "execution_count": 51,
     "metadata": {},
     "output_type": "execute_result"
    }
   ],
   "source": [
    "#letz calculate the feature_use based on the WOE \n",
    "features_use = [feat for feat in final_data_woe.columns if feat not in exclude_list]\n",
    "len(features_use)"
   ]
  },
  {
   "cell_type": "markdown",
   "id": "f94583ca",
   "metadata": {},
   "source": [
    "####Calculate PSI PSI (Population Stability Index) reflects the stability of the distribution. We often use it to screen features and evaluate model stability. The industry level is to drop features with a PSI greater than 0.2\n"
   ]
  },
  {
   "cell_type": "code",
   "execution_count": 52,
   "id": "543df15a",
   "metadata": {},
   "outputs": [],
   "source": [
    "#get the feature name\n",
    "features_list = [feat for feat in train_woe.columns if feat not in exclude_list]"
   ]
  },
  {
   "cell_type": "code",
   "execution_count": 53,
   "id": "4f0593ce",
   "metadata": {},
   "outputs": [
    {
     "name": "stderr",
     "output_type": "stream",
     "text": [
      "C:\\Users\\Viji\\AppData\\Local\\Temp\\ipykernel_9300\\1901487294.py:2: FutureWarning: In a future version of pandas all arguments of Series.sort_values will be keyword-only.\n",
      "  psi_df = toad.metrics.PSI(train_woe[features_list], test_woe[features_list]).sort_values(0)\n"
     ]
    }
   ],
   "source": [
    "#calculate PSI using toad\n",
    "psi_df = toad.metrics.PSI(train_woe[features_list], test_woe[features_list]).sort_values(0)\n"
   ]
  },
  {
   "cell_type": "code",
   "execution_count": 54,
   "id": "25c83afc",
   "metadata": {},
   "outputs": [
    {
     "data": {
      "text/html": [
       "<div>\n",
       "<style scoped>\n",
       "    .dataframe tbody tr th:only-of-type {\n",
       "        vertical-align: middle;\n",
       "    }\n",
       "\n",
       "    .dataframe tbody tr th {\n",
       "        vertical-align: top;\n",
       "    }\n",
       "\n",
       "    .dataframe thead th {\n",
       "        text-align: right;\n",
       "    }\n",
       "</style>\n",
       "<table border=\"1\" class=\"dataframe\">\n",
       "  <thead>\n",
       "    <tr style=\"text-align: right;\">\n",
       "      <th></th>\n",
       "      <th>feature</th>\n",
       "      <th>psi</th>\n",
       "    </tr>\n",
       "  </thead>\n",
       "  <tbody>\n",
       "    <tr>\n",
       "      <th>0</th>\n",
       "      <td>PAY_4</td>\n",
       "      <td>0.000144</td>\n",
       "    </tr>\n",
       "    <tr>\n",
       "      <th>1</th>\n",
       "      <td>EDUCATION</td>\n",
       "      <td>0.000264</td>\n",
       "    </tr>\n",
       "    <tr>\n",
       "      <th>2</th>\n",
       "      <td>BILL_AMT4</td>\n",
       "      <td>0.000330</td>\n",
       "    </tr>\n",
       "    <tr>\n",
       "      <th>3</th>\n",
       "      <td>BILL_AMT6</td>\n",
       "      <td>0.001591</td>\n",
       "    </tr>\n",
       "    <tr>\n",
       "      <th>4</th>\n",
       "      <td>BILL_AMT5</td>\n",
       "      <td>0.002520</td>\n",
       "    </tr>\n",
       "    <tr>\n",
       "      <th>5</th>\n",
       "      <td>BILL_AMT1</td>\n",
       "      <td>0.002634</td>\n",
       "    </tr>\n",
       "    <tr>\n",
       "      <th>6</th>\n",
       "      <td>PAY_AMT5</td>\n",
       "      <td>0.003066</td>\n",
       "    </tr>\n",
       "    <tr>\n",
       "      <th>7</th>\n",
       "      <td>PAY_2</td>\n",
       "      <td>0.003356</td>\n",
       "    </tr>\n",
       "    <tr>\n",
       "      <th>8</th>\n",
       "      <td>PAY_AMT1</td>\n",
       "      <td>0.003402</td>\n",
       "    </tr>\n",
       "    <tr>\n",
       "      <th>9</th>\n",
       "      <td>PAY_3</td>\n",
       "      <td>0.003669</td>\n",
       "    </tr>\n",
       "    <tr>\n",
       "      <th>10</th>\n",
       "      <td>PAY_AMT4</td>\n",
       "      <td>0.004556</td>\n",
       "    </tr>\n",
       "    <tr>\n",
       "      <th>11</th>\n",
       "      <td>BILL_AMT2</td>\n",
       "      <td>0.005398</td>\n",
       "    </tr>\n",
       "    <tr>\n",
       "      <th>12</th>\n",
       "      <td>PAY_0</td>\n",
       "      <td>0.005472</td>\n",
       "    </tr>\n",
       "    <tr>\n",
       "      <th>13</th>\n",
       "      <td>PAY_5</td>\n",
       "      <td>0.005487</td>\n",
       "    </tr>\n",
       "    <tr>\n",
       "      <th>14</th>\n",
       "      <td>PAY_AMT6</td>\n",
       "      <td>0.007230</td>\n",
       "    </tr>\n",
       "    <tr>\n",
       "      <th>15</th>\n",
       "      <td>BILL_AMT3</td>\n",
       "      <td>0.007589</td>\n",
       "    </tr>\n",
       "    <tr>\n",
       "      <th>16</th>\n",
       "      <td>PAY_6</td>\n",
       "      <td>0.009655</td>\n",
       "    </tr>\n",
       "    <tr>\n",
       "      <th>17</th>\n",
       "      <td>PAY_AMT2</td>\n",
       "      <td>0.010605</td>\n",
       "    </tr>\n",
       "    <tr>\n",
       "      <th>18</th>\n",
       "      <td>PAY_AMT3</td>\n",
       "      <td>0.016165</td>\n",
       "    </tr>\n",
       "    <tr>\n",
       "      <th>19</th>\n",
       "      <td>LIMIT_BAL</td>\n",
       "      <td>0.018541</td>\n",
       "    </tr>\n",
       "    <tr>\n",
       "      <th>20</th>\n",
       "      <td>AGE</td>\n",
       "      <td>0.035298</td>\n",
       "    </tr>\n",
       "  </tbody>\n",
       "</table>\n",
       "</div>"
      ],
      "text/plain": [
       "      feature       psi\n",
       "0       PAY_4  0.000144\n",
       "1   EDUCATION  0.000264\n",
       "2   BILL_AMT4  0.000330\n",
       "3   BILL_AMT6  0.001591\n",
       "4   BILL_AMT5  0.002520\n",
       "5   BILL_AMT1  0.002634\n",
       "6    PAY_AMT5  0.003066\n",
       "7       PAY_2  0.003356\n",
       "8    PAY_AMT1  0.003402\n",
       "9       PAY_3  0.003669\n",
       "10   PAY_AMT4  0.004556\n",
       "11  BILL_AMT2  0.005398\n",
       "12      PAY_0  0.005472\n",
       "13      PAY_5  0.005487\n",
       "14   PAY_AMT6  0.007230\n",
       "15  BILL_AMT3  0.007589\n",
       "16      PAY_6  0.009655\n",
       "17   PAY_AMT2  0.010605\n",
       "18   PAY_AMT3  0.016165\n",
       "19  LIMIT_BAL  0.018541\n",
       "20        AGE  0.035298"
      ]
     },
     "execution_count": 54,
     "metadata": {},
     "output_type": "execute_result"
    }
   ],
   "source": [
    "#put into a dataframe\n",
    "psi_df = psi_df.reset_index()\n",
    "psi_df = psi_df.rename(columns = {'index' : 'feature',0:'psi'})\n",
    "psi_df"
   ]
  },
  {
   "cell_type": "code",
   "execution_count": 55,
   "id": "091710f7",
   "metadata": {},
   "outputs": [],
   "source": [
    "# features less than 0.25\n",
    "psi_lesser = list(psi_df[psi_df.psi<0.25].feature)\n",
    "# features geater than 0.25\n",
    "psi_greater = list(psi_df[psi_df.psi>=0.25].feature)"
   ]
  },
  {
   "cell_type": "code",
   "execution_count": 56,
   "id": "8a3b7636",
   "metadata": {},
   "outputs": [
    {
     "data": {
      "text/plain": [
       "[]"
      ]
     },
     "execution_count": 56,
     "metadata": {},
     "output_type": "execute_result"
    }
   ],
   "source": [
    "psi_greater"
   ]
  },
  {
   "cell_type": "code",
   "execution_count": 57,
   "id": "72650e2e",
   "metadata": {},
   "outputs": [],
   "source": [
    "# keep exclude list\n",
    "for i in exclude_list:\n",
    "    if i in psi_lesser:\n",
    "        pass\n",
    "    else:\n",
    "       psi_lesser.append(i) "
   ]
  },
  {
   "cell_type": "code",
   "execution_count": 58,
   "id": "a9a92db9",
   "metadata": {},
   "outputs": [],
   "source": [
    "# keep the feature that are lesser than 0.25 in both test and train\n",
    "train_woe_psi = train_woe[psi_lesser]\n",
    "test_woe_psi = test_woe[psi_lesser]"
   ]
  },
  {
   "cell_type": "code",
   "execution_count": 59,
   "id": "fe603241",
   "metadata": {},
   "outputs": [
    {
     "data": {
      "text/plain": [
       "(30000, 23)"
      ]
     },
     "execution_count": 59,
     "metadata": {},
     "output_type": "execute_result"
    }
   ],
   "source": [
    "# output our final data table\n",
    "final_woe_psi = pd.concat([train_woe_psi,test_woe_psi])\n",
    "final_woe_psi.shape"
   ]
  },
  {
   "cell_type": "code",
   "execution_count": 146,
   "id": "174be375",
   "metadata": {},
   "outputs": [],
   "source": [
    "#save 3: final data table with transformed woe along with PSI\n",
    "final_woe_psi.to_csv('CreditScore_save3_final_woe_PSI.csv')"
   ]
  },
  {
   "cell_type": "markdown",
   "id": "7c3a674d",
   "metadata": {},
   "source": [
    "###Output IV on WOE data\n",
    "I think we can remove these parts\n"
   ]
  },
  {
   "cell_type": "code",
   "execution_count": 61,
   "id": "01e578d6",
   "metadata": {},
   "outputs": [
    {
     "data": {
      "text/plain": [
       "21"
      ]
     },
     "execution_count": 61,
     "metadata": {},
     "output_type": "execute_result"
    }
   ],
   "source": [
    "features_use = [feat for feat in final_woe_psi.columns if feat not in exclude_list]\n",
    "len(features_use)"
   ]
  },
  {
   "cell_type": "code",
   "execution_count": 62,
   "id": "6a459e75",
   "metadata": {},
   "outputs": [
    {
     "data": {
      "text/html": [
       "<div>\n",
       "<style scoped>\n",
       "    .dataframe tbody tr th:only-of-type {\n",
       "        vertical-align: middle;\n",
       "    }\n",
       "\n",
       "    .dataframe tbody tr th {\n",
       "        vertical-align: top;\n",
       "    }\n",
       "\n",
       "    .dataframe thead th {\n",
       "        text-align: right;\n",
       "    }\n",
       "</style>\n",
       "<table border=\"1\" class=\"dataframe\">\n",
       "  <thead>\n",
       "    <tr style=\"text-align: right;\">\n",
       "      <th></th>\n",
       "      <th>name</th>\n",
       "      <th>iv</th>\n",
       "    </tr>\n",
       "  </thead>\n",
       "  <tbody>\n",
       "    <tr>\n",
       "      <th>0</th>\n",
       "      <td>PAY_0</td>\n",
       "      <td>0.860976</td>\n",
       "    </tr>\n",
       "    <tr>\n",
       "      <th>1</th>\n",
       "      <td>PAY_2</td>\n",
       "      <td>0.544104</td>\n",
       "    </tr>\n",
       "    <tr>\n",
       "      <th>2</th>\n",
       "      <td>PAY_3</td>\n",
       "      <td>0.408793</td>\n",
       "    </tr>\n",
       "    <tr>\n",
       "      <th>3</th>\n",
       "      <td>PAY_4</td>\n",
       "      <td>0.354314</td>\n",
       "    </tr>\n",
       "    <tr>\n",
       "      <th>4</th>\n",
       "      <td>PAY_5</td>\n",
       "      <td>0.328299</td>\n",
       "    </tr>\n",
       "    <tr>\n",
       "      <th>5</th>\n",
       "      <td>PAY_6</td>\n",
       "      <td>0.281568</td>\n",
       "    </tr>\n",
       "    <tr>\n",
       "      <th>6</th>\n",
       "      <td>LIMIT_BAL</td>\n",
       "      <td>0.181621</td>\n",
       "    </tr>\n",
       "    <tr>\n",
       "      <th>7</th>\n",
       "      <td>PAY_AMT1</td>\n",
       "      <td>0.173425</td>\n",
       "    </tr>\n",
       "    <tr>\n",
       "      <th>8</th>\n",
       "      <td>PAY_AMT2</td>\n",
       "      <td>0.162703</td>\n",
       "    </tr>\n",
       "    <tr>\n",
       "      <th>9</th>\n",
       "      <td>PAY_AMT3</td>\n",
       "      <td>0.114630</td>\n",
       "    </tr>\n",
       "    <tr>\n",
       "      <th>10</th>\n",
       "      <td>PAY_AMT4</td>\n",
       "      <td>0.104007</td>\n",
       "    </tr>\n",
       "    <tr>\n",
       "      <th>11</th>\n",
       "      <td>PAY_AMT6</td>\n",
       "      <td>0.101453</td>\n",
       "    </tr>\n",
       "    <tr>\n",
       "      <th>12</th>\n",
       "      <td>PAY_AMT5</td>\n",
       "      <td>0.087383</td>\n",
       "    </tr>\n",
       "    <tr>\n",
       "      <th>13</th>\n",
       "      <td>AGE</td>\n",
       "      <td>0.021193</td>\n",
       "    </tr>\n",
       "    <tr>\n",
       "      <th>14</th>\n",
       "      <td>EDUCATION</td>\n",
       "      <td>0.015674</td>\n",
       "    </tr>\n",
       "    <tr>\n",
       "      <th>15</th>\n",
       "      <td>BILL_AMT5</td>\n",
       "      <td>0.012865</td>\n",
       "    </tr>\n",
       "    <tr>\n",
       "      <th>16</th>\n",
       "      <td>BILL_AMT2</td>\n",
       "      <td>0.008361</td>\n",
       "    </tr>\n",
       "    <tr>\n",
       "      <th>17</th>\n",
       "      <td>BILL_AMT6</td>\n",
       "      <td>0.007382</td>\n",
       "    </tr>\n",
       "    <tr>\n",
       "      <th>18</th>\n",
       "      <td>BILL_AMT3</td>\n",
       "      <td>0.006877</td>\n",
       "    </tr>\n",
       "    <tr>\n",
       "      <th>19</th>\n",
       "      <td>BILL_AMT1</td>\n",
       "      <td>0.002872</td>\n",
       "    </tr>\n",
       "    <tr>\n",
       "      <th>20</th>\n",
       "      <td>BILL_AMT4</td>\n",
       "      <td>0.000979</td>\n",
       "    </tr>\n",
       "  </tbody>\n",
       "</table>\n",
       "</div>"
      ],
      "text/plain": [
       "         name        iv\n",
       "0       PAY_0  0.860976\n",
       "1       PAY_2  0.544104\n",
       "2       PAY_3  0.408793\n",
       "3       PAY_4  0.354314\n",
       "4       PAY_5  0.328299\n",
       "5       PAY_6  0.281568\n",
       "6   LIMIT_BAL  0.181621\n",
       "7    PAY_AMT1  0.173425\n",
       "8    PAY_AMT2  0.162703\n",
       "9    PAY_AMT3  0.114630\n",
       "10   PAY_AMT4  0.104007\n",
       "11   PAY_AMT6  0.101453\n",
       "12   PAY_AMT5  0.087383\n",
       "13        AGE  0.021193\n",
       "14  EDUCATION  0.015674\n",
       "15  BILL_AMT5  0.012865\n",
       "16  BILL_AMT2  0.008361\n",
       "17  BILL_AMT6  0.007382\n",
       "18  BILL_AMT3  0.006877\n",
       "19  BILL_AMT1  0.002872\n",
       "20  BILL_AMT4  0.000979"
      ]
     },
     "execution_count": 62,
     "metadata": {},
     "output_type": "execute_result"
    }
   ],
   "source": [
    "df_woe_iv=output_iv_importance(final_woe_psi[features_use+['label']],'label')\n",
    "df_woe_iv"
   ]
  },
  {
   "cell_type": "code",
   "execution_count": 147,
   "id": "22aef339",
   "metadata": {},
   "outputs": [],
   "source": [
    "#save 4: information value after woe transformation\n",
    "df_woe_iv.to_csv('CreditScore_save4_IV.csv')"
   ]
  },
  {
   "cell_type": "markdown",
   "id": "01bde44c",
   "metadata": {},
   "source": [
    "###The idea is to get the features with the highest IV and lowest PSI."
   ]
  },
  {
   "cell_type": "markdown",
   "id": "7b4dce11",
   "metadata": {},
   "source": [
    "###model tunning:"
   ]
  },
  {
   "cell_type": "code",
   "execution_count": 188,
   "id": "f97874b0",
   "metadata": {},
   "outputs": [],
   "source": [
    "x_train = train_woe[features_use]\n",
    "y_train=train_woe['label']\n",
    "x_test =test_woe[features_use] \n",
    "y_test = test_woe['label']\n",
    "# final_data_woe.shape\n",
    "x = final_data_woe.drop(columns=['label','ID'])\n",
    "y = final_data_woe['label']\n"
   ]
  },
  {
   "cell_type": "code",
   "execution_count": 64,
   "id": "955ac1ee",
   "metadata": {},
   "outputs": [
    {
     "data": {
      "text/plain": [
       "(22499, 21)"
      ]
     },
     "execution_count": 64,
     "metadata": {},
     "output_type": "execute_result"
    }
   ],
   "source": [
    "x_train.shape\n"
   ]
  },
  {
   "cell_type": "code",
   "execution_count": 65,
   "id": "3caa8e15",
   "metadata": {},
   "outputs": [
    {
     "data": {
      "text/plain": [
       "(22499,)"
      ]
     },
     "execution_count": 65,
     "metadata": {},
     "output_type": "execute_result"
    }
   ],
   "source": [
    "y_train.shape"
   ]
  },
  {
   "cell_type": "code",
   "execution_count": 66,
   "id": "c32b4037",
   "metadata": {},
   "outputs": [
    {
     "data": {
      "text/plain": [
       "(7501, 21)"
      ]
     },
     "execution_count": 66,
     "metadata": {},
     "output_type": "execute_result"
    }
   ],
   "source": [
    "x_test.shape"
   ]
  },
  {
   "cell_type": "code",
   "execution_count": 67,
   "id": "60020bf2",
   "metadata": {},
   "outputs": [
    {
     "data": {
      "text/plain": [
       "(7501,)"
      ]
     },
     "execution_count": 67,
     "metadata": {},
     "output_type": "execute_result"
    }
   ],
   "source": [
    "y_test.shape"
   ]
  },
  {
   "cell_type": "code",
   "execution_count": 179,
   "id": "e45eda0d",
   "metadata": {},
   "outputs": [],
   "source": [
    "scores_accuracy=[]"
   ]
  },
  {
   "cell_type": "code",
   "execution_count": 181,
   "id": "f2579ffd",
   "metadata": {},
   "outputs": [
    {
     "name": "stdout",
     "output_type": "stream",
     "text": [
      "Training set score: 0.813\n",
      "Test set score: 0.835\n",
      "Cross-validation scores:  [0.8        0.80955556 0.808      0.82311111 0.8261836 ]\n",
      "Mean CV score: 0.813\n",
      "Classification Report:\n",
      "              precision    recall  f1-score   support\n",
      "\n",
      "           0       0.85      0.97      0.90      5953\n",
      "           1       0.72      0.33      0.45      1548\n",
      "\n",
      "    accuracy                           0.83      7501\n",
      "   macro avg       0.78      0.65      0.68      7501\n",
      "weighted avg       0.82      0.83      0.81      7501\n",
      "\n",
      "Confusion matrix:\n",
      "[[5748  205]\n",
      " [1033  515]]\n"
     ]
    },
    {
     "data": {
      "image/png": "[encoded data removed]",
      "text/plain": [
       "<Figure size 576x432 with 1 Axes>"
      ]
     },
     "metadata": {
      "needs_background": "light"
     },
     "output_type": "display_data"
    },
    {
     "name": "stdout",
     "output_type": "stream",
     "text": [
      "Mean Absolute Error: 0.16504466071190507\n",
      "Mean Squared Error: 0.16504466071190507\n",
      "Root Mean Squared Error: 0.40625689004853205\n"
     ]
    }
   ],
   "source": [
    "#Logestic Regression\n",
    "from sklearn.linear_model import LogisticRegression\n",
    "\n",
    "logreg = LogisticRegression(random_state=42).fit(x_train, y_train)\n",
    "print(\"Training set score: {:.3f}\".format(logreg.score(x_train, y_train)))\n",
    "print(\"Test set score: {:.3f}\".format(logreg.score(x_test, y_test)))\n",
    "\n",
    "# Perform 5-fold cross-validation\n",
    "cv_scores = cross_val_score(logreg, x_train, y_train, cv=5)\n",
    "# Print the cross-validation scores\n",
    "print(\"Cross-validation scores: \", cv_scores)\n",
    "print(\"Mean CV score: {:.3f}\".format(cv_scores.mean()))\n",
    "\n",
    "#Classification Report:\n",
    "# Predict on the test set\n",
    "y_pred = logreg.predict(x_test)\n",
    "\n",
    "# Generate classification report\n",
    "report = classification_report(y_test, y_pred)\n",
    "\n",
    "print(\"Classification Report:\")\n",
    "print(report)\n",
    "\n",
    "# Generate confusion matrix\n",
    "cm = confusion_matrix(y_test, y_pred)\n",
    "print(\"Confusion matrix:\")\n",
    "print(cm)\n",
    "\n",
    "# Create a heatmap for visualization\n",
    "plt.figure(figsize=(8, 6))\n",
    "sns.heatmap(cm, annot=True, fmt=\"d\", cmap=\"Blues\", cbar=False)\n",
    "plt.xlabel(\"Predicted Labels\")\n",
    "plt.ylabel(\"True Labels\")\n",
    "plt.title(\"Confusion Matrix\")\n",
    "plt.show()\n",
    "\n",
    "# Evaluating the model:\n",
    "\n",
    "print('Mean Absolute Error:', metrics.mean_absolute_error(y_test, y_pred))  \n",
    "print('Mean Squared Error:', metrics.mean_squared_error(y_test, y_pred))  \n",
    "print('Root Mean Squared Error:', np.sqrt(metrics.mean_squared_error(y_test, y_pred))) \n"
   ]
  },
  {
   "cell_type": "code",
   "execution_count": 182,
   "id": "33adac74",
   "metadata": {},
   "outputs": [
    {
     "name": "stdout",
     "output_type": "stream",
     "text": [
      "Accuracy on training set: 0.963\n",
      "Accuracy on test set: 0.747\n",
      "Cross-validation scores:  [0.71933333 0.74222222 0.71533333 0.73066667 0.74327628]\n",
      "Mean CV score: 0.730\n",
      "Classification Report:\n",
      "              precision    recall  f1-score   support\n",
      "\n",
      "           0       0.84      0.84      0.84      5953\n",
      "           1       0.38      0.37      0.38      1548\n",
      "\n",
      "    accuracy                           0.75      7501\n",
      "   macro avg       0.61      0.61      0.61      7501\n",
      "weighted avg       0.74      0.75      0.75      7501\n",
      "\n",
      "Confusion matrix:\n",
      "[[5024  929]\n",
      " [ 971  577]]\n"
     ]
    },
    {
     "data": {
      "image/png": "[encoded data removed]",
      "text/plain": [
       "<Figure size 576x432 with 1 Axes>"
      ]
     },
     "metadata": {
      "needs_background": "light"
     },
     "output_type": "display_data"
    },
    {
     "name": "stdout",
     "output_type": "stream",
     "text": [
      "Mean Absolute Error: 0.25329956005865883\n",
      "Mean Squared Error: 0.25329956005865883\n",
      "Root Mean Squared Error: 0.5032887442201135\n"
     ]
    }
   ],
   "source": [
    "#DecisionTreeClassifier\n",
    "from sklearn.tree import DecisionTreeClassifier\n",
    "tree1 = DecisionTreeClassifier(random_state=42)\n",
    "tree1.fit(x_train, y_train)\n",
    "print(\"Accuracy on training set: {:.3f}\".format(tree1.score(x_train, y_train)))\n",
    "print(\"Accuracy on test set: {:.3f}\".format(tree1.score(x_test, y_test)))\n",
    "\n",
    "# Perform 5-fold cross-validation\n",
    "cv_scores = cross_val_score(tree1, x_train, y_train, cv=5)\n",
    "# Print the cross-validation scores\n",
    "print(\"Cross-validation scores: \", cv_scores)\n",
    "print(\"Mean CV score: {:.3f}\".format(cv_scores.mean()))\n",
    "\n",
    "#Classification Report:\n",
    "# Predict on the test set\n",
    "y_pred = tree1.predict(x_test)\n",
    "\n",
    "# Generate classification report\n",
    "report = classification_report(y_test, y_pred)\n",
    "\n",
    "print(\"Classification Report:\")\n",
    "print(report)\n",
    "\n",
    "# Generate confusion matrix\n",
    "cm = confusion_matrix(y_test, y_pred)\n",
    "print(\"Confusion matrix:\")\n",
    "print(cm)\n",
    "\n",
    "# Create a heatmap for visualization\n",
    "plt.figure(figsize=(8, 6))\n",
    "sns.heatmap(cm, annot=True, fmt=\"d\", cmap=\"Blues\", cbar=False)\n",
    "plt.xlabel(\"Predicted Labels\")\n",
    "plt.ylabel(\"True Labels\")\n",
    "plt.title(\"Confusion Matrix\")\n",
    "plt.show()\n",
    "\n",
    "# Evaluating the model:\n",
    "\n",
    "print('Mean Absolute Error:', metrics.mean_absolute_error(y_test, y_pred))  \n",
    "print('Mean Squared Error:', metrics.mean_squared_error(y_test, y_pred))  \n",
    "print('Root Mean Squared Error:', np.sqrt(metrics.mean_squared_error(y_test, y_pred))) "
   ]
  },
  {
   "cell_type": "code",
   "execution_count": 186,
   "id": "be1c19fb",
   "metadata": {},
   "outputs": [
    {
     "name": "stdout",
     "output_type": "stream",
     "text": [
      "Accuracy on training set: 0.963\n",
      "Accuracy on test set: 0.813\n",
      "Cross-validation scores:  [0.78577778 0.80222222 0.792      0.80444444 0.81418093]\n",
      "Mean CV score: 0.800\n",
      "Classification Report:\n",
      "              precision    recall  f1-score   support\n",
      "\n",
      "           0       0.85      0.93      0.89      5953\n",
      "           1       0.58      0.35      0.44      1548\n",
      "\n",
      "    accuracy                           0.81      7501\n",
      "   macro avg       0.71      0.64      0.66      7501\n",
      "weighted avg       0.79      0.81      0.79      7501\n",
      "\n",
      "Confusion matrix:\n",
      "[[5554  399]\n",
      " [1005  543]]\n"
     ]
    },
    {
     "data": {
      "image/png": "[encoded data removed]",
      "text/plain": [
       "<Figure size 576x432 with 1 Axes>"
      ]
     },
     "metadata": {
      "needs_background": "light"
     },
     "output_type": "display_data"
    },
    {
     "name": "stdout",
     "output_type": "stream",
     "text": [
      "Mean Absolute Error: 0.18717504332755633\n",
      "Mean Squared Error: 0.18717504332755633\n",
      "Root Mean Squared Error: 0.43263731152959556\n"
     ]
    }
   ],
   "source": [
    "#RandomForestClassifier\n",
    "from sklearn.ensemble import RandomForestClassifier\n",
    "rf = RandomForestClassifier(n_estimators=100, random_state=42)\n",
    "rf.fit(x_train, y_train)\n",
    "\n",
    "print(\"Accuracy on training set: {:.3f}\".format(rf.score(x_train, y_train)))\n",
    "print(\"Accuracy on test set: {:.3f}\".format(rf.score(x_test, y_test)))\n",
    "\n",
    "# Perform 5-fold cross-validation\n",
    "cv_scores = cross_val_score(rf, x_train, y_train, cv=5)\n",
    "# Print the cross-validation scores\n",
    "print(\"Cross-validation scores: \", cv_scores)\n",
    "print(\"Mean CV score: {:.3f}\".format(cv_scores.mean()))\n",
    "\n",
    "#Classification Report:\n",
    "# Predict on the test set\n",
    "y_pred = rf.predict(x_test)\n",
    "\n",
    "# Generate classification report\n",
    "report = classification_report(y_test, y_pred)\n",
    "\n",
    "print(\"Classification Report:\")\n",
    "print(report)\n",
    "\n",
    "# Generate confusion matrix\n",
    "cm = confusion_matrix(y_test, y_pred)\n",
    "print(\"Confusion matrix:\")\n",
    "print(cm)\n",
    "\n",
    "# Create a heatmap for visualization\n",
    "plt.figure(figsize=(8, 6))\n",
    "sns.heatmap(cm, annot=True, fmt=\"d\", cmap=\"Blues\", cbar=False)\n",
    "plt.xlabel(\"Predicted Labels\")\n",
    "plt.ylabel(\"True Labels\")\n",
    "plt.title(\"Confusion Matrix\")\n",
    "plt.show()\n",
    "\n",
    "# Evaluating the model:\n",
    "\n",
    "print('Mean Absolute Error:', metrics.mean_absolute_error(y_test, y_pred))  \n",
    "print('Mean Squared Error:', metrics.mean_squared_error(y_test, y_pred))  \n",
    "print('Root Mean Squared Error:', np.sqrt(metrics.mean_squared_error(y_test, y_pred))) \n"
   ]
  },
  {
   "cell_type": "code",
   "execution_count": 189,
   "id": "37e5eab8",
   "metadata": {},
   "outputs": [
    {
     "name": "stderr",
     "output_type": "stream",
     "text": [
      "C:\\Users\\Viji\\Anaconda3\\lib\\site-packages\\sklearn\\base.py:493: FutureWarning: The feature names should match those that were passed during fit. Starting version 1.2, an error will be raised.\n",
      "Feature names must be in the same order as they were in fit.\n",
      "\n",
      "  warnings.warn(message, FutureWarning)\n"
     ]
    }
   ],
   "source": [
    "prediction_of_probability = rf.predict_proba(x)"
   ]
  },
  {
   "cell_type": "code",
   "execution_count": 190,
   "id": "4f26b27c",
   "metadata": {},
   "outputs": [
    {
     "name": "stdout",
     "output_type": "stream",
     "text": [
      "Accuracy on training set: 0.821\n",
      "Accuracy on test set: 0.836\n",
      "Cross-validation scores:  [0.80111111 0.81444444 0.80711111 0.82866667 0.83129584]\n",
      "Mean CV score: 0.817\n",
      "Classification Report:\n",
      "              precision    recall  f1-score   support\n",
      "\n",
      "           0       0.85      0.96      0.90      5953\n",
      "           1       0.71      0.35      0.47      1548\n",
      "\n",
      "    accuracy                           0.84      7501\n",
      "   macro avg       0.78      0.65      0.68      7501\n",
      "weighted avg       0.82      0.84      0.81      7501\n",
      "\n",
      "Confusion matrix:\n",
      "[[5731  222]\n",
      " [1011  537]]\n"
     ]
    },
    {
     "data": {
      "image/png": "[encoded data removed]",
      "text/plain": [
       "<Figure size 576x432 with 1 Axes>"
      ]
     },
     "metadata": {
      "needs_background": "light"
     },
     "output_type": "display_data"
    },
    {
     "name": "stdout",
     "output_type": "stream",
     "text": [
      "Mean Absolute Error: 0.16437808292227704\n",
      "Mean Squared Error: 0.16437808292227704\n",
      "Root Mean Squared Error: 0.40543567051047325\n"
     ]
    }
   ],
   "source": [
    "###GradientBoostingClassifier\n",
    "from sklearn.ensemble import GradientBoostingClassifier\n",
    "gb = GradientBoostingClassifier(random_state=42)\n",
    "gb.fit(x_train, y_train)\n",
    "print(\"Accuracy on training set: {:.3f}\".format(gb.score(x_train, y_train)))\n",
    "print(\"Accuracy on test set: {:.3f}\".format(gb.score(x_test, y_test)))\n",
    "\n",
    "# Perform 5-fold cross-validation\n",
    "cv_scores = cross_val_score(gb, x_train, y_train, cv=5)\n",
    "# Print the cross-validation scores\n",
    "print(\"Cross-validation scores: \", cv_scores)\n",
    "print(\"Mean CV score: {:.3f}\".format(cv_scores.mean()))\n",
    "\n",
    "#Classification Report:\n",
    "# Predict on the test set\n",
    "y_pred = gb.predict(x_test)\n",
    "\n",
    "# Generate classification report\n",
    "report = classification_report(y_test, y_pred)\n",
    "\n",
    "print(\"Classification Report:\")\n",
    "print(report)\n",
    "\n",
    "# Generate confusion matrix\n",
    "cm = confusion_matrix(y_test, y_pred)\n",
    "print(\"Confusion matrix:\")\n",
    "print(cm)\n",
    "\n",
    "# Create a heatmap for visualization\n",
    "plt.figure(figsize=(8, 6))\n",
    "sns.heatmap(cm, annot=True, fmt=\"d\", cmap=\"Blues\", cbar=False)\n",
    "plt.xlabel(\"Predicted Labels\")\n",
    "plt.ylabel(\"True Labels\")\n",
    "plt.title(\"Confusion Matrix\")\n",
    "plt.show()\n",
    "\n",
    "# Evaluating the model:\n",
    "\n",
    "print('Mean Absolute Error:', metrics.mean_absolute_error(y_test, y_pred))  \n",
    "print('Mean Squared Error:', metrics.mean_squared_error(y_test, y_pred))  \n",
    "print('Root Mean Squared Error:', np.sqrt(metrics.mean_squared_error(y_test, y_pred))) "
   ]
  },
  {
   "cell_type": "code",
   "execution_count": 191,
   "id": "1de1b40b",
   "metadata": {},
   "outputs": [
    {
     "name": "stdout",
     "output_type": "stream",
     "text": [
      "Accuracy on training set: 0.814\n",
      "Accuracy on test set: 0.833\n",
      "Cross-validation scores:  [0.79911111 0.80955556 0.80733333 0.82533333 0.82484997]\n",
      "Mean CV score: 0.813\n",
      "Classification Report:\n",
      "              precision    recall  f1-score   support\n",
      "\n",
      "           0       0.84      0.97      0.90      5953\n",
      "           1       0.72      0.31      0.44      1548\n",
      "\n",
      "    accuracy                           0.83      7501\n",
      "   macro avg       0.78      0.64      0.67      7501\n",
      "weighted avg       0.82      0.83      0.81      7501\n",
      "\n",
      "Confusion matrix:\n",
      "[[5760  193]\n",
      " [1061  487]]\n"
     ]
    },
    {
     "data": {
      "image/png": "[encoded data removed]",
      "text/plain": [
       "<Figure size 576x432 with 1 Axes>"
      ]
     },
     "metadata": {
      "needs_background": "light"
     },
     "output_type": "display_data"
    },
    {
     "name": "stdout",
     "output_type": "stream",
     "text": [
      "Mean Absolute Error: 0.16717770963871484\n",
      "Mean Squared Error: 0.16717770963871484\n",
      "Root Mean Squared Error: 0.4088737086665207\n"
     ]
    }
   ],
   "source": [
    "#This is good, but let’s see if we can get better results by limiting the maximum depth:\n",
    "gb1 = GradientBoostingClassifier(max_depth=1, random_state=42)\n",
    "gb1.fit(x_train, y_train)\n",
    "print(\"Accuracy on training set: {:.3f}\".format(gb1.score(x_train, y_train)))\n",
    "print(\"Accuracy on test set: {:.3f}\".format(gb1.score(x_test, y_test)))\n",
    "\n",
    "# Perform 5-fold cross-validation\n",
    "cv_scores = cross_val_score(gb1, x_train, y_train, cv=5)\n",
    "# Print the cross-validation scores\n",
    "print(\"Cross-validation scores: \", cv_scores)\n",
    "print(\"Mean CV score: {:.3f}\".format(cv_scores.mean()))\n",
    "\n",
    "#Classification Report:\n",
    "# Predict on the test set\n",
    "y_pred = gb1.predict(x_test)\n",
    "\n",
    "# Generate classification report\n",
    "report = classification_report(y_test, y_pred)\n",
    "\n",
    "print(\"Classification Report:\")\n",
    "print(report)\n",
    "\n",
    "# Generate confusion matrix\n",
    "cm = confusion_matrix(y_test, y_pred)\n",
    "print(\"Confusion matrix:\")\n",
    "print(cm)\n",
    "\n",
    "# Create a heatmap for visualization\n",
    "plt.figure(figsize=(8, 6))\n",
    "sns.heatmap(cm, annot=True, fmt=\"d\", cmap=\"Blues\", cbar=False)\n",
    "plt.xlabel(\"Predicted Labels\")\n",
    "plt.ylabel(\"True Labels\")\n",
    "plt.title(\"Confusion Matrix\")\n",
    "plt.show()\n",
    "\n",
    "# Evaluating the model:\n",
    "\n",
    "print('Mean Absolute Error:', metrics.mean_absolute_error(y_test, y_pred))  \n",
    "print('Mean Squared Error:', metrics.mean_squared_error(y_test, y_pred))  \n",
    "print('Root Mean Squared Error:', np.sqrt(metrics.mean_squared_error(y_test, y_pred))) "
   ]
  },
  {
   "cell_type": "code",
   "execution_count": 192,
   "id": "512cd831",
   "metadata": {},
   "outputs": [
    {
     "name": "stdout",
     "output_type": "stream",
     "text": [
      "Accuracy on training set: 0.800\n",
      "Accuracy on test set: 0.817\n",
      "Cross-validation scores:  [0.80111111 0.81244444 0.80688889 0.81044444 0.80462325]\n",
      "Mean CV score: 0.807\n",
      "Classification Report:\n",
      "              precision    recall  f1-score   support\n",
      "\n",
      "           0       0.82      0.99      0.90      5953\n",
      "           1       0.80      0.15      0.26      1548\n",
      "\n",
      "    accuracy                           0.82      7501\n",
      "   macro avg       0.81      0.57      0.58      7501\n",
      "weighted avg       0.81      0.82      0.76      7501\n",
      "\n",
      "Confusion matrix:\n",
      "[[5893   60]\n",
      " [1312  236]]\n"
     ]
    },
    {
     "data": {
      "image/png": "[encoded data removed]",
      "text/plain": [
       "<Figure size 576x432 with 1 Axes>"
      ]
     },
     "metadata": {
      "needs_background": "light"
     },
     "output_type": "display_data"
    },
    {
     "name": "stdout",
     "output_type": "stream",
     "text": [
      "Mean Absolute Error: 0.1829089454739368\n",
      "Mean Squared Error: 0.1829089454739368\n",
      "Root Mean Squared Error: 0.42767855390928455\n"
     ]
    }
   ],
   "source": [
    "# Now, let’s see if we can get better results by lower the learning rate:\n",
    "gb2 = GradientBoostingClassifier(learning_rate=0.01,random_state=42)\n",
    "gb2.fit(x_train, y_train)\n",
    "print(\"Accuracy on training set: {:.3f}\".format(gb2.score(x_train, y_train)))\n",
    "print(\"Accuracy on test set: {:.3f}\".format(gb2.score(x_test, y_test)))\n",
    "\n",
    "# Perform 5-fold cross-validation\n",
    "cv_scores = cross_val_score(gb2, x_train, y_train, cv=5)\n",
    "# Print the cross-validation scores\n",
    "print(\"Cross-validation scores: \", cv_scores)\n",
    "print(\"Mean CV score: {:.3f}\".format(cv_scores.mean()))\n",
    "\n",
    "#Classification Report:\n",
    "# Predict on the test set\n",
    "y_pred = gb2.predict(x_test)\n",
    "\n",
    "# Generate classification report\n",
    "report = classification_report(y_test, y_pred)\n",
    "\n",
    "print(\"Classification Report:\")\n",
    "print(report)\n",
    "\n",
    "# Generate confusion matrix\n",
    "cm = confusion_matrix(y_test, y_pred)\n",
    "print(\"Confusion matrix:\")\n",
    "print(cm)\n",
    "\n",
    "# Create a heatmap for visualization\n",
    "plt.figure(figsize=(8, 6))\n",
    "sns.heatmap(cm, annot=True, fmt=\"d\", cmap=\"Blues\", cbar=False)\n",
    "plt.xlabel(\"Predicted Labels\")\n",
    "plt.ylabel(\"True Labels\")\n",
    "plt.title(\"Confusion Matrix\")\n",
    "plt.show()\n",
    "\n",
    "# Evaluating the model:\n",
    "\n",
    "print('Mean Absolute Error:', metrics.mean_absolute_error(y_test, y_pred))  \n",
    "print('Mean Squared Error:', metrics.mean_squared_error(y_test, y_pred))  \n",
    "print('Root Mean Squared Error:', np.sqrt(metrics.mean_squared_error(y_test, y_pred))) "
   ]
  },
  {
   "cell_type": "code",
   "execution_count": 193,
   "id": "0ada3027",
   "metadata": {},
   "outputs": [
    {
     "name": "stdout",
     "output_type": "stream",
     "text": [
      "Accuracy on training set: 0.82\n",
      "Accuracy on test set: 0.84\n",
      "Cross-validation scores:  [0.80311111 0.81111111 0.80666667 0.82755556 0.8308513 ]\n",
      "Mean CV score: 0.816\n",
      "Classification Report:\n",
      "              precision    recall  f1-score   support\n",
      "\n",
      "           0       0.85      0.96      0.90      5953\n",
      "           1       0.70      0.35      0.47      1548\n",
      "\n",
      "    accuracy                           0.84      7501\n",
      "   macro avg       0.78      0.66      0.69      7501\n",
      "weighted avg       0.82      0.84      0.81      7501\n",
      "\n",
      "Confusion matrix:\n",
      "[[5724  229]\n",
      " [1006  542]]\n"
     ]
    },
    {
     "data": {
      "image/png": "[encoded data removed]",
      "text/plain": [
       "<Figure size 576x432 with 1 Axes>"
      ]
     },
     "metadata": {
      "needs_background": "light"
     },
     "output_type": "display_data"
    },
    {
     "name": "stdout",
     "output_type": "stream",
     "text": [
      "Mean Absolute Error: 0.16464471403812825\n",
      "Mean Squared Error: 0.16464471403812825\n",
      "Root Mean Squared Error: 0.4057643577720057\n"
     ]
    }
   ],
   "source": [
    "#Support Vector Machine(SVC)\n",
    "from sklearn.svm import SVC\n",
    "svc1 = SVC(random_state=42)\n",
    "svc1.fit(x_train, y_train)\n",
    "print(\"Accuracy on training set: {:.2f}\".format(svc1.score(x_train, y_train)))\n",
    "print(\"Accuracy on test set: {:.2f}\".format(svc1.score(x_test, y_test)))\n",
    "\n",
    "# Perform 5-fold cross-validation\n",
    "cv_scores = cross_val_score(svc1, x_train, y_train, cv=5)\n",
    "# Print the cross-validation scores\n",
    "print(\"Cross-validation scores: \", cv_scores)\n",
    "print(\"Mean CV score: {:.3f}\".format(cv_scores.mean()))\n",
    "\n",
    "#Classification Report:\n",
    "# Predict on the test set\n",
    "y_pred = svc1.predict(x_test)\n",
    "\n",
    "# Generate classification report\n",
    "report = classification_report(y_test, y_pred)\n",
    "\n",
    "print(\"Classification Report:\")\n",
    "print(report)\n",
    "\n",
    "# Generate confusion matrix\n",
    "cm = confusion_matrix(y_test, y_pred)\n",
    "print(\"Confusion matrix:\")\n",
    "print(cm)\n",
    "\n",
    "# Create a heatmap for visualization\n",
    "plt.figure(figsize=(8, 6))\n",
    "sns.heatmap(cm, annot=True, fmt=\"d\", cmap=\"Blues\", cbar=False)\n",
    "plt.xlabel(\"Predicted Labels\")\n",
    "plt.ylabel(\"True Labels\")\n",
    "plt.title(\"Confusion Matrix\")\n",
    "plt.show()\n",
    "\n",
    "# Evaluating the model:\n",
    "\n",
    "print('Mean Absolute Error:', metrics.mean_absolute_error(y_test, y_pred))  \n",
    "print('Mean Squared Error:', metrics.mean_squared_error(y_test, y_pred))  \n",
    "print('Root Mean Squared Error:', np.sqrt(metrics.mean_squared_error(y_test, y_pred))) "
   ]
  },
  {
   "cell_type": "markdown",
   "id": "d3bab832",
   "metadata": {},
   "source": [
    "#The model doesn’t overfits but it has a poor score on the training set and only 59% accuracy on the test set.\n",
    "\n",
    "SVM requires all the features to vary on a similar scale. We will need to re-scale our data that all the features are approximately on the same scale:"
   ]
  },
  {
   "cell_type": "code",
   "execution_count": 195,
   "id": "580cdf78",
   "metadata": {},
   "outputs": [
    {
     "name": "stdout",
     "output_type": "stream",
     "text": [
      "Accuracy on training set: 0.82\n",
      "Accuracy on test set: 0.84\n",
      "Cross-validation scores:  [0.80311111 0.81111111 0.80666667 0.82755556 0.8308513 ]\n",
      "Mean CV score: 0.816\n"
     ]
    },
    {
     "name": "stderr",
     "output_type": "stream",
     "text": [
      "C:\\Users\\Viji\\Anaconda3\\lib\\site-packages\\sklearn\\base.py:443: UserWarning: X has feature names, but SVC was fitted without feature names\n",
      "  warnings.warn(\n"
     ]
    },
    {
     "name": "stdout",
     "output_type": "stream",
     "text": [
      "Classification Report:\n",
      "              precision    recall  f1-score   support\n",
      "\n",
      "           0       0.84      0.97      0.90      5953\n",
      "           1       0.72      0.31      0.43      1548\n",
      "\n",
      "    accuracy                           0.83      7501\n",
      "   macro avg       0.78      0.64      0.67      7501\n",
      "weighted avg       0.82      0.83      0.81      7501\n",
      "\n",
      "Confusion matrix:\n",
      "[[5768  185]\n",
      " [1069  479]]\n"
     ]
    },
    {
     "data": {
      "image/png": "[encoded data removed]",
      "text/plain": [
       "<Figure size 576x432 with 1 Axes>"
      ]
     },
     "metadata": {
      "needs_background": "light"
     },
     "output_type": "display_data"
    },
    {
     "name": "stdout",
     "output_type": "stream",
     "text": [
      "Mean Absolute Error: 0.16717770963871484\n",
      "Mean Squared Error: 0.16717770963871484\n",
      "Root Mean Squared Error: 0.4088737086665207\n"
     ]
    }
   ],
   "source": [
    "from sklearn.preprocessing import MinMaxScaler\n",
    "scaler = MinMaxScaler()\n",
    "x_train_scaled = scaler.fit_transform(x_train)\n",
    "x_test_scaled = scaler.fit_transform(x_test)\n",
    "svc2 = SVC(random_state=42)\n",
    "svc2.fit(x_train_scaled, y_train)\n",
    "print(\"Accuracy on training set: {:.2f}\".format(svc2.score(x_train_scaled, y_train)))\n",
    "print(\"Accuracy on test set: {:.2f}\".format(svc2.score(x_test_scaled, y_test)))\n",
    "\n",
    "# Perform 5-fold cross-validation\n",
    "cv_scores = cross_val_score(svc2, x_train, y_train, cv=5)\n",
    "# Print the cross-validation scores\n",
    "print(\"Cross-validation scores: \", cv_scores)\n",
    "print(\"Mean CV score: {:.3f}\".format(cv_scores.mean()))\n",
    "\n",
    "#Classification Report:\n",
    "# Predict on the test set\n",
    "y_pred = svc2.predict(x_test)\n",
    "\n",
    "# Generate classification report\n",
    "report = classification_report(y_test, y_pred)\n",
    "\n",
    "print(\"Classification Report:\")\n",
    "print(report)\n",
    "\n",
    "# Generate confusion matrix\n",
    "cm = confusion_matrix(y_test, y_pred)\n",
    "print(\"Confusion matrix:\")\n",
    "print(cm)\n",
    "\n",
    "# Create a heatmap for visualization\n",
    "plt.figure(figsize=(8, 6))\n",
    "sns.heatmap(cm, annot=True, fmt=\"d\", cmap=\"Blues\", cbar=False)\n",
    "plt.xlabel(\"Predicted Labels\")\n",
    "plt.ylabel(\"True Labels\")\n",
    "plt.title(\"Confusion Matrix\")\n",
    "plt.show()\n",
    "\n",
    "# Evaluating the model:\n",
    "\n",
    "print('Mean Absolute Error:', metrics.mean_absolute_error(y_test, y_pred))  \n",
    "print('Mean Squared Error:', metrics.mean_squared_error(y_test, y_pred))  \n",
    "print('Root Mean Squared Error:', np.sqrt(metrics.mean_squared_error(y_test, y_pred))) "
   ]
  },
  {
   "cell_type": "code",
   "execution_count": 196,
   "id": "29354e03",
   "metadata": {},
   "outputs": [
    {
     "name": "stdout",
     "output_type": "stream",
     "text": [
      "Accuracy of K-NN classifier on training set: 0.86\n",
      "Accuracy of K-NN classifier on test set: 0.80\n",
      "Cross-validation scores:  [0.774      0.776      0.77244444 0.78266667 0.78617471]\n",
      "Mean CV score: 0.778\n",
      "Classification Report:\n",
      "              precision    recall  f1-score   support\n",
      "\n",
      "           0       0.85      0.91      0.88      5953\n",
      "           1       0.52      0.38      0.44      1548\n",
      "\n",
      "    accuracy                           0.80      7501\n",
      "   macro avg       0.69      0.64      0.66      7501\n",
      "weighted avg       0.78      0.80      0.79      7501\n",
      "\n",
      "Confusion matrix:\n",
      "[[5422  531]\n",
      " [ 965  583]]\n"
     ]
    },
    {
     "data": {
      "image/png": "[encoded data removed]",
      "text/plain": [
       "<Figure size 576x432 with 1 Axes>"
      ]
     },
     "metadata": {
      "needs_background": "light"
     },
     "output_type": "display_data"
    },
    {
     "name": "stdout",
     "output_type": "stream",
     "text": [
      "Mean Absolute Error: 0.19944007465671243\n",
      "Mean Squared Error: 0.19944007465671243\n",
      "Root Mean Squared Error: 0.4465871411681179\n"
     ]
    }
   ],
   "source": [
    "#KNN\n",
    "from sklearn.neighbors import KNeighborsClassifier\n",
    "\n",
    "knn = KNeighborsClassifier(n_neighbors=3)\n",
    "knn.fit(x_train, y_train)\n",
    "print('Accuracy of K-NN classifier on training set: {:.2f}'.format(knn.score(x_train, y_train)))\n",
    "print('Accuracy of K-NN classifier on test set: {:.2f}'.format(knn.score(x_test, y_test)))\n",
    "\n",
    "# Perform 5-fold cross-validation\n",
    "cv_scores = cross_val_score(knn, x_train, y_train, cv=5)\n",
    "# Print the cross-validation scores\n",
    "print(\"Cross-validation scores: \", cv_scores)\n",
    "print(\"Mean CV score: {:.3f}\".format(cv_scores.mean()))\n",
    "\n",
    "#Classification Report:\n",
    "# Predict on the test set\n",
    "y_pred = knn.predict(x_test)\n",
    "\n",
    "# Generate classification report\n",
    "report = classification_report(y_test, y_pred)\n",
    "\n",
    "print(\"Classification Report:\")\n",
    "print(report)\n",
    "\n",
    "# Generate confusion matrix\n",
    "cm = confusion_matrix(y_test, y_pred)\n",
    "print(\"Confusion matrix:\")\n",
    "print(cm)\n",
    "\n",
    "# Create a heatmap for visualization\n",
    "plt.figure(figsize=(8, 6))\n",
    "sns.heatmap(cm, annot=True, fmt=\"d\", cmap=\"Blues\", cbar=False)\n",
    "plt.xlabel(\"Predicted Labels\")\n",
    "plt.ylabel(\"True Labels\")\n",
    "plt.title(\"Confusion Matrix\")\n",
    "plt.show()\n",
    "\n",
    "# Evaluating the model:\n",
    "\n",
    "print('Mean Absolute Error:', metrics.mean_absolute_error(y_test, y_pred))  \n",
    "print('Mean Squared Error:', metrics.mean_squared_error(y_test, y_pred))  \n",
    "print('Root Mean Squared Error:', np.sqrt(metrics.mean_squared_error(y_test, y_pred))) "
   ]
  },
  {
   "cell_type": "code",
   "execution_count": null,
   "id": "cfd5562e",
   "metadata": {},
   "outputs": [],
   "source": [
    "# transferring knowledge from the random forest probability:"
   ]
  },
  {
   "cell_type": "code",
   "execution_count": null,
   "id": "40999aa0",
   "metadata": {},
   "outputs": [],
   "source": [
    "# x = final_data_woe.drop(columns=['label'])\n",
    "# final_data_woe.shape"
   ]
  },
  {
   "cell_type": "markdown",
   "id": "5f7495d6",
   "metadata": {},
   "source": [
    "### Deep Learning:"
   ]
  },
  {
   "cell_type": "code",
   "execution_count": 197,
   "id": "811d813e",
   "metadata": {},
   "outputs": [
    {
     "name": "stderr",
     "output_type": "stream",
     "text": [
      "C:\\Users\\Viji\\Anaconda3\\lib\\site-packages\\sklearn\\neural_network\\_multilayer_perceptron.py:692: ConvergenceWarning: Stochastic Optimizer: Maximum iterations (200) reached and the optimization hasn't converged yet.\n",
      "  warnings.warn(\n"
     ]
    },
    {
     "name": "stdout",
     "output_type": "stream",
     "text": [
      "Accuracy on training set: 0.83\n",
      "Accuracy on test set: 0.83\n"
     ]
    },
    {
     "name": "stderr",
     "output_type": "stream",
     "text": [
      "C:\\Users\\Viji\\Anaconda3\\lib\\site-packages\\sklearn\\neural_network\\_multilayer_perceptron.py:692: ConvergenceWarning: Stochastic Optimizer: Maximum iterations (200) reached and the optimization hasn't converged yet.\n",
      "  warnings.warn(\n",
      "C:\\Users\\Viji\\Anaconda3\\lib\\site-packages\\sklearn\\neural_network\\_multilayer_perceptron.py:692: ConvergenceWarning: Stochastic Optimizer: Maximum iterations (200) reached and the optimization hasn't converged yet.\n",
      "  warnings.warn(\n",
      "C:\\Users\\Viji\\Anaconda3\\lib\\site-packages\\sklearn\\neural_network\\_multilayer_perceptron.py:692: ConvergenceWarning: Stochastic Optimizer: Maximum iterations (200) reached and the optimization hasn't converged yet.\n",
      "  warnings.warn(\n",
      "C:\\Users\\Viji\\Anaconda3\\lib\\site-packages\\sklearn\\neural_network\\_multilayer_perceptron.py:692: ConvergenceWarning: Stochastic Optimizer: Maximum iterations (200) reached and the optimization hasn't converged yet.\n",
      "  warnings.warn(\n",
      "C:\\Users\\Viji\\Anaconda3\\lib\\site-packages\\sklearn\\neural_network\\_multilayer_perceptron.py:692: ConvergenceWarning: Stochastic Optimizer: Maximum iterations (200) reached and the optimization hasn't converged yet.\n",
      "  warnings.warn(\n"
     ]
    },
    {
     "name": "stdout",
     "output_type": "stream",
     "text": [
      "Cross-validation scores:  [0.80044444 0.80822222 0.80333333 0.81755556 0.8261836 ]\n",
      "Mean CV score: 0.811\n",
      "Classification Report:\n",
      "              precision    recall  f1-score   support\n",
      "\n",
      "           0       0.85      0.96      0.90      5953\n",
      "           1       0.70      0.34      0.46      1548\n",
      "\n",
      "    accuracy                           0.83      7501\n",
      "   macro avg       0.77      0.65      0.68      7501\n",
      "weighted avg       0.82      0.83      0.81      7501\n",
      "\n",
      "Confusion matrix:\n",
      "[[5724  229]\n",
      " [1019  529]]\n"
     ]
    },
    {
     "data": {
      "image/png": "[encoded data removed]",
      "text/plain": [
       "<Figure size 576x432 with 1 Axes>"
      ]
     },
     "metadata": {
      "needs_background": "light"
     },
     "output_type": "display_data"
    },
    {
     "name": "stdout",
     "output_type": "stream",
     "text": [
      "Mean Absolute Error: 0.1663778162911612\n",
      "Mean Squared Error: 0.1663778162911612\n",
      "Root Mean Squared Error: 0.4078943690358586\n"
     ]
    }
   ],
   "source": [
    "#Multilayer perceptrons (MLP) \n",
    "\n",
    "from sklearn.neural_network import MLPClassifier\n",
    "mlp = MLPClassifier(random_state=42)\n",
    "mlp.fit(x_train, y_train)\n",
    "print(\"Accuracy on training set: {:.2f}\".format(mlp.score(x_train, y_train)))\n",
    "print(\"Accuracy on test set: {:.2f}\".format(mlp.score(x_test, y_test)))\n",
    "\n",
    "# Perform 5-fold cross-validation\n",
    "cv_scores = cross_val_score(mlp, x_train, y_train, cv=5)\n",
    "# Print the cross-validation scores\n",
    "print(\"Cross-validation scores: \", cv_scores)\n",
    "print(\"Mean CV score: {:.3f}\".format(cv_scores.mean()))\n",
    "\n",
    "#Classification Report:\n",
    "# Predict on the test set\n",
    "y_pred = mlp.predict(x_test)\n",
    "\n",
    "# Generate classification report\n",
    "report = classification_report(y_test, y_pred)\n",
    "\n",
    "print(\"Classification Report:\")\n",
    "print(report)\n",
    "\n",
    "# Generate confusion matrix\n",
    "cm = confusion_matrix(y_test, y_pred)\n",
    "print(\"Confusion matrix:\")\n",
    "print(cm)\n",
    "\n",
    "# Create a heatmap for visualization\n",
    "plt.figure(figsize=(8, 6))\n",
    "sns.heatmap(cm, annot=True, fmt=\"d\", cmap=\"Blues\", cbar=False)\n",
    "plt.xlabel(\"Predicted Labels\")\n",
    "plt.ylabel(\"True Labels\")\n",
    "plt.title(\"Confusion Matrix\")\n",
    "plt.show()\n",
    "\n",
    "# Evaluating the model:\n",
    "\n",
    "print('Mean Absolute Error:', metrics.mean_absolute_error(y_test, y_pred))  \n",
    "print('Mean Squared Error:', metrics.mean_squared_error(y_test, y_pred))  \n",
    "print('Root Mean Squared Error:', np.sqrt(metrics.mean_squared_error(y_test, y_pred))) "
   ]
  },
  {
   "cell_type": "markdown",
   "id": "f1411f31",
   "metadata": {},
   "source": [
    "#The accuracy of the Multilayer perceptrons (MLP) is worse than those of the other models. This is likely due to scaling of the data. Deep learning algorithms expect all input features to vary in a similar way, and ideally to have a mean of 0, and a variance of 1. We must re-scale our data so that it fulfills these requirements."
   ]
  },
  {
   "cell_type": "code",
   "execution_count": 198,
   "id": "3e4f9a0b",
   "metadata": {},
   "outputs": [
    {
     "name": "stderr",
     "output_type": "stream",
     "text": [
      "C:\\Users\\Viji\\Anaconda3\\lib\\site-packages\\sklearn\\neural_network\\_multilayer_perceptron.py:692: ConvergenceWarning: Stochastic Optimizer: Maximum iterations (200) reached and the optimization hasn't converged yet.\n",
      "  warnings.warn(\n"
     ]
    },
    {
     "name": "stdout",
     "output_type": "stream",
     "text": [
      "Accuracy on training set: 0.837\n",
      "Accuracy on test set: 0.828\n"
     ]
    },
    {
     "name": "stderr",
     "output_type": "stream",
     "text": [
      "C:\\Users\\Viji\\Anaconda3\\lib\\site-packages\\sklearn\\neural_network\\_multilayer_perceptron.py:692: ConvergenceWarning: Stochastic Optimizer: Maximum iterations (200) reached and the optimization hasn't converged yet.\n",
      "  warnings.warn(\n",
      "C:\\Users\\Viji\\Anaconda3\\lib\\site-packages\\sklearn\\neural_network\\_multilayer_perceptron.py:692: ConvergenceWarning: Stochastic Optimizer: Maximum iterations (200) reached and the optimization hasn't converged yet.\n",
      "  warnings.warn(\n",
      "C:\\Users\\Viji\\Anaconda3\\lib\\site-packages\\sklearn\\neural_network\\_multilayer_perceptron.py:692: ConvergenceWarning: Stochastic Optimizer: Maximum iterations (200) reached and the optimization hasn't converged yet.\n",
      "  warnings.warn(\n",
      "C:\\Users\\Viji\\Anaconda3\\lib\\site-packages\\sklearn\\neural_network\\_multilayer_perceptron.py:692: ConvergenceWarning: Stochastic Optimizer: Maximum iterations (200) reached and the optimization hasn't converged yet.\n",
      "  warnings.warn(\n"
     ]
    },
    {
     "name": "stdout",
     "output_type": "stream",
     "text": [
      "Cross-validation scores:  [0.80044444 0.80822222 0.80333333 0.81755556 0.8261836 ]\n",
      "Mean CV score: 0.811\n",
      "Classification Report:\n",
      "              precision    recall  f1-score   support\n",
      "\n",
      "           0       0.85      0.95      0.90      5953\n",
      "           1       0.64      0.34      0.44      1548\n",
      "\n",
      "    accuracy                           0.82      7501\n",
      "   macro avg       0.74      0.64      0.67      7501\n",
      "weighted avg       0.80      0.82      0.80      7501\n",
      "\n",
      "Confusion matrix:\n",
      "[[5659  294]\n",
      " [1027  521]]\n"
     ]
    },
    {
     "name": "stderr",
     "output_type": "stream",
     "text": [
      "C:\\Users\\Viji\\Anaconda3\\lib\\site-packages\\sklearn\\neural_network\\_multilayer_perceptron.py:692: ConvergenceWarning: Stochastic Optimizer: Maximum iterations (200) reached and the optimization hasn't converged yet.\n",
      "  warnings.warn(\n",
      "C:\\Users\\Viji\\Anaconda3\\lib\\site-packages\\sklearn\\base.py:443: UserWarning: X has feature names, but MLPClassifier was fitted without feature names\n",
      "  warnings.warn(\n"
     ]
    },
    {
     "data": {
      "image/png": "[encoded data removed]",
      "text/plain": [
       "<Figure size 576x432 with 1 Axes>"
      ]
     },
     "metadata": {
      "needs_background": "light"
     },
     "output_type": "display_data"
    },
    {
     "name": "stdout",
     "output_type": "stream",
     "text": [
      "Mean Absolute Error: 0.1761098520197307\n",
      "Mean Squared Error: 0.1761098520197307\n",
      "Root Mean Squared Error: 0.41965444358392145\n"
     ]
    }
   ],
   "source": [
    "from sklearn.preprocessing import StandardScaler\n",
    "scaler = StandardScaler()\n",
    "x_train_scaled = scaler.fit_transform(x_train)\n",
    "x_test_scaled = scaler.fit_transform(x_test)\n",
    "mlp1 = MLPClassifier(random_state=42)\n",
    "mlp1.fit(x_train_scaled, y_train)\n",
    "print(\"Accuracy on training set: {:.3f}\".format(mlp1.score(x_train_scaled, y_train)))\n",
    "print(\"Accuracy on test set: {:.3f}\".format(mlp1.score(x_test_scaled, y_test)))\n",
    "\n",
    "# Perform 5-fold cross-validation\n",
    "cv_scores = cross_val_score(mlp1, x_train, y_train, cv=5)\n",
    "# Print the cross-validation scores\n",
    "print(\"Cross-validation scores: \", cv_scores)\n",
    "print(\"Mean CV score: {:.3f}\".format(cv_scores.mean()))\n",
    "\n",
    "#Classification Report:\n",
    "# Predict on the test set\n",
    "y_pred = mlp1.predict(x_test)\n",
    "\n",
    "# Generate classification report\n",
    "report = classification_report(y_test, y_pred)\n",
    "\n",
    "print(\"Classification Report:\")\n",
    "print(report)\n",
    "\n",
    "# Generate confusion matrix\n",
    "cm = confusion_matrix(y_test, y_pred)\n",
    "print(\"Confusion matrix:\")\n",
    "print(cm)\n",
    "\n",
    "# Create a heatmap for visualization\n",
    "plt.figure(figsize=(8, 6))\n",
    "sns.heatmap(cm, annot=True, fmt=\"d\", cmap=\"Blues\", cbar=False)\n",
    "plt.xlabel(\"Predicted Labels\")\n",
    "plt.ylabel(\"True Labels\")\n",
    "plt.title(\"Confusion Matrix\")\n",
    "plt.show()\n",
    "\n",
    "# Evaluating the model:\n",
    "\n",
    "print('Mean Absolute Error:', metrics.mean_absolute_error(y_test, y_pred))  \n",
    "print('Mean Squared Error:', metrics.mean_squared_error(y_test, y_pred))  \n",
    "print('Root Mean Squared Error:', np.sqrt(metrics.mean_squared_error(y_test, y_pred))) "
   ]
  },
  {
   "cell_type": "code",
   "execution_count": 199,
   "id": "5037926a",
   "metadata": {},
   "outputs": [
    {
     "name": "stdout",
     "output_type": "stream",
     "text": [
      "Accuracy on training set: 0.842\n",
      "Accuracy on test set: 0.824\n",
      "Cross-validation scores:  [0.79488889 0.80555556 0.79844444 0.81444444 0.82329407]\n",
      "Mean CV score: 0.807\n",
      "Classification Report:\n",
      "              precision    recall  f1-score   support\n",
      "\n",
      "           0       0.85      0.91      0.88      5953\n",
      "           1       0.53      0.40      0.45      1548\n",
      "\n",
      "    accuracy                           0.80      7501\n",
      "   macro avg       0.69      0.65      0.67      7501\n",
      "weighted avg       0.79      0.80      0.79      7501\n",
      "\n",
      "Confusion matrix:\n",
      "[[5395  558]\n",
      " [ 928  620]]\n"
     ]
    },
    {
     "name": "stderr",
     "output_type": "stream",
     "text": [
      "C:\\Users\\Viji\\Anaconda3\\lib\\site-packages\\sklearn\\base.py:443: UserWarning: X has feature names, but MLPClassifier was fitted without feature names\n",
      "  warnings.warn(\n"
     ]
    },
    {
     "data": {
      "image/png": "[encoded data removed]",
      "text/plain": [
       "<Figure size 576x432 with 1 Axes>"
      ]
     },
     "metadata": {
      "needs_background": "light"
     },
     "output_type": "display_data"
    },
    {
     "name": "stdout",
     "output_type": "stream",
     "text": [
      "Mean Absolute Error: 0.19810691907745634\n",
      "Mean Squared Error: 0.19810691907745634\n",
      "Root Mean Squared Error: 0.44509203439003076\n"
     ]
    }
   ],
   "source": [
    "#Let’s increase the number of iterations:\n",
    "\n",
    "mlp2 = MLPClassifier(max_iter=1000, random_state=42)\n",
    "mlp2.fit(x_train_scaled, y_train)\n",
    "print(\"Accuracy on training set: {:.3f}\".format(mlp2.score(x_train_scaled, y_train)))\n",
    "print(\"Accuracy on test set: {:.3f}\".format(mlp2.score(x_test_scaled, y_test)))\n",
    "\n",
    "# Perform 5-fold cross-validation\n",
    "cv_scores = cross_val_score(mlp2, x_train, y_train, cv=5)\n",
    "# Print the cross-validation scores\n",
    "print(\"Cross-validation scores: \", cv_scores)\n",
    "print(\"Mean CV score: {:.3f}\".format(cv_scores.mean()))\n",
    "\n",
    "#Classification Report:\n",
    "# Predict on the test set\n",
    "y_pred = mlp2.predict(x_test)\n",
    "\n",
    "# Generate classification report\n",
    "report = classification_report(y_test, y_pred)\n",
    "\n",
    "print(\"Classification Report:\")\n",
    "print(report)\n",
    "\n",
    "# Generate confusion matrix\n",
    "cm = confusion_matrix(y_test, y_pred)\n",
    "print(\"Confusion matrix:\")\n",
    "print(cm)\n",
    "\n",
    "# Create a heatmap for visualization\n",
    "plt.figure(figsize=(8, 6))\n",
    "sns.heatmap(cm, annot=True, fmt=\"d\", cmap=\"Blues\", cbar=False)\n",
    "plt.xlabel(\"Predicted Labels\")\n",
    "plt.ylabel(\"True Labels\")\n",
    "plt.title(\"Confusion Matrix\")\n",
    "plt.show()\n",
    "\n",
    "# Evaluating the model:\n",
    "\n",
    "print('Mean Absolute Error:', metrics.mean_absolute_error(y_test, y_pred))  \n",
    "print('Mean Squared Error:', metrics.mean_squared_error(y_test, y_pred))  \n",
    "print('Root Mean Squared Error:', np.sqrt(metrics.mean_squared_error(y_test, y_pred))) "
   ]
  },
  {
   "cell_type": "markdown",
   "id": "7b2086bb",
   "metadata": {},
   "source": [
    "#Increasing the number of iterations didn’t change anything.\n",
    "\n",
    "#Let’s increase the alpha parameter and add stronger regularization of the weights:"
   ]
  },
  {
   "cell_type": "code",
   "execution_count": 200,
   "id": "0c1f3611",
   "metadata": {},
   "outputs": [
    {
     "name": "stdout",
     "output_type": "stream",
     "text": [
      "Accuracy on training set: 0.816\n",
      "Accuracy on test set: 0.837\n",
      "Cross-validation scores:  [0.80111111 0.80911111 0.80777778 0.82533333 0.82729495]\n",
      "Mean CV score: 0.814\n",
      "Classification Report:\n",
      "              precision    recall  f1-score   support\n",
      "\n",
      "           0       0.83      0.98      0.90      5953\n",
      "           1       0.75      0.25      0.38      1548\n",
      "\n",
      "    accuracy                           0.83      7501\n",
      "   macro avg       0.79      0.61      0.64      7501\n",
      "weighted avg       0.82      0.83      0.79      7501\n",
      "\n",
      "Confusion matrix:\n",
      "[[5822  131]\n",
      " [1160  388]]\n"
     ]
    },
    {
     "name": "stderr",
     "output_type": "stream",
     "text": [
      "C:\\Users\\Viji\\Anaconda3\\lib\\site-packages\\sklearn\\base.py:443: UserWarning: X has feature names, but MLPClassifier was fitted without feature names\n",
      "  warnings.warn(\n"
     ]
    },
    {
     "data": {
      "image/png": "[encoded data removed]",
      "text/plain": [
       "<Figure size 576x432 with 1 Axes>"
      ]
     },
     "metadata": {
      "needs_background": "light"
     },
     "output_type": "display_data"
    },
    {
     "name": "stdout",
     "output_type": "stream",
     "text": [
      "Mean Absolute Error: 0.1721103852819624\n",
      "Mean Squared Error: 0.1721103852819624\n",
      "Root Mean Squared Error: 0.41486188699609705\n"
     ]
    }
   ],
   "source": [
    "mlp3 = MLPClassifier(max_iter=1000, alpha=1, random_state=42)\n",
    "mlp3.fit(x_train_scaled, y_train)\n",
    "print(\"Accuracy on training set: {:.3f}\".format(mlp3.score(x_train_scaled, y_train)))\n",
    "print(\"Accuracy on test set: {:.3f}\".format(mlp3.score(x_test_scaled, y_test)))\n",
    "\n",
    "# Perform 5-fold cross-validation\n",
    "cv_scores = cross_val_score(mlp3, x_train, y_train, cv=5)\n",
    "# Print the cross-validation scores\n",
    "print(\"Cross-validation scores: \", cv_scores)\n",
    "print(\"Mean CV score: {:.3f}\".format(cv_scores.mean()))\n",
    "\n",
    "#Classification Report:\n",
    "# Predict on the test set\n",
    "y_pred = mlp3.predict(x_test)\n",
    "\n",
    "# Generate classification report\n",
    "report = classification_report(y_test, y_pred)\n",
    "\n",
    "print(\"Classification Report:\")\n",
    "print(report)\n",
    "\n",
    "# Generate confusion matrix\n",
    "cm = confusion_matrix(y_test, y_pred)\n",
    "print(\"Confusion matrix:\")\n",
    "print(cm)\n",
    "\n",
    "# Create a heatmap for visualization\n",
    "plt.figure(figsize=(8, 6))\n",
    "sns.heatmap(cm, annot=True, fmt=\"d\", cmap=\"Blues\", cbar=False)\n",
    "plt.xlabel(\"Predicted Labels\")\n",
    "plt.ylabel(\"True Labels\")\n",
    "plt.title(\"Confusion Matrix\")\n",
    "plt.show()\n",
    "\n",
    "# Evaluating the model:\n",
    "\n",
    "print('Mean Absolute Error:', metrics.mean_absolute_error(y_test, y_pred))  \n",
    "print('Mean Squared Error:', metrics.mean_squared_error(y_test, y_pred))  \n",
    "print('Root Mean Squared Error:', np.sqrt(metrics.mean_squared_error(y_test, y_pred))) "
   ]
  },
  {
   "cell_type": "markdown",
   "id": "4100a357",
   "metadata": {},
   "source": [
    "#The result is good, but we reduced the test set accuracy a little bit.\n",
    "\n",
    "#Therefore, our best model so far is default deep learning model after scaling."
   ]
  },
  {
   "cell_type": "code",
   "execution_count": 90,
   "id": "7b533da6",
   "metadata": {},
   "outputs": [
    {
     "data": {
      "text/html": [
       "<div>\n",
       "<style scoped>\n",
       "    .dataframe tbody tr th:only-of-type {\n",
       "        vertical-align: middle;\n",
       "    }\n",
       "\n",
       "    .dataframe tbody tr th {\n",
       "        vertical-align: top;\n",
       "    }\n",
       "\n",
       "    .dataframe thead th {\n",
       "        text-align: right;\n",
       "    }\n",
       "</style>\n",
       "<table border=\"1\" class=\"dataframe\">\n",
       "  <thead>\n",
       "    <tr style=\"text-align: right;\">\n",
       "      <th></th>\n",
       "      <th>Algorithms</th>\n",
       "      <th>Tests Accuracy</th>\n",
       "    </tr>\n",
       "  </thead>\n",
       "  <tbody>\n",
       "    <tr>\n",
       "      <th>12</th>\n",
       "      <td>DL_MLP_alpha_parameter</td>\n",
       "      <td>0.836688</td>\n",
       "    </tr>\n",
       "    <tr>\n",
       "      <th>4</th>\n",
       "      <td>GaussianNB</td>\n",
       "      <td>0.835622</td>\n",
       "    </tr>\n",
       "    <tr>\n",
       "      <th>7</th>\n",
       "      <td>Support Vector Machine</td>\n",
       "      <td>0.835355</td>\n",
       "    </tr>\n",
       "    <tr>\n",
       "      <th>1</th>\n",
       "      <td>Logistic Regression</td>\n",
       "      <td>0.834955</td>\n",
       "    </tr>\n",
       "    <tr>\n",
       "      <th>9</th>\n",
       "      <td>DL-MLP</td>\n",
       "      <td>0.833622</td>\n",
       "    </tr>\n",
       "    <tr>\n",
       "      <th>5</th>\n",
       "      <td>GaussianNB Max depth</td>\n",
       "      <td>0.832822</td>\n",
       "    </tr>\n",
       "    <tr>\n",
       "      <th>10</th>\n",
       "      <td>DL-MLPScalar</td>\n",
       "      <td>0.828423</td>\n",
       "    </tr>\n",
       "    <tr>\n",
       "      <th>11</th>\n",
       "      <td>DL_MLP_incr_Iteration</td>\n",
       "      <td>0.824157</td>\n",
       "    </tr>\n",
       "    <tr>\n",
       "      <th>6</th>\n",
       "      <td>GaussianNB Low Length rate</td>\n",
       "      <td>0.817091</td>\n",
       "    </tr>\n",
       "    <tr>\n",
       "      <th>3</th>\n",
       "      <td>Random Forest</td>\n",
       "      <td>0.812825</td>\n",
       "    </tr>\n",
       "    <tr>\n",
       "      <th>0</th>\n",
       "      <td>k-Nearest Neighbors</td>\n",
       "      <td>0.800560</td>\n",
       "    </tr>\n",
       "    <tr>\n",
       "      <th>8</th>\n",
       "      <td>SVM minmaxscaler</td>\n",
       "      <td>0.793894</td>\n",
       "    </tr>\n",
       "    <tr>\n",
       "      <th>2</th>\n",
       "      <td>Decision Trees</td>\n",
       "      <td>0.746700</td>\n",
       "    </tr>\n",
       "  </tbody>\n",
       "</table>\n",
       "</div>"
      ],
      "text/plain": [
       "                    Algorithms  Tests Accuracy\n",
       "12      DL_MLP_alpha_parameter        0.836688\n",
       "4                   GaussianNB        0.835622\n",
       "7       Support Vector Machine        0.835355\n",
       "1          Logistic Regression        0.834955\n",
       "9                       DL-MLP        0.833622\n",
       "5         GaussianNB Max depth        0.832822\n",
       "10                DL-MLPScalar        0.828423\n",
       "11       DL_MLP_incr_Iteration        0.824157\n",
       "6   GaussianNB Low Length rate        0.817091\n",
       "3                Random Forest        0.812825\n",
       "0          k-Nearest Neighbors        0.800560\n",
       "8             SVM minmaxscaler        0.793894\n",
       "2               Decision Trees        0.746700"
      ]
     },
     "execution_count": 90,
     "metadata": {},
     "output_type": "execute_result"
    }
   ],
   "source": [
    "#Comparing the algorithms performance\n",
    "\n",
    "algorithms = ['k-Nearest Neighbors','Logistic Regression', 'Decision Trees', 'Random Forest',\n",
    " 'GradiantBoosting','GradiantBoosting Max depth','GradiantBoosting Learning rate', 'Support Vector Machine','SVM minmaxscaler','DL-MLP',\n",
    "              'DL-MLPScalar','DL_MLP_incr_Iteration','DL_MLP_alpha_parameter']\n",
    "tests_accuracy = [knn.score(x_test, y_test), logreg.score(x_test, y_test), tree1.score(x_test, y_test),\n",
    " rf.score(x_test, y_test), gb.score(x_test, y_test),gb1.score(x_test, y_test),gb2.score(x_test, y_test),svc1.score(x_test, y_test),\n",
    "svc2.score(x_test_scaled, y_test),mlp.score(x_test, y_test),mlp1.score(x_test_scaled, y_test),mlp2.score(x_test_scaled, \n",
    "y_test),mlp3.score(x_test_scaled, y_test),\n",
    "]\n",
    "\n",
    "\n",
    "compare_algorithms = pd.DataFrame({ \"Algorithms\": algorithms, \"Tests Accuracy\": tests_accuracy })\n",
    "compare_algorithms.sort_values(by = \"Tests Accuracy\", ascending = False)"
   ]
  },
  {
   "cell_type": "code",
   "execution_count": 91,
   "id": "9231fcab",
   "metadata": {},
   "outputs": [
    {
     "data": {
      "image/png": "[encoded data removed]",
      "text/plain": [
       "<Figure size 576x576 with 1 Axes>"
      ]
     },
     "metadata": {
      "needs_background": "light"
     },
     "output_type": "display_data"
    }
   ],
   "source": [
    "import matplotlib.pyplot as plt\n",
    "%matplotlib inline\n",
    "plt.figure(figsize=(8,8))\n",
    "sns.barplot(x = \"Tests Accuracy\", y = \"Algorithms\", data = compare_algorithms)\n",
    "plt.show()"
   ]
  },
  {
   "cell_type": "markdown",
   "id": "e5956b35",
   "metadata": {},
   "source": [
    "###Knowledge Distillation"
   ]
  },
  {
   "cell_type": "code",
   "execution_count": 92,
   "id": "361a62b9",
   "metadata": {},
   "outputs": [
    {
     "data": {
      "text/plain": [
       "<bound method NDFrame.head of       LIMIT_BAL  EDUCATION       AGE     PAY_0     PAY_2     PAY_3     PAY_4  \\\n",
       "0      0.666522   0.088429  0.260065  2.019269  1.459809 -0.311239 -0.253727   \n",
       "1     -0.034630   0.088429 -0.100163 -0.575364  1.459809 -0.311239 -0.253727   \n",
       "2      0.108342   0.088429 -0.028816 -0.575364 -0.378340 -0.311239 -0.253727   \n",
       "3      0.200392   0.088429 -0.028816 -0.575364 -0.378340 -0.311239 -0.253727   \n",
       "4      0.200392   0.088429  0.156679 -0.575364 -0.378340 -0.311239 -0.253727   \n",
       "...         ...        ...       ...       ...       ...       ...       ...   \n",
       "7496  -0.280994   0.088429 -0.028816 -0.575364 -0.378340 -0.311239 -0.253727   \n",
       "7497  -0.280994   0.088429 -0.028816 -0.575364 -0.378340 -0.311239 -0.253727   \n",
       "7498   0.666522   0.088429 -0.028816  2.019269  1.459809  1.305413 -0.253727   \n",
       "7499   0.108342   0.088429 -0.028816  0.583884 -0.378340 -0.311239 -0.253727   \n",
       "7500   0.200392   0.088429  0.156679 -0.575364 -0.378340 -0.311239 -0.253727   \n",
       "\n",
       "         PAY_5     PAY_6  BILL_AMT1  ...  BILL_AMT4  BILL_AMT5  BILL_AMT6  \\\n",
       "0    -0.232378 -0.215037  -0.024371  ...   0.028510  -0.006521  -0.034304   \n",
       "1    -0.232378  1.282840  -0.024371  ...  -0.009858  -0.239312  -0.034304   \n",
       "2    -0.232378 -0.215037  -0.024371  ...  -0.009858   0.140562  -0.034304   \n",
       "3    -0.232378 -0.215037  -0.024371  ...  -0.009858   0.140562   0.162615   \n",
       "4    -0.232378 -0.215037  -0.024371  ...  -0.009858   0.140562  -0.034304   \n",
       "...        ...       ...        ...  ...        ...        ...        ...   \n",
       "7496 -0.232378 -0.215037  -0.024371  ...  -0.009858   0.140562  -0.034304   \n",
       "7497 -0.232378 -0.215037   0.085432  ...  -0.009858  -0.239312  -0.034304   \n",
       "7498 -0.232378 -0.215037  -0.024371  ...  -0.009858   0.140562   0.162615   \n",
       "7499 -0.232378 -0.215037   0.085432  ...  -0.009858   0.140562   0.162615   \n",
       "7500 -0.232378 -0.215037  -0.024371  ...  -0.009858   0.140562  -0.034304   \n",
       "\n",
       "      PAY_AMT1  PAY_AMT2  PAY_AMT3  PAY_AMT4  PAY_AMT5  PAY_AMT6  prob_1  \n",
       "0     0.662394  0.124160  0.488183  0.454327  0.370272  0.343887     0.3  \n",
       "1     0.662394  0.124160  0.016060  0.056501  0.370272 -0.082401     0.3  \n",
       "2    -0.009085  0.124160  0.016060  0.056501  0.084926 -0.391360     0.1  \n",
       "3    -0.009085 -0.076846  0.016060  0.056501  0.084926 -0.119586     0.2  \n",
       "4    -0.009085 -1.078550 -0.372758 -0.457199  0.084926  0.257636     0.2  \n",
       "...        ...       ...       ...       ...       ...       ...     ...  \n",
       "7496 -0.585644 -1.078550 -0.372758 -0.106759 -0.188927 -0.119586     0.1  \n",
       "7497 -0.009085 -0.076846 -0.372758  0.056501  0.370272  0.343887     0.2  \n",
       "7498  0.662394  0.544728 -0.372758 -0.457199 -0.188927 -0.082401     0.3  \n",
       "7499 -0.585644 -0.076846  0.016060 -0.106759 -0.704351 -0.082401     0.2  \n",
       "7500 -0.009085 -0.076846  0.016060  0.056501  0.084926 -0.119586     0.2  \n",
       "\n",
       "[30000 rows x 22 columns]>"
      ]
     },
     "execution_count": 92,
     "metadata": {},
     "output_type": "execute_result"
    }
   ],
   "source": [
    "bin_classes = [0.1,0.2,0.3,0.4,0.5,0.6,0.7,0.8,0.9,1.0]\n",
    "\n",
    "\n",
    "bins = [0.0, 0.1,0.2,0.3,0.4,0.5,0.6,0.7,0.8,0.9,1.0]\n",
    "\n",
    "\n",
    "x['prob_0'] = pd.cut(prediction_of_probability[:,0],bins,labels=bin_classes, include_lowest=True)\n",
    "\n",
    "\n",
    "x['prob_1'] = pd.cut(prediction_of_probability[:,1],bins,labels=bin_classes, include_lowest=True)\n",
    "x1=x.drop(columns=\"prob_0\",axis=1).head(30000)\n",
    "x1.head\n"
   ]
  },
  {
   "cell_type": "markdown",
   "id": "80ef34b2",
   "metadata": {},
   "source": [
    "###After Knowledge Distillation:"
   ]
  },
  {
   "cell_type": "code",
   "execution_count": 93,
   "id": "9c5b2db9",
   "metadata": {},
   "outputs": [],
   "source": [
    "# after transferred the knowledge from\n",
    "KY=final_data_woe['label']\n",
    "KX=x1"
   ]
  },
  {
   "cell_type": "code",
   "execution_count": 94,
   "id": "cc387b89",
   "metadata": {},
   "outputs": [
    {
     "data": {
      "text/plain": [
       "(30000, 22)"
      ]
     },
     "execution_count": 94,
     "metadata": {},
     "output_type": "execute_result"
    }
   ],
   "source": [
    "KX.shape"
   ]
  },
  {
   "cell_type": "code",
   "execution_count": 95,
   "id": "aef0509e",
   "metadata": {},
   "outputs": [],
   "source": [
    "from sklearn.model_selection import train_test_split\n",
    "x_train1,x_test1,y_train1,y_test1 = train_test_split(KX,KY,test_size=0.25,random_state=0)"
   ]
  },
  {
   "cell_type": "code",
   "execution_count": 201,
   "id": "c8b72df0",
   "metadata": {},
   "outputs": [
    {
     "name": "stdout",
     "output_type": "stream",
     "text": [
      "Training set score: 0.818\n",
      "Test set score: 0.820\n",
      "Cross-validation scores:  [0.8        0.80955556 0.808      0.82311111 0.8261836 ]\n",
      "Mean CV score: 0.813\n"
     ]
    },
    {
     "name": "stderr",
     "output_type": "stream",
     "text": [
      "C:\\Users\\Viji\\Anaconda3\\lib\\site-packages\\sklearn\\base.py:493: FutureWarning: The feature names should match those that were passed during fit. Starting version 1.2, an error will be raised.\n",
      "Feature names seen at fit time, yet now missing:\n",
      "- prob_1\n",
      "\n",
      "  warnings.warn(message, FutureWarning)\n"
     ]
    },
    {
     "ename": "ValueError",
     "evalue": "X has 21 features, but LogisticRegression is expecting 22 features as input.",
     "output_type": "error",
     "traceback": [
      "\u001b[1;31m---------------------------------------------------------------------------\u001b[0m",
      "\u001b[1;31mValueError\u001b[0m                                Traceback (most recent call last)",
      "Input \u001b[1;32mIn [201]\u001b[0m, in \u001b[0;36m<cell line: 15>\u001b[1;34m()\u001b[0m\n\u001b[0;32m     11\u001b[0m \u001b[38;5;28mprint\u001b[39m(\u001b[38;5;124m\"\u001b[39m\u001b[38;5;124mMean CV score: \u001b[39m\u001b[38;5;132;01m{:.3f}\u001b[39;00m\u001b[38;5;124m\"\u001b[39m\u001b[38;5;241m.\u001b[39mformat(cv_scores\u001b[38;5;241m.\u001b[39mmean()))\n\u001b[0;32m     13\u001b[0m \u001b[38;5;66;03m#Classification Report:\u001b[39;00m\n\u001b[0;32m     14\u001b[0m \u001b[38;5;66;03m# Predict on the test set\u001b[39;00m\n\u001b[1;32m---> 15\u001b[0m y_pred \u001b[38;5;241m=\u001b[39m \u001b[43mklogreg\u001b[49m\u001b[38;5;241;43m.\u001b[39;49m\u001b[43mpredict\u001b[49m\u001b[43m(\u001b[49m\u001b[43mx_test\u001b[49m\u001b[43m)\u001b[49m\n\u001b[0;32m     17\u001b[0m \u001b[38;5;66;03m# Generate classification report\u001b[39;00m\n\u001b[0;32m     18\u001b[0m report \u001b[38;5;241m=\u001b[39m classification_report(y_test, y_pred)\n",
      "File \u001b[1;32m~\\Anaconda3\\lib\\site-packages\\sklearn\\linear_model\\_base.py:425\u001b[0m, in \u001b[0;36mLinearClassifierMixin.predict\u001b[1;34m(self, X)\u001b[0m\n\u001b[0;32m    411\u001b[0m \u001b[38;5;28;01mdef\u001b[39;00m \u001b[38;5;21mpredict\u001b[39m(\u001b[38;5;28mself\u001b[39m, X):\n\u001b[0;32m    412\u001b[0m     \u001b[38;5;124;03m\"\"\"\u001b[39;00m\n\u001b[0;32m    413\u001b[0m \u001b[38;5;124;03m    Predict class labels for samples in X.\u001b[39;00m\n\u001b[0;32m    414\u001b[0m \n\u001b[1;32m   (...)\u001b[0m\n\u001b[0;32m    423\u001b[0m \u001b[38;5;124;03m        Vector containing the class labels for each sample.\u001b[39;00m\n\u001b[0;32m    424\u001b[0m \u001b[38;5;124;03m    \"\"\"\u001b[39;00m\n\u001b[1;32m--> 425\u001b[0m     scores \u001b[38;5;241m=\u001b[39m \u001b[38;5;28;43mself\u001b[39;49m\u001b[38;5;241;43m.\u001b[39;49m\u001b[43mdecision_function\u001b[49m\u001b[43m(\u001b[49m\u001b[43mX\u001b[49m\u001b[43m)\u001b[49m\n\u001b[0;32m    426\u001b[0m     \u001b[38;5;28;01mif\u001b[39;00m \u001b[38;5;28mlen\u001b[39m(scores\u001b[38;5;241m.\u001b[39mshape) \u001b[38;5;241m==\u001b[39m \u001b[38;5;241m1\u001b[39m:\n\u001b[0;32m    427\u001b[0m         indices \u001b[38;5;241m=\u001b[39m (scores \u001b[38;5;241m>\u001b[39m \u001b[38;5;241m0\u001b[39m)\u001b[38;5;241m.\u001b[39mastype(\u001b[38;5;28mint\u001b[39m)\n",
      "File \u001b[1;32m~\\Anaconda3\\lib\\site-packages\\sklearn\\linear_model\\_base.py:407\u001b[0m, in \u001b[0;36mLinearClassifierMixin.decision_function\u001b[1;34m(self, X)\u001b[0m\n\u001b[0;32m    387\u001b[0m \u001b[38;5;124;03m\"\"\"\u001b[39;00m\n\u001b[0;32m    388\u001b[0m \u001b[38;5;124;03mPredict confidence scores for samples.\u001b[39;00m\n\u001b[0;32m    389\u001b[0m \n\u001b[1;32m   (...)\u001b[0m\n\u001b[0;32m    403\u001b[0m \u001b[38;5;124;03m    this class would be predicted.\u001b[39;00m\n\u001b[0;32m    404\u001b[0m \u001b[38;5;124;03m\"\"\"\u001b[39;00m\n\u001b[0;32m    405\u001b[0m check_is_fitted(\u001b[38;5;28mself\u001b[39m)\n\u001b[1;32m--> 407\u001b[0m X \u001b[38;5;241m=\u001b[39m \u001b[38;5;28;43mself\u001b[39;49m\u001b[38;5;241;43m.\u001b[39;49m\u001b[43m_validate_data\u001b[49m\u001b[43m(\u001b[49m\u001b[43mX\u001b[49m\u001b[43m,\u001b[49m\u001b[43m \u001b[49m\u001b[43maccept_sparse\u001b[49m\u001b[38;5;241;43m=\u001b[39;49m\u001b[38;5;124;43m\"\u001b[39;49m\u001b[38;5;124;43mcsr\u001b[39;49m\u001b[38;5;124;43m\"\u001b[39;49m\u001b[43m,\u001b[49m\u001b[43m \u001b[49m\u001b[43mreset\u001b[49m\u001b[38;5;241;43m=\u001b[39;49m\u001b[38;5;28;43;01mFalse\u001b[39;49;00m\u001b[43m)\u001b[49m\n\u001b[0;32m    408\u001b[0m scores \u001b[38;5;241m=\u001b[39m safe_sparse_dot(X, \u001b[38;5;28mself\u001b[39m\u001b[38;5;241m.\u001b[39mcoef_\u001b[38;5;241m.\u001b[39mT, dense_output\u001b[38;5;241m=\u001b[39m\u001b[38;5;28;01mTrue\u001b[39;00m) \u001b[38;5;241m+\u001b[39m \u001b[38;5;28mself\u001b[39m\u001b[38;5;241m.\u001b[39mintercept_\n\u001b[0;32m    409\u001b[0m \u001b[38;5;28;01mreturn\u001b[39;00m scores\u001b[38;5;241m.\u001b[39mravel() \u001b[38;5;28;01mif\u001b[39;00m scores\u001b[38;5;241m.\u001b[39mshape[\u001b[38;5;241m1\u001b[39m] \u001b[38;5;241m==\u001b[39m \u001b[38;5;241m1\u001b[39m \u001b[38;5;28;01melse\u001b[39;00m scores\n",
      "File \u001b[1;32m~\\Anaconda3\\lib\\site-packages\\sklearn\\base.py:585\u001b[0m, in \u001b[0;36mBaseEstimator._validate_data\u001b[1;34m(self, X, y, reset, validate_separately, **check_params)\u001b[0m\n\u001b[0;32m    582\u001b[0m     out \u001b[38;5;241m=\u001b[39m X, y\n\u001b[0;32m    584\u001b[0m \u001b[38;5;28;01mif\u001b[39;00m \u001b[38;5;129;01mnot\u001b[39;00m no_val_X \u001b[38;5;129;01mand\u001b[39;00m check_params\u001b[38;5;241m.\u001b[39mget(\u001b[38;5;124m\"\u001b[39m\u001b[38;5;124mensure_2d\u001b[39m\u001b[38;5;124m\"\u001b[39m, \u001b[38;5;28;01mTrue\u001b[39;00m):\n\u001b[1;32m--> 585\u001b[0m     \u001b[38;5;28;43mself\u001b[39;49m\u001b[38;5;241;43m.\u001b[39;49m\u001b[43m_check_n_features\u001b[49m\u001b[43m(\u001b[49m\u001b[43mX\u001b[49m\u001b[43m,\u001b[49m\u001b[43m \u001b[49m\u001b[43mreset\u001b[49m\u001b[38;5;241;43m=\u001b[39;49m\u001b[43mreset\u001b[49m\u001b[43m)\u001b[49m\n\u001b[0;32m    587\u001b[0m \u001b[38;5;28;01mreturn\u001b[39;00m out\n",
      "File \u001b[1;32m~\\Anaconda3\\lib\\site-packages\\sklearn\\base.py:400\u001b[0m, in \u001b[0;36mBaseEstimator._check_n_features\u001b[1;34m(self, X, reset)\u001b[0m\n\u001b[0;32m    397\u001b[0m     \u001b[38;5;28;01mreturn\u001b[39;00m\n\u001b[0;32m    399\u001b[0m \u001b[38;5;28;01mif\u001b[39;00m n_features \u001b[38;5;241m!=\u001b[39m \u001b[38;5;28mself\u001b[39m\u001b[38;5;241m.\u001b[39mn_features_in_:\n\u001b[1;32m--> 400\u001b[0m     \u001b[38;5;28;01mraise\u001b[39;00m \u001b[38;5;167;01mValueError\u001b[39;00m(\n\u001b[0;32m    401\u001b[0m         \u001b[38;5;124mf\u001b[39m\u001b[38;5;124m\"\u001b[39m\u001b[38;5;124mX has \u001b[39m\u001b[38;5;132;01m{\u001b[39;00mn_features\u001b[38;5;132;01m}\u001b[39;00m\u001b[38;5;124m features, but \u001b[39m\u001b[38;5;132;01m{\u001b[39;00m\u001b[38;5;28mself\u001b[39m\u001b[38;5;241m.\u001b[39m\u001b[38;5;18m__class__\u001b[39m\u001b[38;5;241m.\u001b[39m\u001b[38;5;18m__name__\u001b[39m\u001b[38;5;132;01m}\u001b[39;00m\u001b[38;5;124m \u001b[39m\u001b[38;5;124m\"\u001b[39m\n\u001b[0;32m    402\u001b[0m         \u001b[38;5;124mf\u001b[39m\u001b[38;5;124m\"\u001b[39m\u001b[38;5;124mis expecting \u001b[39m\u001b[38;5;132;01m{\u001b[39;00m\u001b[38;5;28mself\u001b[39m\u001b[38;5;241m.\u001b[39mn_features_in_\u001b[38;5;132;01m}\u001b[39;00m\u001b[38;5;124m features as input.\u001b[39m\u001b[38;5;124m\"\u001b[39m\n\u001b[0;32m    403\u001b[0m     )\n",
      "\u001b[1;31mValueError\u001b[0m: X has 21 features, but LogisticRegression is expecting 22 features as input."
     ]
    }
   ],
   "source": [
    "\n",
    "#Logestic Regression\n",
    "from sklearn.linear_model import LogisticRegression\n",
    "klogreg = LogisticRegression(random_state=42).fit(x_train1, y_train1)\n",
    "print(\"Training set score: {:.3f}\".format(klogreg.score(x_train1, y_train1)))\n",
    "print(\"Test set score: {:.3f}\".format(klogreg.score(x_test1, y_test1)))\n",
    "\n",
    "# Perform 5-fold cross-validation\n",
    "cv_scores = cross_val_score(klogreg, x_train, y_train, cv=5)\n",
    "# Print the cross-validation scores\n",
    "print(\"Cross-validation scores: \", cv_scores)\n",
    "print(\"Mean CV score: {:.3f}\".format(cv_scores.mean()))\n",
    "\n",
    "#Classification Report:\n",
    "# Predict on the test set\n",
    "y_pred = klogreg.predict(x_test)\n",
    "\n",
    "# Generate classification report\n",
    "report = classification_report(y_test, y_pred)\n",
    "\n",
    "print(\"Classification Report:\")\n",
    "print(report)\n",
    "\n",
    "# Generate confusion matrix\n",
    "cm = confusion_matrix(y_test, y_pred)\n",
    "print(\"Confusion matrix:\")\n",
    "print(cm)\n",
    "\n",
    "# Create a heatmap for visualization\n",
    "plt.figure(figsize=(8, 6))\n",
    "sns.heatmap(cm, annot=True, fmt=\"d\", cmap=\"Blues\", cbar=False)\n",
    "plt.xlabel(\"Predicted Labels\")\n",
    "plt.ylabel(\"True Labels\")\n",
    "plt.title(\"Confusion Matrix\")\n",
    "plt.show()\n",
    "\n",
    "# Evaluating the model:\n",
    "\n",
    "print('Mean Absolute Error:', metrics.mean_absolute_error(y_test, y_pred))  \n",
    "print('Mean Squared Error:', metrics.mean_squared_error(y_test, y_pred))  \n",
    "print('Root Mean Squared Error:', np.sqrt(metrics.mean_squared_error(y_test, y_pred))) "
   ]
  },
  {
   "cell_type": "code",
   "execution_count": null,
   "id": "3fe37f02",
   "metadata": {},
   "outputs": [],
   "source": [
    "#DecisionTreeClassifier\n",
    "from sklearn.tree import DecisionTreeClassifier\n",
    "ktree = DecisionTreeClassifier(random_state=42)\n",
    "ktree.fit(x_train1, y_train1)\n",
    "print(\"Accuracy on training set: {:.3f}\".format(ktree.score(x_train1, y_train1)))\n",
    "print(\"Accuracy on test set: {:.3f}\".format(ktree.score(x_test1, y_test1)))\n",
    "\n",
    "# Perform 5-fold cross-validation\n",
    "cv_scores = cross_val_score(ktree, x_train, y_train, cv=5)\n",
    "# Print the cross-validation scores\n",
    "print(\"Cross-validation scores: \", cv_scores)\n",
    "print(\"Mean CV score: {:.3f}\".format(cv_scores.mean()))\n",
    "\n",
    "#Classification Report:\n",
    "# Predict on the test set\n",
    "y_pred = ktree.predict(x_test)\n",
    "\n",
    "# Generate classification report\n",
    "report = classification_report(y_test, y_pred)\n",
    "\n",
    "print(\"Classification Report:\")\n",
    "print(report)\n",
    "\n",
    "# Generate confusion matrix\n",
    "cm = confusion_matrix(y_test, y_pred)\n",
    "print(\"Confusion matrix:\")\n",
    "print(cm)\n",
    "\n",
    "# Create a heatmap for visualization\n",
    "plt.figure(figsize=(8, 6))\n",
    "sns.heatmap(cm, annot=True, fmt=\"d\", cmap=\"Blues\", cbar=False)\n",
    "plt.xlabel(\"Predicted Labels\")\n",
    "plt.ylabel(\"True Labels\")\n",
    "plt.title(\"Confusion Matrix\")\n",
    "plt.show()\n",
    "\n",
    "# Evaluating the model:\n",
    "\n",
    "print('Mean Absolute Error:', metrics.mean_absolute_error(y_test, y_pred))  \n",
    "print('Mean Squared Error:', metrics.mean_squared_error(y_test, y_pred))  \n",
    "print('Root Mean Squared Error:', np.sqrt(metrics.mean_squared_error(y_test, y_pred))) "
   ]
  },
  {
   "cell_type": "code",
   "execution_count": null,
   "id": "5912a141",
   "metadata": {},
   "outputs": [],
   "source": [
    "#RandomForestClassifier\n",
    "from sklearn.ensemble import RandomForestClassifier\n",
    "krf = RandomForestClassifier(n_estimators=100, random_state=42)\n",
    "krf.fit(x_train1, y_train1)\n",
    "# prediction_of_probability = rf.predict_proba(x)\n",
    "print(\"Accuracy on training set: {:.3f}\".format(krf.score(x_train1, y_train1)))\n",
    "print(\"Accuracy on test set: {:.3f}\".format(krf.score(x_test1, y_test1)))\n",
    "\n",
    "# Perform 5-fold cross-validation\n",
    "cv_scores = cross_val_score(krf, x_train, y_train, cv=5)\n",
    "# Print the cross-validation scores\n",
    "print(\"Cross-validation scores: \", cv_scores)\n",
    "print(\"Mean CV score: {:.3f}\".format(cv_scores.mean()))\n",
    "\n",
    "#Classification Report:\n",
    "# Predict on the test set\n",
    "y_pred = krf.predict(x_test)\n",
    "\n",
    "# Generate classification report\n",
    "report = classification_report(y_test, y_pred)\n",
    "\n",
    "print(\"Classification Report:\")\n",
    "print(report)\n",
    "\n",
    "# Generate confusion matrix\n",
    "cm = confusion_matrix(y_test, y_pred)\n",
    "print(\"Confusion matrix:\")\n",
    "print(cm)\n",
    "\n",
    "# Create a heatmap for visualization\n",
    "plt.figure(figsize=(8, 6))\n",
    "sns.heatmap(cm, annot=True, fmt=\"d\", cmap=\"Blues\", cbar=False)\n",
    "plt.xlabel(\"Predicted Labels\")\n",
    "plt.ylabel(\"True Labels\")\n",
    "plt.title(\"Confusion Matrix\")\n",
    "plt.show()\n",
    "\n",
    "# Evaluating the model:\n",
    "\n",
    "print('Mean Absolute Error:', metrics.mean_absolute_error(y_test, y_pred))  \n",
    "print('Mean Squared Error:', metrics.mean_squared_error(y_test, y_pred))  \n",
    "print('Root Mean Squared Error:', np.sqrt(metrics.mean_squared_error(y_test, y_pred))) "
   ]
  },
  {
   "cell_type": "code",
   "execution_count": null,
   "id": "8a99f92f",
   "metadata": {},
   "outputs": [],
   "source": [
    "###GradientBoostingClassifier\n",
    "from sklearn.ensemble import GradientBoostingClassifier\n",
    "kgb = GradientBoostingClassifier(random_state=42)\n",
    "kgb.fit(x_train1, y_train1)\n",
    "print(\"Accuracy on training set: {:.3f}\".format(kgb.score(x_train1, y_train1)))\n",
    "print(\"Accuracy on test set: {:.3f}\".format(kgb.score(x_test1, y_test1)))\n",
    "\n",
    "# Perform 5-fold cross-validation\n",
    "cv_scores = cross_val_score(kgb, x_train, y_train, cv=5)\n",
    "# Print the cross-validation scores\n",
    "print(\"Cross-validation scores: \", cv_scores)\n",
    "print(\"Mean CV score: {:.3f}\".format(cv_scores.mean()))\n",
    "\n",
    "#Classification Report:\n",
    "# Predict on the test set\n",
    "y_pred = kgb.predict(x_test)\n",
    "\n",
    "# Generate classification report\n",
    "report = classification_report(y_test, y_pred)\n",
    "\n",
    "print(\"Classification Report:\")\n",
    "print(report)\n",
    "\n",
    "# Generate confusion matrix\n",
    "cm = confusion_matrix(y_test, y_pred)\n",
    "print(\"Confusion matrix:\")\n",
    "print(cm)\n",
    "\n",
    "# Create a heatmap for visualization\n",
    "plt.figure(figsize=(8, 6))\n",
    "sns.heatmap(cm, annot=True, fmt=\"d\", cmap=\"Blues\", cbar=False)\n",
    "plt.xlabel(\"Predicted Labels\")\n",
    "plt.ylabel(\"True Labels\")\n",
    "plt.title(\"Confusion Matrix\")\n",
    "plt.show()\n",
    "\n",
    "# Evaluating the model:\n",
    "\n",
    "print('Mean Absolute Error:', metrics.mean_absolute_error(y_test, y_pred))  \n",
    "print('Mean Squared Error:', metrics.mean_squared_error(y_test, y_pred))  \n",
    "print('Root Mean Squared Error:', np.sqrt(metrics.mean_squared_error(y_test, y_pred))) "
   ]
  },
  {
   "cell_type": "code",
   "execution_count": null,
   "id": "54293589",
   "metadata": {},
   "outputs": [],
   "source": [
    "#This is good, but let’s see if we can get better results by limiting the maximum depth:\n",
    "kgb1 = GradientBoostingClassifier(max_depth=1, random_state=42)\n",
    "kgb1.fit(x_train1, y_train1)\n",
    "print(\"Accuracy on training set: {:.3f}\".format(kgb1.score(x_train1, y_train1)))\n",
    "print(\"Accuracy on test set: {:.3f}\".format(kgb1.score(x_test1, y_test1)))\n",
    "\n",
    "# Perform 5-fold cross-validation\n",
    "cv_scores = cross_val_score(kgb1, x_train, y_train, cv=5)\n",
    "# Print the cross-validation scores\n",
    "print(\"Cross-validation scores: \", cv_scores)\n",
    "print(\"Mean CV score: {:.3f}\".format(cv_scores.mean()))\n",
    "\n",
    "#Classification Report:\n",
    "# Predict on the test set\n",
    "y_pred = kgb1.predict(x_test)\n",
    "\n",
    "# Generate classification report\n",
    "report = classification_report(y_test, y_pred)\n",
    "\n",
    "print(\"Classification Report:\")\n",
    "print(report)\n",
    "\n",
    "# Generate confusion matrix\n",
    "cm = confusion_matrix(y_test, y_pred)\n",
    "print(\"Confusion matrix:\")\n",
    "print(cm)\n",
    "\n",
    "# Create a heatmap for visualization\n",
    "plt.figure(figsize=(8, 6))\n",
    "sns.heatmap(cm, annot=True, fmt=\"d\", cmap=\"Blues\", cbar=False)\n",
    "plt.xlabel(\"Predicted Labels\")\n",
    "plt.ylabel(\"True Labels\")\n",
    "plt.title(\"Confusion Matrix\")\n",
    "plt.show()\n",
    "\n",
    "# Evaluating the model:\n",
    "\n",
    "print('Mean Absolute Error:', metrics.mean_absolute_error(y_test, y_pred))  \n",
    "print('Mean Squared Error:', metrics.mean_squared_error(y_test, y_pred))  \n",
    "print('Root Mean Squared Error:', np.sqrt(metrics.mean_squared_error(y_test, y_pred))) "
   ]
  },
  {
   "cell_type": "code",
   "execution_count": null,
   "id": "13e7213b",
   "metadata": {},
   "outputs": [],
   "source": [
    "# Now, let’s see if we can get better results by lower the learning rate:\n",
    "kgb2 = GradientBoostingClassifier(learning_rate=0.01,random_state=42)\n",
    "kgb2.fit(x_train1, y_train1)\n",
    "print(\"Accuracy on training set: {:.3f}\".format(kgb2.score(x_train1, y_train1)))\n",
    "print(\"Accuracy on test set: {:.3f}\".format(kgb2.score(x_test1, y_test1))) \n",
    "\n",
    "# Perform 5-fold cross-validation\n",
    "cv_scores = cross_val_score(kgb2, x_train, y_train, cv=5)\n",
    "# Print the cross-validation scores\n",
    "print(\"Cross-validation scores: \", cv_scores)\n",
    "print(\"Mean CV score: {:.3f}\".format(cv_scores.mean()))\n",
    "\n",
    "#Classification Report:\n",
    "# Predict on the test set\n",
    "y_pred = kgb2.predict(x_test)\n",
    "\n",
    "# Generate classification report\n",
    "report = classification_report(y_test, y_pred)\n",
    "\n",
    "print(\"Classification Report:\")\n",
    "print(report)\n",
    "\n",
    "# Generate confusion matrix\n",
    "cm = confusion_matrix(y_test, y_pred)\n",
    "print(\"Confusion matrix:\")\n",
    "print(cm)\n",
    "\n",
    "# Create a heatmap for visualization\n",
    "plt.figure(figsize=(8, 6))\n",
    "sns.heatmap(cm, annot=True, fmt=\"d\", cmap=\"Blues\", cbar=False)\n",
    "plt.xlabel(\"Predicted Labels\")\n",
    "plt.ylabel(\"True Labels\")\n",
    "plt.title(\"Confusion Matrix\")\n",
    "plt.show()\n",
    "\n",
    "# Evaluating the model:\n",
    "\n",
    "print('Mean Absolute Error:', metrics.mean_absolute_error(y_test, y_pred))  \n",
    "print('Mean Squared Error:', metrics.mean_squared_error(y_test, y_pred))  \n",
    "print('Root Mean Squared Error:', np.sqrt(metrics.mean_squared_error(y_test, y_pred))) "
   ]
  },
  {
   "cell_type": "code",
   "execution_count": null,
   "id": "fbfb9a6c",
   "metadata": {},
   "outputs": [],
   "source": [
    "#Support Vector Machine(SVC)\n",
    "from sklearn.svm import SVC\n",
    "ksvc = SVC(random_state=42)\n",
    "ksvc.fit(x_train1, y_train1)\n",
    "print(\"Accuracy on training set: {:.2f}\".format(ksvc.score(x_train1, y_train1)))\n",
    "print(\"Accuracy on test set: {:.2f}\".format(ksvc.score(x_test1, y_test1)))\n",
    "\n",
    "\n",
    "# Perform 5-fold cross-validation\n",
    "cv_scores = cross_val_score(ksvc, x_train, y_train, cv=5)\n",
    "# Print the cross-validation scores\n",
    "print(\"Cross-validation scores: \", cv_scores)\n",
    "print(\"Mean CV score: {:.3f}\".format(cv_scores.mean()))\n",
    "\n",
    "#Classification Report:\n",
    "# Predict on the test set\n",
    "y_pred = ksvc.predict(x_test)\n",
    "\n",
    "# Generate classification report\n",
    "report = classification_report(y_test, y_pred)\n",
    "\n",
    "print(\"Classification Report:\")\n",
    "print(report)\n",
    "\n",
    "# Generate confusion matrix\n",
    "cm = confusion_matrix(y_test, y_pred)\n",
    "print(\"Confusion matrix:\")\n",
    "print(cm)\n",
    "\n",
    "# Create a heatmap for visualization\n",
    "plt.figure(figsize=(8, 6))\n",
    "sns.heatmap(cm, annot=True, fmt=\"d\", cmap=\"Blues\", cbar=False)\n",
    "plt.xlabel(\"Predicted Labels\")\n",
    "plt.ylabel(\"True Labels\")\n",
    "plt.title(\"Confusion Matrix\")\n",
    "plt.show()\n",
    "\n",
    "# Evaluating the model:\n",
    "\n",
    "print('Mean Absolute Error:', metrics.mean_absolute_error(y_test, y_pred))  \n",
    "print('Mean Squared Error:', metrics.mean_squared_error(y_test, y_pred))  \n",
    "print('Root Mean Squared Error:', np.sqrt(metrics.mean_squared_error(y_test, y_pred)))"
   ]
  },
  {
   "cell_type": "code",
   "execution_count": null,
   "id": "700509c9",
   "metadata": {},
   "outputs": [],
   "source": [
    "from sklearn.preprocessing import MinMaxScaler\n",
    "scaler = MinMaxScaler()\n",
    "kx_train_scaled = scaler.fit_transform(x_train1)\n",
    "kx_test_scaled = scaler.fit_transform(x_test1)\n",
    "ksvc1 = SVC(random_state=42)\n",
    "ksvc1.fit(kx_train_scaled, y_train1)\n",
    "print(\"Accuracy on training set: {:.2f}\".format(ksvc1.score(kx_train_scaled, y_train1)))\n",
    "print(\"Accuracy on test set: {:.2f}\".format(ksvc1.score(kx_test_scaled, y_test1)))\n",
    "\n",
    "# Perform 5-fold cross-validation\n",
    "cv_scores = cross_val_score(ksvc1, x_train, y_train, cv=5)\n",
    "# Print the cross-validation scores\n",
    "print(\"Cross-validation scores: \", cv_scores)\n",
    "print(\"Mean CV score: {:.3f}\".format(cv_scores.mean()))\n",
    "\n",
    "#Classification Report:\n",
    "# Predict on the test set\n",
    "y_pred = ksvc1.predict(x_test)\n",
    "\n",
    "# Generate classification report\n",
    "report = classification_report(y_test, y_pred)\n",
    "\n",
    "print(\"Classification Report:\")\n",
    "print(report)\n",
    "\n",
    "# Generate confusion matrix\n",
    "cm = confusion_matrix(y_test, y_pred)\n",
    "print(\"Confusion matrix:\")\n",
    "print(cm)\n",
    "\n",
    "# Create a heatmap for visualization\n",
    "plt.figure(figsize=(8, 6))\n",
    "sns.heatmap(cm, annot=True, fmt=\"d\", cmap=\"Blues\", cbar=False)\n",
    "plt.xlabel(\"Predicted Labels\")\n",
    "plt.ylabel(\"True Labels\")\n",
    "plt.title(\"Confusion Matrix\")\n",
    "plt.show()\n",
    "\n",
    "# Evaluating the model:\n",
    "\n",
    "print('Mean Absolute Error:', metrics.mean_absolute_error(y_test, y_pred))  \n",
    "print('Mean Squared Error:', metrics.mean_squared_error(y_test, y_pred))  \n",
    "print('Root Mean Squared Error:', np.sqrt(metrics.mean_squared_error(y_test, y_pred)))"
   ]
  },
  {
   "cell_type": "code",
   "execution_count": null,
   "id": "c58279ce",
   "metadata": {},
   "outputs": [],
   "source": [
    "#KNN\n",
    "from sklearn.neighbors import KNeighborsClassifier\n",
    "\n",
    "kknn = KNeighborsClassifier(n_neighbors=3)\n",
    "kknn.fit(x_train1, y_train1)\n",
    "print('Accuracy of K-NN classifier on training set: {:.2f}'.format(kknn.score(x_train1, y_train1)))\n",
    "print('Accuracy of K-NN classifier on test set: {:.2f}'.format(kknn.score(x_test1, y_test1)))\n",
    "\n",
    "# Perform 5-fold cross-validation\n",
    "cv_scores = cross_val_score(kknn, x_train, y_train, cv=5)\n",
    "# Print the cross-validation scores\n",
    "print(\"Cross-validation scores: \", cv_scores)\n",
    "print(\"Mean CV score: {:.3f}\".format(cv_scores.mean()))\n",
    "\n",
    "#Classification Report:\n",
    "# Predict on the test set\n",
    "y_pred = kknn.predict(x_test)\n",
    "\n",
    "# Generate classification report\n",
    "report = classification_report(y_test, y_pred)\n",
    "\n",
    "print(\"Classification Report:\")\n",
    "print(report)\n",
    "\n",
    "# Generate confusion matrix\n",
    "cm = confusion_matrix(y_test, y_pred)\n",
    "print(\"Confusion matrix:\")\n",
    "print(cm)\n",
    "\n",
    "# Create a heatmap for visualization\n",
    "plt.figure(figsize=(8, 6))\n",
    "sns.heatmap(cm, annot=True, fmt=\"d\", cmap=\"Blues\", cbar=False)\n",
    "plt.xlabel(\"Predicted Labels\")\n",
    "plt.ylabel(\"True Labels\")\n",
    "plt.title(\"Confusion Matrix\")\n",
    "plt.show()\n",
    "\n",
    "# Evaluating the model:\n",
    "\n",
    "print('Mean Absolute Error:', metrics.mean_absolute_error(y_test, y_pred))  \n",
    "print('Mean Squared Error:', metrics.mean_squared_error(y_test, y_pred))  \n",
    "print('Root Mean Squared Error:', np.sqrt(metrics.mean_squared_error(y_test, y_pred)))"
   ]
  },
  {
   "cell_type": "code",
   "execution_count": null,
   "id": "39a3bde3",
   "metadata": {},
   "outputs": [],
   "source": [
    "#Multilayer perceptrons (MLP) \n",
    "\n",
    "from sklearn.neural_network import MLPClassifier\n",
    "kmlp1 = MLPClassifier(random_state=42)\n",
    "kmlp1.fit(x_train1, y_train1)\n",
    "print(\"Accuracy on training set: {:.2f}\".format(kmlp1.score(x_train1, y_train1)))\n",
    "print(\"Accuracy on test set: {:.2f}\".format(kmlp1.score(x_test1, y_test1)))\n",
    "\n",
    "# Perform 5-fold cross-validation\n",
    "cv_scores = cross_val_score(kmlp1, x_train, y_train, cv=5)\n",
    "# Print the cross-validation scores\n",
    "print(\"Cross-validation scores: \", cv_scores)\n",
    "print(\"Mean CV score: {:.3f}\".format(cv_scores.mean()))\n",
    "\n",
    "#Classification Report:\n",
    "# Predict on the test set\n",
    "y_pred = kmlp1.predict(x_test)\n",
    "\n",
    "# Generate classification report\n",
    "report = classification_report(y_test, y_pred)\n",
    "\n",
    "print(\"Classification Report:\")\n",
    "print(report)\n",
    "\n",
    "# Generate confusion matrix\n",
    "cm = confusion_matrix(y_test, y_pred)\n",
    "print(\"Confusion matrix:\")\n",
    "print(cm)\n",
    "\n",
    "# Create a heatmap for visualization\n",
    "plt.figure(figsize=(8, 6))\n",
    "sns.heatmap(cm, annot=True, fmt=\"d\", cmap=\"Blues\", cbar=False)\n",
    "plt.xlabel(\"Predicted Labels\")\n",
    "plt.ylabel(\"True Labels\")\n",
    "plt.title(\"Confusion Matrix\")\n",
    "plt.show()\n",
    "\n",
    "# Evaluating the model:\n",
    "\n",
    "print('Mean Absolute Error:', metrics.mean_absolute_error(y_test, y_pred))  \n",
    "print('Mean Squared Error:', metrics.mean_squared_error(y_test, y_pred))  \n",
    "print('Root Mean Squared Error:', np.sqrt(metrics.mean_squared_error(y_test, y_pred)))"
   ]
  },
  {
   "cell_type": "code",
   "execution_count": null,
   "id": "1eedfab9",
   "metadata": {},
   "outputs": [],
   "source": [
    "from sklearn.preprocessing import StandardScaler\n",
    "scaler = StandardScaler()\n",
    "x1_train_scaled = scaler.fit_transform(x_train1)\n",
    "x1_test_scaled = scaler.fit_transform(x_test1)\n",
    "kmlp2 = MLPClassifier(random_state=42)\n",
    "kmlp2.fit(x1_train_scaled, y_train1)\n",
    "print(\"Accuracy on training set: {:.3f}\".format(kmlp2.score(x1_train_scaled, y_train1)))\n",
    "print(\"Accuracy on test set: {:.3f}\".format(kmlp2.score(x1_test_scaled, y_test1)))\n",
    "\n",
    "# Perform 5-fold cross-validation\n",
    "cv_scores = cross_val_score(kmlp2, x_train, y_train, cv=5)\n",
    "# Print the cross-validation scores\n",
    "print(\"Cross-validation scores: \", cv_scores)\n",
    "print(\"Mean CV score: {:.3f}\".format(cv_scores.mean()))\n",
    "\n",
    "#Classification Report:\n",
    "# Predict on the test set\n",
    "y_pred = kmlp2.predict(x_test)\n",
    "\n",
    "# Generate classification report\n",
    "report = classification_report(y_test, y_pred)\n",
    "\n",
    "print(\"Classification Report:\")\n",
    "print(report)\n",
    "\n",
    "# Generate confusion matrix\n",
    "cm = confusion_matrix(y_test, y_pred)\n",
    "print(\"Confusion matrix:\")\n",
    "print(cm)\n",
    "\n",
    "# Create a heatmap for visualization\n",
    "plt.figure(figsize=(8, 6))\n",
    "sns.heatmap(cm, annot=True, fmt=\"d\", cmap=\"Blues\", cbar=False)\n",
    "plt.xlabel(\"Predicted Labels\")\n",
    "plt.ylabel(\"True Labels\")\n",
    "plt.title(\"Confusion Matrix\")\n",
    "plt.show()\n",
    "\n",
    "# Evaluating the model:\n",
    "\n",
    "print('Mean Absolute Error:', metrics.mean_absolute_error(y_test, y_pred))  \n",
    "print('Mean Squared Error:', metrics.mean_squared_error(y_test, y_pred))  \n",
    "print('Root Mean Squared Error:', np.sqrt(metrics.mean_squared_error(y_test, y_pred)))"
   ]
  },
  {
   "cell_type": "code",
   "execution_count": 118,
   "id": "ab08bebd",
   "metadata": {},
   "outputs": [
    {
     "name": "stdout",
     "output_type": "stream",
     "text": [
      "Accuracy on training set: 0.846\n",
      "Accuracy on test set: 0.807\n"
     ]
    }
   ],
   "source": [
    "#Let’s increase the number of iterations:\n",
    "\n",
    "kmlp3 = MLPClassifier(max_iter=1000, random_state=42)\n",
    "kmlp3.fit(x1_train_scaled, y_train1)\n",
    "print(\"Accuracy on training set: {:.3f}\".format(kmlp3.score(x1_train_scaled, y_train1)))\n",
    "print(\"Accuracy on test set: {:.3f}\".format(kmlp3.score(x1_test_scaled, y_test1)))\n",
    "\n",
    "# Perform 5-fold cross-validation\n",
    "cv_scores = cross_val_score(kmlp3, x_train, y_train, cv=5)\n",
    "# Print the cross-validation scores\n",
    "print(\"Cross-validation scores: \", cv_scores)\n",
    "print(\"Mean CV score: {:.3f}\".format(cv_scores.mean()))\n",
    "\n",
    "#Classification Report:\n",
    "# Predict on the test set\n",
    "y_pred = kmlp3.predict(x_test)\n",
    "\n",
    "# Generate classification report\n",
    "report = classification_report(y_test, y_pred)\n",
    "\n",
    "print(\"Classification Report:\")\n",
    "print(report)\n",
    "\n",
    "# Generate confusion matrix\n",
    "cm = confusion_matrix(y_test, y_pred)\n",
    "print(\"Confusion matrix:\")\n",
    "print(cm)\n",
    "\n",
    "# Create a heatmap for visualization\n",
    "plt.figure(figsize=(8, 6))\n",
    "sns.heatmap(cm, annot=True, fmt=\"d\", cmap=\"Blues\", cbar=False)\n",
    "plt.xlabel(\"Predicted Labels\")\n",
    "plt.ylabel(\"True Labels\")\n",
    "plt.title(\"Confusion Matrix\")\n",
    "plt.show()\n",
    "\n",
    "# Evaluating the model:\n",
    "\n",
    "print('Mean Absolute Error:', metrics.mean_absolute_error(y_test, y_pred))  \n",
    "print('Mean Squared Error:', metrics.mean_squared_error(y_test, y_pred))  \n",
    "print('Root Mean Squared Error:', np.sqrt(metrics.mean_squared_error(y_test, y_pred)))"
   ]
  },
  {
   "cell_type": "code",
   "execution_count": null,
   "id": "a90d32b3",
   "metadata": {},
   "outputs": [],
   "source": [
    "kmlp4 = MLPClassifier(max_iter=1000, alpha=1, random_state=42)\n",
    "kmlp4.fit(x1_train_scaled, y_train1)\n",
    "print(\"Accuracy on training set: {:.3f}\".format(kmlp4.score(x1_train_scaled, y_train1)))\n",
    "print(\"Accuracy on test set: {:.3f}\".format(kmlp4.score(x1_test_scaled, y_test1)))\n",
    "\n",
    "# Perform 5-fold cross-validation\n",
    "cv_scores = cross_val_score(kmlp4, x_train, y_train, cv=5)\n",
    "# Print the cross-validation scores\n",
    "print(\"Cross-validation scores: \", cv_scores)\n",
    "print(\"Mean CV score: {:.3f}\".format(cv_scores.mean()))\n",
    "\n",
    "#Classification Report:\n",
    "# Predict on the test set\n",
    "y_pred = kmlp4.predict(x_test)\n",
    "\n",
    "# Generate classification report\n",
    "report = classification_report(y_test, y_pred)\n",
    "\n",
    "print(\"Classification Report:\")\n",
    "print(report)\n",
    "\n",
    "# Generate confusion matrix\n",
    "cm = confusion_matrix(y_test, y_pred)\n",
    "print(\"Confusion matrix:\")\n",
    "print(cm)\n",
    "\n",
    "# Create a heatmap for visualization\n",
    "plt.figure(figsize=(8, 6))\n",
    "sns.heatmap(cm, annot=True, fmt=\"d\", cmap=\"Blues\", cbar=False)\n",
    "plt.xlabel(\"Predicted Labels\")\n",
    "plt.ylabel(\"True Labels\")\n",
    "plt.title(\"Confusion Matrix\")\n",
    "plt.show()\n",
    "\n",
    "# Evaluating the model:\n",
    "\n",
    "print('Mean Absolute Error:', metrics.mean_absolute_error(y_test, y_pred))  \n",
    "print('Mean Squared Error:', metrics.mean_squared_error(y_test, y_pred))  \n",
    "print('Root Mean Squared Error:', np.sqrt(metrics.mean_squared_error(y_test, y_pred)))"
   ]
  },
  {
   "cell_type": "code",
   "execution_count": 120,
   "id": "16a48fcd",
   "metadata": {},
   "outputs": [
    {
     "data": {
      "text/html": [
       "<div>\n",
       "<style scoped>\n",
       "    .dataframe tbody tr th:only-of-type {\n",
       "        vertical-align: middle;\n",
       "    }\n",
       "\n",
       "    .dataframe tbody tr th {\n",
       "        vertical-align: top;\n",
       "    }\n",
       "\n",
       "    .dataframe thead th {\n",
       "        text-align: right;\n",
       "    }\n",
       "</style>\n",
       "<table border=\"1\" class=\"dataframe\">\n",
       "  <thead>\n",
       "    <tr style=\"text-align: right;\">\n",
       "      <th></th>\n",
       "      <th>Algorithms</th>\n",
       "      <th>Tests Accuracy</th>\n",
       "    </tr>\n",
       "  </thead>\n",
       "  <tbody>\n",
       "    <tr>\n",
       "      <th>4</th>\n",
       "      <td>GaussianNB</td>\n",
       "      <td>0.827067</td>\n",
       "    </tr>\n",
       "    <tr>\n",
       "      <th>8</th>\n",
       "      <td>SVM minmaxscaler</td>\n",
       "      <td>0.826933</td>\n",
       "    </tr>\n",
       "    <tr>\n",
       "      <th>7</th>\n",
       "      <td>Support Vector Machine</td>\n",
       "      <td>0.825467</td>\n",
       "    </tr>\n",
       "    <tr>\n",
       "      <th>12</th>\n",
       "      <td>DL_MLP_alpha_parameter</td>\n",
       "      <td>0.824000</td>\n",
       "    </tr>\n",
       "    <tr>\n",
       "      <th>5</th>\n",
       "      <td>GaussianNB Max depth</td>\n",
       "      <td>0.821333</td>\n",
       "    </tr>\n",
       "    <tr>\n",
       "      <th>1</th>\n",
       "      <td>Logistic Regression</td>\n",
       "      <td>0.820400</td>\n",
       "    </tr>\n",
       "    <tr>\n",
       "      <th>9</th>\n",
       "      <td>DL-MLP</td>\n",
       "      <td>0.819600</td>\n",
       "    </tr>\n",
       "    <tr>\n",
       "      <th>10</th>\n",
       "      <td>DL-MLPScalar</td>\n",
       "      <td>0.812933</td>\n",
       "    </tr>\n",
       "    <tr>\n",
       "      <th>11</th>\n",
       "      <td>DL_MLP_incr_Iteration</td>\n",
       "      <td>0.807067</td>\n",
       "    </tr>\n",
       "    <tr>\n",
       "      <th>6</th>\n",
       "      <td>GaussianNB Low Length rate</td>\n",
       "      <td>0.805867</td>\n",
       "    </tr>\n",
       "    <tr>\n",
       "      <th>3</th>\n",
       "      <td>Random Forest</td>\n",
       "      <td>0.801333</td>\n",
       "    </tr>\n",
       "    <tr>\n",
       "      <th>0</th>\n",
       "      <td>k-Nearest Neighbors</td>\n",
       "      <td>0.781733</td>\n",
       "    </tr>\n",
       "    <tr>\n",
       "      <th>2</th>\n",
       "      <td>Decision Trees</td>\n",
       "      <td>0.742133</td>\n",
       "    </tr>\n",
       "  </tbody>\n",
       "</table>\n",
       "</div>"
      ],
      "text/plain": [
       "                    Algorithms  Tests Accuracy\n",
       "4                   GaussianNB        0.827067\n",
       "8             SVM minmaxscaler        0.826933\n",
       "7       Support Vector Machine        0.825467\n",
       "12      DL_MLP_alpha_parameter        0.824000\n",
       "5         GaussianNB Max depth        0.821333\n",
       "1          Logistic Regression        0.820400\n",
       "9                       DL-MLP        0.819600\n",
       "10                DL-MLPScalar        0.812933\n",
       "11       DL_MLP_incr_Iteration        0.807067\n",
       "6   GaussianNB Low Length rate        0.805867\n",
       "3                Random Forest        0.801333\n",
       "0          k-Nearest Neighbors        0.781733\n",
       "2               Decision Trees        0.742133"
      ]
     },
     "execution_count": 120,
     "metadata": {},
     "output_type": "execute_result"
    }
   ],
   "source": [
    "#Comparing the algorithms performance\n",
    "\n",
    "algorithms = ['k-Nearest Neighbors','Logistic Regression', 'Decision Trees', 'Random Forest',\n",
    " 'GaussianNB','GaussianNB Max depth','GaussianNB Low Length rate', 'Support Vector Machine','SVM minmaxscaler','DL-MLP',\n",
    "              'DL-MLPScalar','DL_MLP_incr_Iteration','DL_MLP_alpha_parameter']\n",
    "tests_accuracy = [kknn.score(x_test1, y_test1), klogreg.score(x_test1, y_test1), ktree.score(x_test1, y_test1),\n",
    " krf.score(x_test1, y_test1), kgb.score(x_test1, y_test1),kgb1.score(x_test1, y_test1),kgb2.score(x_test1, y_test1),ksvc.score(x_test1, y_test1),\n",
    "ksvc1.score(kx_test_scaled, y_test1),kmlp1.score(x_test1, y_test1),kmlp2.score(x1_test_scaled, y_test1),kmlp3.score(x1_test_scaled, y_test1),\n",
    "kmlp4.score(x1_test_scaled, y_test1)\n",
    "]\n",
    "\n",
    "\n",
    "compare_algorithms = pd.DataFrame({ \"Algorithms\": algorithms, \"Tests Accuracy\": tests_accuracy })\n",
    "compare_algorithms.sort_values(by = \"Tests Accuracy\", ascending = False)"
   ]
  },
  {
   "cell_type": "code",
   "execution_count": 122,
   "id": "1f2b7532",
   "metadata": {},
   "outputs": [
    {
     "data": {
      "image/png": "[encoded data removed]",
      "text/plain": [
       "<Figure size 576x576 with 1 Axes>"
      ]
     },
     "metadata": {
      "needs_background": "light"
     },
     "output_type": "display_data"
    }
   ],
   "source": [
    "import matplotlib.pyplot as plt\n",
    "%matplotlib inline\n",
    "plt.figure(figsize=(8,8))\n",
    "sns.barplot(x = \"Tests Accuracy\", y = \"Algorithms\", data = compare_algorithms)\n",
    "plt.show()"
   ]
  },
  {
   "cell_type": "code",
   "execution_count": 148,
   "id": "ce7292e6",
   "metadata": {},
   "outputs": [],
   "source": [
    "# As we expected KD suppose to work fine with algorithms, but here it is not, the comparisons shows maximum prediction accuracy is \n",
    "# GauusianNB and accuracy is 82.70.  So here to build credit score card we are going to use the algorithm DL_MLP_alpha_parameter \n",
    "# prediction accuracy is 83.67.\n",
    "\n",
    "#Scorecard Tunning:\n",
    "#base_score = 1000, base_odds = 35 , pdo = 80, rate = 2\n",
    "#The actual meaning is that when the base odds are 35, the benchmark score is 1000, \n",
    "#and when the ratio is twice the benchmark, the benchmark score drops by 80 points.\n",
    "\n",
    "# scorecard tuning\n",
    "card = toad.ScoreCard(\n",
    "    combiner = combiner,\n",
    "    transer = t,\n",
    "    class_weight = 'balanced',\n",
    "    C=0.1,\n",
    "    base_score = 1000,\n",
    "    base_odds = 35 ,\n",
    "    pdo = 80,\n",
    "    rate = 2\n",
    ")"
   ]
  },
  {
   "cell_type": "code",
   "execution_count": 149,
   "id": "958aea8b",
   "metadata": {},
   "outputs": [
    {
     "data": {
      "text/plain": [
       "ScoreCard(base_score=1000,\n",
       "          combiner=<toad.transform.Combiner object at 0x0000022D34047CA0>,\n",
       "          pdo=80,\n",
       "          transer=<toad.transform.WOETransformer object at 0x0000022D33EF1760>)"
      ]
     },
     "execution_count": 149,
     "metadata": {},
     "output_type": "execute_result"
    }
   ],
   "source": [
    "card.fit(train_woe[features_use], train_woe['label'])\n"
   ]
  },
  {
   "cell_type": "code",
   "execution_count": 150,
   "id": "23be80a8",
   "metadata": {},
   "outputs": [],
   "source": [
    "# save 5: save the model to disk\n",
    "filename = 'CreditScore_save5_ScoreCard.pkl'\n",
    "pickle.dump(card, open(filename, 'wb'))"
   ]
  },
  {
   "cell_type": "code",
   "execution_count": 151,
   "id": "60d2fe98",
   "metadata": {},
   "outputs": [
    {
     "data": {
      "text/plain": [
       "count    7501.000000\n",
       "mean      626.896946\n",
       "std       112.420376\n",
       "min       166.880486\n",
       "25%       598.389363\n",
       "50%       659.374155\n",
       "75%       700.155949\n",
       "max       804.407003\n",
       "Name: CreditScore, dtype: float64"
      ]
     },
     "execution_count": 151,
     "metadata": {},
     "output_type": "execute_result"
    }
   ],
   "source": [
    "#inference on test data\n",
    "test['CreditScore'] = card.predict(test)\n",
    "test['CreditScore'].describe()"
   ]
  },
  {
   "cell_type": "code",
   "execution_count": 156,
   "id": "7c691dbf",
   "metadata": {},
   "outputs": [
    {
     "data": {
      "text/plain": [
       "count    30000.000000\n",
       "mean       617.172826\n",
       "std        117.602057\n",
       "min        163.031919\n",
       "25%        578.161670\n",
       "50%        653.563403\n",
       "75%        694.908149\n",
       "max        812.041387\n",
       "Name: CreditScore, dtype: float64"
      ]
     },
     "execution_count": 156,
     "metadata": {},
     "output_type": "execute_result"
    }
   ],
   "source": [
    "#inference on whole data\n",
    "df['CreditScore'] = card.predict(df)\n",
    "df['CreditScore'].describe()\n",
    "# df.head()"
   ]
  },
  {
   "cell_type": "code",
   "execution_count": 154,
   "id": "1070a771",
   "metadata": {},
   "outputs": [
    {
     "data": {
      "text/plain": [
       "21"
      ]
     },
     "execution_count": 154,
     "metadata": {},
     "output_type": "execute_result"
    }
   ],
   "source": [
    "#output the scorecard\n",
    "final_card_score=card.export()\n",
    "len(final_card_score)\n",
    "# x_train = train_woe[features_use]\n",
    "# y_train=train_woe['label']"
   ]
  },
  {
   "cell_type": "code",
   "execution_count": 159,
   "id": "f8f51f99",
   "metadata": {},
   "outputs": [
    {
     "data": {
      "text/html": [
       "<div>\n",
       "<style scoped>\n",
       "    .dataframe tbody tr th:only-of-type {\n",
       "        vertical-align: middle;\n",
       "    }\n",
       "\n",
       "    .dataframe tbody tr th {\n",
       "        vertical-align: top;\n",
       "    }\n",
       "\n",
       "    .dataframe thead th {\n",
       "        text-align: right;\n",
       "    }\n",
       "</style>\n",
       "<table border=\"1\" class=\"dataframe\">\n",
       "  <thead>\n",
       "    <tr style=\"text-align: right;\">\n",
       "      <th></th>\n",
       "      <th>variable</th>\n",
       "      <th>binning</th>\n",
       "      <th>score</th>\n",
       "    </tr>\n",
       "  </thead>\n",
       "  <tbody>\n",
       "    <tr>\n",
       "      <th>0</th>\n",
       "      <td>PAY_4</td>\n",
       "      <td>[-inf ~ 1)</td>\n",
       "      <td>31.95</td>\n",
       "    </tr>\n",
       "    <tr>\n",
       "      <th>1</th>\n",
       "      <td>PAY_4</td>\n",
       "      <td>[1 ~ inf)</td>\n",
       "      <td>6.97</td>\n",
       "    </tr>\n",
       "    <tr>\n",
       "      <th>2</th>\n",
       "      <td>EDUCATION</td>\n",
       "      <td>[-inf ~ 2)</td>\n",
       "      <td>28.49</td>\n",
       "    </tr>\n",
       "    <tr>\n",
       "      <th>3</th>\n",
       "      <td>EDUCATION</td>\n",
       "      <td>[2 ~ inf)</td>\n",
       "      <td>27.82</td>\n",
       "    </tr>\n",
       "    <tr>\n",
       "      <th>4</th>\n",
       "      <td>BILL_AMT4</td>\n",
       "      <td>[-inf ~ 2501.0)</td>\n",
       "      <td>27.99</td>\n",
       "    </tr>\n",
       "    <tr>\n",
       "      <th>5</th>\n",
       "      <td>BILL_AMT4</td>\n",
       "      <td>[2501.0 ~ inf)</td>\n",
       "      <td>28.06</td>\n",
       "    </tr>\n",
       "    <tr>\n",
       "      <th>6</th>\n",
       "      <td>BILL_AMT6</td>\n",
       "      <td>[-inf ~ 19195.0)</td>\n",
       "      <td>27.22</td>\n",
       "    </tr>\n",
       "    <tr>\n",
       "      <th>7</th>\n",
       "      <td>BILL_AMT6</td>\n",
       "      <td>[19195.0 ~ 50442.0)</td>\n",
       "      <td>31.96</td>\n",
       "    </tr>\n",
       "    <tr>\n",
       "      <th>8</th>\n",
       "      <td>BILL_AMT6</td>\n",
       "      <td>[50442.0 ~ inf)</td>\n",
       "      <td>25.93</td>\n",
       "    </tr>\n",
       "    <tr>\n",
       "      <th>9</th>\n",
       "      <td>BILL_AMT5</td>\n",
       "      <td>[-inf ~ 2395.0)</td>\n",
       "      <td>28.15</td>\n",
       "    </tr>\n",
       "    <tr>\n",
       "      <th>10</th>\n",
       "      <td>BILL_AMT5</td>\n",
       "      <td>[2395.0 ~ 8110.0)</td>\n",
       "      <td>32.00</td>\n",
       "    </tr>\n",
       "    <tr>\n",
       "      <th>11</th>\n",
       "      <td>BILL_AMT5</td>\n",
       "      <td>[8110.0 ~ 35288.0)</td>\n",
       "      <td>25.72</td>\n",
       "    </tr>\n",
       "    <tr>\n",
       "      <th>12</th>\n",
       "      <td>BILL_AMT5</td>\n",
       "      <td>[35288.0 ~ inf)</td>\n",
       "      <td>29.18</td>\n",
       "    </tr>\n",
       "    <tr>\n",
       "      <th>13</th>\n",
       "      <td>BILL_AMT1</td>\n",
       "      <td>[-inf ~ 2501.0)</td>\n",
       "      <td>22.44</td>\n",
       "    </tr>\n",
       "    <tr>\n",
       "      <th>14</th>\n",
       "      <td>BILL_AMT1</td>\n",
       "      <td>[2501.0 ~ inf)</td>\n",
       "      <td>29.65</td>\n",
       "    </tr>\n",
       "    <tr>\n",
       "      <th>15</th>\n",
       "      <td>PAY_AMT5</td>\n",
       "      <td>[-inf ~ 1.0)</td>\n",
       "      <td>22.75</td>\n",
       "    </tr>\n",
       "    <tr>\n",
       "      <th>16</th>\n",
       "      <td>PAY_AMT5</td>\n",
       "      <td>[1.0 ~ 1880.0)</td>\n",
       "      <td>26.83</td>\n",
       "    </tr>\n",
       "    <tr>\n",
       "      <th>17</th>\n",
       "      <td>PAY_AMT5</td>\n",
       "      <td>[1880.0 ~ 10000.0)</td>\n",
       "      <td>30.75</td>\n",
       "    </tr>\n",
       "    <tr>\n",
       "      <th>18</th>\n",
       "      <td>PAY_AMT5</td>\n",
       "      <td>[10000.0 ~ inf)</td>\n",
       "      <td>38.13</td>\n",
       "    </tr>\n",
       "    <tr>\n",
       "      <th>19</th>\n",
       "      <td>PAY_2</td>\n",
       "      <td>[-inf ~ 2)</td>\n",
       "      <td>32.36</td>\n",
       "    </tr>\n",
       "    <tr>\n",
       "      <th>20</th>\n",
       "      <td>PAY_2</td>\n",
       "      <td>[2 ~ inf)</td>\n",
       "      <td>11.39</td>\n",
       "    </tr>\n",
       "    <tr>\n",
       "      <th>21</th>\n",
       "      <td>PAY_AMT1</td>\n",
       "      <td>[-inf ~ 6.0)</td>\n",
       "      <td>11.40</td>\n",
       "    </tr>\n",
       "    <tr>\n",
       "      <th>22</th>\n",
       "      <td>PAY_AMT1</td>\n",
       "      <td>[6.0 ~ 4902.0)</td>\n",
       "      <td>28.27</td>\n",
       "    </tr>\n",
       "    <tr>\n",
       "      <th>23</th>\n",
       "      <td>PAY_AMT1</td>\n",
       "      <td>[4902.0 ~ inf)</td>\n",
       "      <td>42.76</td>\n",
       "    </tr>\n",
       "    <tr>\n",
       "      <th>24</th>\n",
       "      <td>PAY_3</td>\n",
       "      <td>[-inf ~ 2)</td>\n",
       "      <td>34.74</td>\n",
       "    </tr>\n",
       "    <tr>\n",
       "      <th>25</th>\n",
       "      <td>PAY_3</td>\n",
       "      <td>[2 ~ inf)</td>\n",
       "      <td>-0.04</td>\n",
       "    </tr>\n",
       "    <tr>\n",
       "      <th>26</th>\n",
       "      <td>PAY_AMT4</td>\n",
       "      <td>[-inf ~ 1.0)</td>\n",
       "      <td>19.58</td>\n",
       "    </tr>\n",
       "    <tr>\n",
       "      <th>27</th>\n",
       "      <td>PAY_AMT4</td>\n",
       "      <td>[1.0 ~ 1506.0)</td>\n",
       "      <td>26.99</td>\n",
       "    </tr>\n",
       "    <tr>\n",
       "      <th>28</th>\n",
       "      <td>PAY_AMT4</td>\n",
       "      <td>[1506.0 ~ 3946.0)</td>\n",
       "      <td>30.04</td>\n",
       "    </tr>\n",
       "    <tr>\n",
       "      <th>29</th>\n",
       "      <td>PAY_AMT4</td>\n",
       "      <td>[3946.0 ~ inf)</td>\n",
       "      <td>36.57</td>\n",
       "    </tr>\n",
       "  </tbody>\n",
       "</table>\n",
       "</div>"
      ],
      "text/plain": [
       "     variable              binning  score\n",
       "0       PAY_4           [-inf ~ 1)  31.95\n",
       "1       PAY_4            [1 ~ inf)   6.97\n",
       "2   EDUCATION           [-inf ~ 2)  28.49\n",
       "3   EDUCATION            [2 ~ inf)  27.82\n",
       "4   BILL_AMT4      [-inf ~ 2501.0)  27.99\n",
       "5   BILL_AMT4       [2501.0 ~ inf)  28.06\n",
       "6   BILL_AMT6     [-inf ~ 19195.0)  27.22\n",
       "7   BILL_AMT6  [19195.0 ~ 50442.0)  31.96\n",
       "8   BILL_AMT6      [50442.0 ~ inf)  25.93\n",
       "9   BILL_AMT5      [-inf ~ 2395.0)  28.15\n",
       "10  BILL_AMT5    [2395.0 ~ 8110.0)  32.00\n",
       "11  BILL_AMT5   [8110.0 ~ 35288.0)  25.72\n",
       "12  BILL_AMT5      [35288.0 ~ inf)  29.18\n",
       "13  BILL_AMT1      [-inf ~ 2501.0)  22.44\n",
       "14  BILL_AMT1       [2501.0 ~ inf)  29.65\n",
       "15   PAY_AMT5         [-inf ~ 1.0)  22.75\n",
       "16   PAY_AMT5       [1.0 ~ 1880.0)  26.83\n",
       "17   PAY_AMT5   [1880.0 ~ 10000.0)  30.75\n",
       "18   PAY_AMT5      [10000.0 ~ inf)  38.13\n",
       "19      PAY_2           [-inf ~ 2)  32.36\n",
       "20      PAY_2            [2 ~ inf)  11.39\n",
       "21   PAY_AMT1         [-inf ~ 6.0)  11.40\n",
       "22   PAY_AMT1       [6.0 ~ 4902.0)  28.27\n",
       "23   PAY_AMT1       [4902.0 ~ inf)  42.76\n",
       "24      PAY_3           [-inf ~ 2)  34.74\n",
       "25      PAY_3            [2 ~ inf)  -0.04\n",
       "26   PAY_AMT4         [-inf ~ 1.0)  19.58\n",
       "27   PAY_AMT4       [1.0 ~ 1506.0)  26.99\n",
       "28   PAY_AMT4    [1506.0 ~ 3946.0)  30.04\n",
       "29   PAY_AMT4       [3946.0 ~ inf)  36.57"
      ]
     },
     "execution_count": 159,
     "metadata": {},
     "output_type": "execute_result"
    }
   ],
   "source": [
    "#transform the scorecard into dataframe and save to csv\n",
    "# keys = list(card.export().keys())\n",
    "# score_card_df = pd.DataFrame()\n",
    "# for n in keys:\n",
    "#     temp = pd.DataFrame.from_dict(final_card_score[n], orient='index')\n",
    "#     temp = temp.reset_index()\n",
    "#     temp.columns= ['binning','score']\n",
    "#     temp['variable'] = n\n",
    "#     temp = temp[['variable','binning','score']]\n",
    "#     score_card_df=score_card_df.append(temp)\n",
    "# score_card_df.head(30)\n",
    "\n",
    "dfs_to_concat = []\n",
    "\n",
    "for n in keys:\n",
    "    temp = pd.DataFrame.from_dict(final_card_score[n], orient='index')\n",
    "    temp = temp.reset_index()\n",
    "    temp.columns = ['binning', 'score']\n",
    "    temp['variable'] = n\n",
    "    temp = temp[['variable', 'binning', 'score']]\n",
    "    dfs_to_concat.append(temp)\n",
    "\n",
    "score_card_df = pd.concat(dfs_to_concat, ignore_index=True)\n",
    "\n",
    "score_card_df.head(30)"
   ]
  },
  {
   "cell_type": "code",
   "execution_count": 160,
   "id": "fc57ce21",
   "metadata": {},
   "outputs": [],
   "source": [
    "#save 6: save the scorcard\n",
    "score_card_df.to_csv('CreditScore_save6_score_card_df.csv',index=False)"
   ]
  },
  {
   "cell_type": "code",
   "execution_count": 164,
   "id": "6bb9acc0",
   "metadata": {},
   "outputs": [
    {
     "data": {
      "image/png": "[encoded data removed]",
      "text/plain": [
       "<Figure size 864x720 with 1 Axes>"
      ]
     },
     "metadata": {
      "needs_background": "light"
     },
     "output_type": "display_data"
    }
   ],
   "source": [
    "plt.figure(figsize=(12,10))\n",
    "import random\n",
    "import numpy\n",
    "from matplotlib import pyplot as plt\n",
    "\n",
    "w = 40\n",
    "n = math.ceil((df['CreditScore'].max() - df['CreditScore'].min())/w)\n",
    "#bins = numpy.linspace(-10, 10, 100)\n",
    "\n",
    "plt.hist(df[df.label==1].CreditScore, alpha=0.5, label='Blue',bins = n)\n",
    "plt.hist(df[df.label==0].CreditScore, alpha=0.5, label='Pink',bins = n)\n",
    "plt.legend(loc='upper left')\n",
    "plt.title('Credit Score Distribution: Whole Dataset',size=15)\n",
    "plt.show()"
   ]
  },
  {
   "cell_type": "code",
   "execution_count": 167,
   "id": "469e5178",
   "metadata": {},
   "outputs": [
    {
     "data": {
      "image/png": "[encoded data removed]",
      "text/plain": [
       "<Figure size 864x720 with 1 Axes>"
      ]
     },
     "metadata": {
      "needs_background": "light"
     },
     "output_type": "display_data"
    }
   ],
   "source": [
    "plt.figure(figsize=(12,10))\n",
    "import random\n",
    "import numpy\n",
    "from matplotlib import pyplot as plt\n",
    "\n",
    "w = 40\n",
    "n = math.ceil((test['CreditScore'].max() - test['CreditScore'].min())/w)\n",
    "#bins = numpy.linspace(-10, 10, 100)\n",
    "\n",
    "plt.hist(test[test.label==1].CreditScore, alpha=0.5, label='Blue',bins = n)\n",
    "plt.hist(test[test.label==0].CreditScore, alpha=0.5, label='Pink',bins = n)\n",
    "plt.legend(loc='upper left')\n",
    "plt.title('Credit Score Distribution: Test',size=15)\n",
    "plt.show()"
   ]
  },
  {
   "cell_type": "code",
   "execution_count": 168,
   "id": "61c28ffa",
   "metadata": {},
   "outputs": [],
   "source": [
    "#save 7: save the scorcard\n",
    "df.to_csv('OrderScore_save7_whole_data.csv',index=False)"
   ]
  },
  {
   "cell_type": "code",
   "execution_count": null,
   "id": "9fb14f18",
   "metadata": {},
   "outputs": [],
   "source": []
  }
 ],
 "metadata": {
  "kernelspec": {
   "display_name": "Python 3 (ipykernel)",
   "language": "python",
   "name": "python3"
  },
  "language_info": {
   "codemirror_mode": {
    "name": "ipython",
    "version": 3
   },
   "file_extension": ".py",
   "mimetype": "text/x-python",
   "name": "python",
   "nbconvert_exporter": "python",
   "pygments_lexer": "ipython3",
   "version": "3.11.4"
  }
 },
 "nbformat": 4,
 "nbformat_minor": 5
}
